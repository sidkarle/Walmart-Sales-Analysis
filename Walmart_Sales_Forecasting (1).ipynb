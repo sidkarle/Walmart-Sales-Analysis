{
  "metadata": {
    "kernelspec": {
      "language": "python",
      "display_name": "Python 3",
      "name": "python3"
    },
    "language_info": {
      "pygments_lexer": "ipython3",
      "nbconvert_exporter": "python",
      "version": "3.6.4",
      "file_extension": ".py",
      "codemirror_mode": {
        "name": "ipython",
        "version": 3
      },
      "name": "python",
      "mimetype": "text/x-python"
    },
    "colab": {
      "provenance": []
    }
  },
  "nbformat_minor": 0,
  "nbformat": 4,
  "cells": [
    {
      "cell_type": "markdown",
      "source": [
        "# Background"
      ],
      "metadata": {
        "id": "rKZDraP7PkxE"
      }
    },
    {
      "cell_type": "markdown",
      "source": [
        "Walmart is a renowned retail corporation that operates a chain of hypermarkets. Here, Walmart has provided a data combining of 45 stores including store information and monthly sales. The data is provided on weekly basis. Walmart tries to find the impact of holidays on the sales of store. For which it has included four holidays’ weeks into the dataset which are Christmas, Thanksgiving, Super bowl, Labor Day. Here we are owing to Analyze the dataset given. Before doing that, let me point out the objective of this analysis.\n",
        "<br/>\n",
        "<br/>\n",
        "<b/>You can download the dataset from here:</b>\n",
        "https://www.kaggle.com/datasets/aslanahmedov/walmart-sales-forecast"
      ],
      "metadata": {
        "id": "VMCdxTsMPkxG"
      }
    },
    {
      "cell_type": "markdown",
      "source": [
        "# Business Objectives"
      ],
      "metadata": {
        "id": "l0ySaVeUPkxJ"
      }
    },
    {
      "cell_type": "markdown",
      "source": [
        "Our Main Objective is to predict sales of store in a week. As in dataset size and time related data are given as feature, so analyze if sales are impacted by time-based factors and space- based factor. Most importantly how inclusion of holidays in a week soars the sales in store?"
      ],
      "metadata": {
        "id": "84GnYRDUPkxK"
      }
    },
    {
      "cell_type": "markdown",
      "source": [
        "# Importing Necessary Libraries and Data"
      ],
      "metadata": {
        "id": "AFRFrVghPkxL"
      }
    },
    {
      "cell_type": "code",
      "source": [
        "import numpy as np      # To use np.arrays\n",
        "import pandas as pd     # To use dataframes\n",
        "from pandas.plotting import autocorrelation_plot as auto_corr\n",
        "\n",
        "# To plot\n",
        "import matplotlib.pyplot as plt\n",
        "%matplotlib inline\n",
        "import matplotlib as mpl\n",
        "import seaborn as sns\n",
        "\n",
        "#For date-time\n",
        "import math\n",
        "from datetime import datetime\n",
        "from datetime import timedelta\n",
        "\n",
        "# Another imports if needs\n",
        "import itertools\n",
        "import statsmodels.api as sm\n",
        "import statsmodels.tsa.api as smt\n",
        "import statsmodels.formula.api as smf\n",
        "\n",
        "from sklearn.model_selection import train_test_split\n",
        "from statsmodels.tsa.seasonal import seasonal_decompose as season\n",
        "from sklearn.metrics import mean_squared_error, mean_absolute_error\n",
        "from sklearn.metrics import accuracy_score, balanced_accuracy_score\n",
        "from sklearn.model_selection import cross_val_score\n",
        "from sklearn.pipeline import make_pipeline, Pipeline\n",
        "from sklearn.ensemble import RandomForestRegressor\n",
        "from sklearn import metrics\n",
        "from sklearn.linear_model import LinearRegression\n",
        "from sklearn import preprocessing\n",
        "\n",
        "from statsmodels.tsa.holtwinters import ExponentialSmoothing\n",
        "from statsmodels.tsa.stattools import adfuller, acf, pacf\n",
        "from statsmodels.tsa.arima_model import ARIMA\n",
        "!pip install pmdarima\n",
        "from pmdarima.utils import decomposed_plot\n",
        "from pmdarima.arima import decompose\n",
        "from pmdarima import auto_arima\n",
        "\n",
        "\n",
        "import warnings\n",
        "warnings.filterwarnings(\"ignore\")\n",
        "\n"
      ],
      "metadata": {
        "execution": {
          "iopub.status.busy": "2022-04-22T05:35:55.320993Z",
          "iopub.execute_input": "2022-04-22T05:35:55.321363Z",
          "iopub.status.idle": "2022-04-22T05:36:10.591102Z",
          "shell.execute_reply.started": "2022-04-22T05:35:55.321275Z",
          "shell.execute_reply": "2022-04-22T05:36:10.590237Z"
        },
        "trusted": true,
        "id": "LuC7ySwQPkxM",
        "outputId": "bec87555-7378-41ba-cd1a-50b175b3553b",
        "colab": {
          "base_uri": "https://localhost:8080/"
        }
      },
      "execution_count": null,
      "outputs": [
        {
          "output_type": "stream",
          "name": "stdout",
          "text": [
            "Collecting pmdarima\n",
            "  Downloading pmdarima-2.0.4-cp310-cp310-manylinux_2_17_x86_64.manylinux2014_x86_64.manylinux_2_28_x86_64.whl.metadata (7.8 kB)\n",
            "Requirement already satisfied: joblib>=0.11 in /usr/local/lib/python3.10/dist-packages (from pmdarima) (1.4.2)\n",
            "Requirement already satisfied: Cython!=0.29.18,!=0.29.31,>=0.29 in /usr/local/lib/python3.10/dist-packages (from pmdarima) (3.0.11)\n",
            "Requirement already satisfied: numpy>=1.21.2 in /usr/local/lib/python3.10/dist-packages (from pmdarima) (1.26.4)\n",
            "Requirement already satisfied: pandas>=0.19 in /usr/local/lib/python3.10/dist-packages (from pmdarima) (2.2.2)\n",
            "Requirement already satisfied: scikit-learn>=0.22 in /usr/local/lib/python3.10/dist-packages (from pmdarima) (1.5.2)\n",
            "Requirement already satisfied: scipy>=1.3.2 in /usr/local/lib/python3.10/dist-packages (from pmdarima) (1.13.1)\n",
            "Requirement already satisfied: statsmodels>=0.13.2 in /usr/local/lib/python3.10/dist-packages (from pmdarima) (0.14.4)\n",
            "Requirement already satisfied: urllib3 in /usr/local/lib/python3.10/dist-packages (from pmdarima) (2.2.3)\n",
            "Requirement already satisfied: setuptools!=50.0.0,>=38.6.0 in /usr/local/lib/python3.10/dist-packages (from pmdarima) (75.1.0)\n",
            "Requirement already satisfied: packaging>=17.1 in /usr/local/lib/python3.10/dist-packages (from pmdarima) (24.2)\n",
            "Requirement already satisfied: python-dateutil>=2.8.2 in /usr/local/lib/python3.10/dist-packages (from pandas>=0.19->pmdarima) (2.8.2)\n",
            "Requirement already satisfied: pytz>=2020.1 in /usr/local/lib/python3.10/dist-packages (from pandas>=0.19->pmdarima) (2024.2)\n",
            "Requirement already satisfied: tzdata>=2022.7 in /usr/local/lib/python3.10/dist-packages (from pandas>=0.19->pmdarima) (2024.2)\n",
            "Requirement already satisfied: threadpoolctl>=3.1.0 in /usr/local/lib/python3.10/dist-packages (from scikit-learn>=0.22->pmdarima) (3.5.0)\n",
            "Requirement already satisfied: patsy>=0.5.6 in /usr/local/lib/python3.10/dist-packages (from statsmodels>=0.13.2->pmdarima) (1.0.1)\n",
            "Requirement already satisfied: six>=1.5 in /usr/local/lib/python3.10/dist-packages (from python-dateutil>=2.8.2->pandas>=0.19->pmdarima) (1.16.0)\n",
            "Downloading pmdarima-2.0.4-cp310-cp310-manylinux_2_17_x86_64.manylinux2014_x86_64.manylinux_2_28_x86_64.whl (2.1 MB)\n",
            "\u001b[2K   \u001b[90m━━━━━━━━━━━━━━━━━━━━━━━━━━━━━━━━━━━━━━━━\u001b[0m \u001b[32m2.1/2.1 MB\u001b[0m \u001b[31m47.2 MB/s\u001b[0m eta \u001b[36m0:00:00\u001b[0m\n",
            "\u001b[?25hInstalling collected packages: pmdarima\n",
            "Successfully installed pmdarima-2.0.4\n"
          ]
        }
      ]
    },
    {
      "cell_type": "code",
      "source": [
        "pd.options.display.max_columns=100 # to see columns"
      ],
      "metadata": {
        "execution": {
          "iopub.status.busy": "2022-04-22T05:36:10.593435Z",
          "iopub.execute_input": "2022-04-22T05:36:10.593768Z",
          "iopub.status.idle": "2022-04-22T05:36:10.60123Z",
          "shell.execute_reply.started": "2022-04-22T05:36:10.593699Z",
          "shell.execute_reply": "2022-04-22T05:36:10.600459Z"
        },
        "trusted": true,
        "id": "tS5L-mrwPkxN"
      },
      "execution_count": null,
      "outputs": []
    },
    {
      "cell_type": "code",
      "source": [
        "df_store = pd.read_csv('stores.csv') #store data"
      ],
      "metadata": {
        "execution": {
          "iopub.status.busy": "2022-04-22T05:36:10.603165Z",
          "iopub.execute_input": "2022-04-22T05:36:10.603651Z",
          "iopub.status.idle": "2022-04-22T05:36:10.623725Z",
          "shell.execute_reply.started": "2022-04-22T05:36:10.603607Z",
          "shell.execute_reply": "2022-04-22T05:36:10.62304Z"
        },
        "trusted": true,
        "id": "lb6eOKyVPkxP"
      },
      "execution_count": null,
      "outputs": []
    },
    {
      "cell_type": "code",
      "source": [
        "df_train = pd.read_csv('train.csv') # train set"
      ],
      "metadata": {
        "execution": {
          "iopub.status.busy": "2022-04-22T05:36:10.625116Z",
          "iopub.execute_input": "2022-04-22T05:36:10.625371Z",
          "iopub.status.idle": "2022-04-22T05:36:11.028432Z",
          "shell.execute_reply.started": "2022-04-22T05:36:10.625337Z",
          "shell.execute_reply": "2022-04-22T05:36:11.027213Z"
        },
        "trusted": true,
        "id": "e02Fs8oNPkxQ"
      },
      "execution_count": null,
      "outputs": []
    },
    {
      "cell_type": "code",
      "source": [
        "df_features = pd.read_csv('features.csv') #external information"
      ],
      "metadata": {
        "execution": {
          "iopub.status.busy": "2022-04-22T05:36:11.035191Z",
          "iopub.execute_input": "2022-04-22T05:36:11.035431Z",
          "iopub.status.idle": "2022-04-22T05:36:11.06575Z",
          "shell.execute_reply.started": "2022-04-22T05:36:11.035401Z",
          "shell.execute_reply": "2022-04-22T05:36:11.065039Z"
        },
        "trusted": true,
        "id": "1UF9mSZ6PkxQ"
      },
      "execution_count": null,
      "outputs": []
    },
    {
      "cell_type": "markdown",
      "source": [
        "# First Look to Data and Merging Three Dataframes"
      ],
      "metadata": {
        "id": "anZOWBOePkxR"
      }
    },
    {
      "cell_type": "code",
      "source": [
        "df_store.head()"
      ],
      "metadata": {
        "execution": {
          "iopub.status.busy": "2022-04-22T05:36:11.067257Z",
          "iopub.execute_input": "2022-04-22T05:36:11.067534Z",
          "iopub.status.idle": "2022-04-22T05:36:11.086389Z",
          "shell.execute_reply.started": "2022-04-22T05:36:11.067496Z",
          "shell.execute_reply": "2022-04-22T05:36:11.085647Z"
        },
        "trusted": true,
        "id": "kkkM5IQlPkxS",
        "outputId": "30fa901c-3621-4845-f777-55f0d62341b0",
        "colab": {
          "base_uri": "https://localhost:8080/",
          "height": 206
        }
      },
      "execution_count": null,
      "outputs": [
        {
          "output_type": "execute_result",
          "data": {
            "text/plain": [
              "   Store Type    Size\n",
              "0      1    A  151315\n",
              "1      2    A  202307\n",
              "2      3    B   37392\n",
              "3      4    A  205863\n",
              "4      5    B   34875"
            ],
            "text/html": [
              "\n",
              "  <div id=\"df-8957308f-9b7c-40bd-b5ed-9b5b466464f4\" class=\"colab-df-container\">\n",
              "    <div>\n",
              "<style scoped>\n",
              "    .dataframe tbody tr th:only-of-type {\n",
              "        vertical-align: middle;\n",
              "    }\n",
              "\n",
              "    .dataframe tbody tr th {\n",
              "        vertical-align: top;\n",
              "    }\n",
              "\n",
              "    .dataframe thead th {\n",
              "        text-align: right;\n",
              "    }\n",
              "</style>\n",
              "<table border=\"1\" class=\"dataframe\">\n",
              "  <thead>\n",
              "    <tr style=\"text-align: right;\">\n",
              "      <th></th>\n",
              "      <th>Store</th>\n",
              "      <th>Type</th>\n",
              "      <th>Size</th>\n",
              "    </tr>\n",
              "  </thead>\n",
              "  <tbody>\n",
              "    <tr>\n",
              "      <th>0</th>\n",
              "      <td>1</td>\n",
              "      <td>A</td>\n",
              "      <td>151315</td>\n",
              "    </tr>\n",
              "    <tr>\n",
              "      <th>1</th>\n",
              "      <td>2</td>\n",
              "      <td>A</td>\n",
              "      <td>202307</td>\n",
              "    </tr>\n",
              "    <tr>\n",
              "      <th>2</th>\n",
              "      <td>3</td>\n",
              "      <td>B</td>\n",
              "      <td>37392</td>\n",
              "    </tr>\n",
              "    <tr>\n",
              "      <th>3</th>\n",
              "      <td>4</td>\n",
              "      <td>A</td>\n",
              "      <td>205863</td>\n",
              "    </tr>\n",
              "    <tr>\n",
              "      <th>4</th>\n",
              "      <td>5</td>\n",
              "      <td>B</td>\n",
              "      <td>34875</td>\n",
              "    </tr>\n",
              "  </tbody>\n",
              "</table>\n",
              "</div>\n",
              "    <div class=\"colab-df-buttons\">\n",
              "\n",
              "  <div class=\"colab-df-container\">\n",
              "    <button class=\"colab-df-convert\" onclick=\"convertToInteractive('df-8957308f-9b7c-40bd-b5ed-9b5b466464f4')\"\n",
              "            title=\"Convert this dataframe to an interactive table.\"\n",
              "            style=\"display:none;\">\n",
              "\n",
              "  <svg xmlns=\"http://www.w3.org/2000/svg\" height=\"24px\" viewBox=\"0 -960 960 960\">\n",
              "    <path d=\"M120-120v-720h720v720H120Zm60-500h600v-160H180v160Zm220 220h160v-160H400v160Zm0 220h160v-160H400v160ZM180-400h160v-160H180v160Zm440 0h160v-160H620v160ZM180-180h160v-160H180v160Zm440 0h160v-160H620v160Z\"/>\n",
              "  </svg>\n",
              "    </button>\n",
              "\n",
              "  <style>\n",
              "    .colab-df-container {\n",
              "      display:flex;\n",
              "      gap: 12px;\n",
              "    }\n",
              "\n",
              "    .colab-df-convert {\n",
              "      background-color: #E8F0FE;\n",
              "      border: none;\n",
              "      border-radius: 50%;\n",
              "      cursor: pointer;\n",
              "      display: none;\n",
              "      fill: #1967D2;\n",
              "      height: 32px;\n",
              "      padding: 0 0 0 0;\n",
              "      width: 32px;\n",
              "    }\n",
              "\n",
              "    .colab-df-convert:hover {\n",
              "      background-color: #E2EBFA;\n",
              "      box-shadow: 0px 1px 2px rgba(60, 64, 67, 0.3), 0px 1px 3px 1px rgba(60, 64, 67, 0.15);\n",
              "      fill: #174EA6;\n",
              "    }\n",
              "\n",
              "    .colab-df-buttons div {\n",
              "      margin-bottom: 4px;\n",
              "    }\n",
              "\n",
              "    [theme=dark] .colab-df-convert {\n",
              "      background-color: #3B4455;\n",
              "      fill: #D2E3FC;\n",
              "    }\n",
              "\n",
              "    [theme=dark] .colab-df-convert:hover {\n",
              "      background-color: #434B5C;\n",
              "      box-shadow: 0px 1px 3px 1px rgba(0, 0, 0, 0.15);\n",
              "      filter: drop-shadow(0px 1px 2px rgba(0, 0, 0, 0.3));\n",
              "      fill: #FFFFFF;\n",
              "    }\n",
              "  </style>\n",
              "\n",
              "    <script>\n",
              "      const buttonEl =\n",
              "        document.querySelector('#df-8957308f-9b7c-40bd-b5ed-9b5b466464f4 button.colab-df-convert');\n",
              "      buttonEl.style.display =\n",
              "        google.colab.kernel.accessAllowed ? 'block' : 'none';\n",
              "\n",
              "      async function convertToInteractive(key) {\n",
              "        const element = document.querySelector('#df-8957308f-9b7c-40bd-b5ed-9b5b466464f4');\n",
              "        const dataTable =\n",
              "          await google.colab.kernel.invokeFunction('convertToInteractive',\n",
              "                                                    [key], {});\n",
              "        if (!dataTable) return;\n",
              "\n",
              "        const docLinkHtml = 'Like what you see? Visit the ' +\n",
              "          '<a target=\"_blank\" href=https://colab.research.google.com/notebooks/data_table.ipynb>data table notebook</a>'\n",
              "          + ' to learn more about interactive tables.';\n",
              "        element.innerHTML = '';\n",
              "        dataTable['output_type'] = 'display_data';\n",
              "        await google.colab.output.renderOutput(dataTable, element);\n",
              "        const docLink = document.createElement('div');\n",
              "        docLink.innerHTML = docLinkHtml;\n",
              "        element.appendChild(docLink);\n",
              "      }\n",
              "    </script>\n",
              "  </div>\n",
              "\n",
              "\n",
              "<div id=\"df-7d294dcd-149b-4d8f-8c54-412cde035a02\">\n",
              "  <button class=\"colab-df-quickchart\" onclick=\"quickchart('df-7d294dcd-149b-4d8f-8c54-412cde035a02')\"\n",
              "            title=\"Suggest charts\"\n",
              "            style=\"display:none;\">\n",
              "\n",
              "<svg xmlns=\"http://www.w3.org/2000/svg\" height=\"24px\"viewBox=\"0 0 24 24\"\n",
              "     width=\"24px\">\n",
              "    <g>\n",
              "        <path d=\"M19 3H5c-1.1 0-2 .9-2 2v14c0 1.1.9 2 2 2h14c1.1 0 2-.9 2-2V5c0-1.1-.9-2-2-2zM9 17H7v-7h2v7zm4 0h-2V7h2v10zm4 0h-2v-4h2v4z\"/>\n",
              "    </g>\n",
              "</svg>\n",
              "  </button>\n",
              "\n",
              "<style>\n",
              "  .colab-df-quickchart {\n",
              "      --bg-color: #E8F0FE;\n",
              "      --fill-color: #1967D2;\n",
              "      --hover-bg-color: #E2EBFA;\n",
              "      --hover-fill-color: #174EA6;\n",
              "      --disabled-fill-color: #AAA;\n",
              "      --disabled-bg-color: #DDD;\n",
              "  }\n",
              "\n",
              "  [theme=dark] .colab-df-quickchart {\n",
              "      --bg-color: #3B4455;\n",
              "      --fill-color: #D2E3FC;\n",
              "      --hover-bg-color: #434B5C;\n",
              "      --hover-fill-color: #FFFFFF;\n",
              "      --disabled-bg-color: #3B4455;\n",
              "      --disabled-fill-color: #666;\n",
              "  }\n",
              "\n",
              "  .colab-df-quickchart {\n",
              "    background-color: var(--bg-color);\n",
              "    border: none;\n",
              "    border-radius: 50%;\n",
              "    cursor: pointer;\n",
              "    display: none;\n",
              "    fill: var(--fill-color);\n",
              "    height: 32px;\n",
              "    padding: 0;\n",
              "    width: 32px;\n",
              "  }\n",
              "\n",
              "  .colab-df-quickchart:hover {\n",
              "    background-color: var(--hover-bg-color);\n",
              "    box-shadow: 0 1px 2px rgba(60, 64, 67, 0.3), 0 1px 3px 1px rgba(60, 64, 67, 0.15);\n",
              "    fill: var(--button-hover-fill-color);\n",
              "  }\n",
              "\n",
              "  .colab-df-quickchart-complete:disabled,\n",
              "  .colab-df-quickchart-complete:disabled:hover {\n",
              "    background-color: var(--disabled-bg-color);\n",
              "    fill: var(--disabled-fill-color);\n",
              "    box-shadow: none;\n",
              "  }\n",
              "\n",
              "  .colab-df-spinner {\n",
              "    border: 2px solid var(--fill-color);\n",
              "    border-color: transparent;\n",
              "    border-bottom-color: var(--fill-color);\n",
              "    animation:\n",
              "      spin 1s steps(1) infinite;\n",
              "  }\n",
              "\n",
              "  @keyframes spin {\n",
              "    0% {\n",
              "      border-color: transparent;\n",
              "      border-bottom-color: var(--fill-color);\n",
              "      border-left-color: var(--fill-color);\n",
              "    }\n",
              "    20% {\n",
              "      border-color: transparent;\n",
              "      border-left-color: var(--fill-color);\n",
              "      border-top-color: var(--fill-color);\n",
              "    }\n",
              "    30% {\n",
              "      border-color: transparent;\n",
              "      border-left-color: var(--fill-color);\n",
              "      border-top-color: var(--fill-color);\n",
              "      border-right-color: var(--fill-color);\n",
              "    }\n",
              "    40% {\n",
              "      border-color: transparent;\n",
              "      border-right-color: var(--fill-color);\n",
              "      border-top-color: var(--fill-color);\n",
              "    }\n",
              "    60% {\n",
              "      border-color: transparent;\n",
              "      border-right-color: var(--fill-color);\n",
              "    }\n",
              "    80% {\n",
              "      border-color: transparent;\n",
              "      border-right-color: var(--fill-color);\n",
              "      border-bottom-color: var(--fill-color);\n",
              "    }\n",
              "    90% {\n",
              "      border-color: transparent;\n",
              "      border-bottom-color: var(--fill-color);\n",
              "    }\n",
              "  }\n",
              "</style>\n",
              "\n",
              "  <script>\n",
              "    async function quickchart(key) {\n",
              "      const quickchartButtonEl =\n",
              "        document.querySelector('#' + key + ' button');\n",
              "      quickchartButtonEl.disabled = true;  // To prevent multiple clicks.\n",
              "      quickchartButtonEl.classList.add('colab-df-spinner');\n",
              "      try {\n",
              "        const charts = await google.colab.kernel.invokeFunction(\n",
              "            'suggestCharts', [key], {});\n",
              "      } catch (error) {\n",
              "        console.error('Error during call to suggestCharts:', error);\n",
              "      }\n",
              "      quickchartButtonEl.classList.remove('colab-df-spinner');\n",
              "      quickchartButtonEl.classList.add('colab-df-quickchart-complete');\n",
              "    }\n",
              "    (() => {\n",
              "      let quickchartButtonEl =\n",
              "        document.querySelector('#df-7d294dcd-149b-4d8f-8c54-412cde035a02 button');\n",
              "      quickchartButtonEl.style.display =\n",
              "        google.colab.kernel.accessAllowed ? 'block' : 'none';\n",
              "    })();\n",
              "  </script>\n",
              "</div>\n",
              "\n",
              "    </div>\n",
              "  </div>\n"
            ],
            "application/vnd.google.colaboratory.intrinsic+json": {
              "type": "dataframe",
              "variable_name": "df_store",
              "summary": "{\n  \"name\": \"df_store\",\n  \"rows\": 45,\n  \"fields\": [\n    {\n      \"column\": \"Store\",\n      \"properties\": {\n        \"dtype\": \"number\",\n        \"std\": 13,\n        \"min\": 1,\n        \"max\": 45,\n        \"num_unique_values\": 45,\n        \"samples\": [\n          40,\n          26,\n          27\n        ],\n        \"semantic_type\": \"\",\n        \"description\": \"\"\n      }\n    },\n    {\n      \"column\": \"Type\",\n      \"properties\": {\n        \"dtype\": \"category\",\n        \"num_unique_values\": 3,\n        \"samples\": [\n          \"A\",\n          \"B\",\n          \"C\"\n        ],\n        \"semantic_type\": \"\",\n        \"description\": \"\"\n      }\n    },\n    {\n      \"column\": \"Size\",\n      \"properties\": {\n        \"dtype\": \"number\",\n        \"std\": 63825,\n        \"min\": 34875,\n        \"max\": 219622,\n        \"num_unique_values\": 40,\n        \"samples\": [\n          203742,\n          93188,\n          57197\n        ],\n        \"semantic_type\": \"\",\n        \"description\": \"\"\n      }\n    }\n  ]\n}"
            }
          },
          "metadata": {},
          "execution_count": 11
        }
      ]
    },
    {
      "cell_type": "code",
      "source": [
        "df_train.head()"
      ],
      "metadata": {
        "execution": {
          "iopub.status.busy": "2022-04-22T05:36:11.087551Z",
          "iopub.execute_input": "2022-04-22T05:36:11.087866Z",
          "iopub.status.idle": "2022-04-22T05:36:11.099914Z",
          "shell.execute_reply.started": "2022-04-22T05:36:11.087819Z",
          "shell.execute_reply": "2022-04-22T05:36:11.099037Z"
        },
        "trusted": true,
        "id": "nKy8fFxZPkxS",
        "outputId": "75c35a16-6057-4466-b8e8-7cb45f77b462",
        "colab": {
          "base_uri": "https://localhost:8080/",
          "height": 206
        }
      },
      "execution_count": null,
      "outputs": [
        {
          "output_type": "execute_result",
          "data": {
            "text/plain": [
              "   Store  Dept        Date  Weekly_Sales  IsHoliday\n",
              "0      1     1  2010-02-05      24924.50      False\n",
              "1      1     1  2010-02-12      46039.49       True\n",
              "2      1     1  2010-02-19      41595.55      False\n",
              "3      1     1  2010-02-26      19403.54      False\n",
              "4      1     1  2010-03-05      21827.90      False"
            ],
            "text/html": [
              "\n",
              "  <div id=\"df-395a8529-dbae-4320-8d73-f9052883e627\" class=\"colab-df-container\">\n",
              "    <div>\n",
              "<style scoped>\n",
              "    .dataframe tbody tr th:only-of-type {\n",
              "        vertical-align: middle;\n",
              "    }\n",
              "\n",
              "    .dataframe tbody tr th {\n",
              "        vertical-align: top;\n",
              "    }\n",
              "\n",
              "    .dataframe thead th {\n",
              "        text-align: right;\n",
              "    }\n",
              "</style>\n",
              "<table border=\"1\" class=\"dataframe\">\n",
              "  <thead>\n",
              "    <tr style=\"text-align: right;\">\n",
              "      <th></th>\n",
              "      <th>Store</th>\n",
              "      <th>Dept</th>\n",
              "      <th>Date</th>\n",
              "      <th>Weekly_Sales</th>\n",
              "      <th>IsHoliday</th>\n",
              "    </tr>\n",
              "  </thead>\n",
              "  <tbody>\n",
              "    <tr>\n",
              "      <th>0</th>\n",
              "      <td>1</td>\n",
              "      <td>1</td>\n",
              "      <td>2010-02-05</td>\n",
              "      <td>24924.50</td>\n",
              "      <td>False</td>\n",
              "    </tr>\n",
              "    <tr>\n",
              "      <th>1</th>\n",
              "      <td>1</td>\n",
              "      <td>1</td>\n",
              "      <td>2010-02-12</td>\n",
              "      <td>46039.49</td>\n",
              "      <td>True</td>\n",
              "    </tr>\n",
              "    <tr>\n",
              "      <th>2</th>\n",
              "      <td>1</td>\n",
              "      <td>1</td>\n",
              "      <td>2010-02-19</td>\n",
              "      <td>41595.55</td>\n",
              "      <td>False</td>\n",
              "    </tr>\n",
              "    <tr>\n",
              "      <th>3</th>\n",
              "      <td>1</td>\n",
              "      <td>1</td>\n",
              "      <td>2010-02-26</td>\n",
              "      <td>19403.54</td>\n",
              "      <td>False</td>\n",
              "    </tr>\n",
              "    <tr>\n",
              "      <th>4</th>\n",
              "      <td>1</td>\n",
              "      <td>1</td>\n",
              "      <td>2010-03-05</td>\n",
              "      <td>21827.90</td>\n",
              "      <td>False</td>\n",
              "    </tr>\n",
              "  </tbody>\n",
              "</table>\n",
              "</div>\n",
              "    <div class=\"colab-df-buttons\">\n",
              "\n",
              "  <div class=\"colab-df-container\">\n",
              "    <button class=\"colab-df-convert\" onclick=\"convertToInteractive('df-395a8529-dbae-4320-8d73-f9052883e627')\"\n",
              "            title=\"Convert this dataframe to an interactive table.\"\n",
              "            style=\"display:none;\">\n",
              "\n",
              "  <svg xmlns=\"http://www.w3.org/2000/svg\" height=\"24px\" viewBox=\"0 -960 960 960\">\n",
              "    <path d=\"M120-120v-720h720v720H120Zm60-500h600v-160H180v160Zm220 220h160v-160H400v160Zm0 220h160v-160H400v160ZM180-400h160v-160H180v160Zm440 0h160v-160H620v160ZM180-180h160v-160H180v160Zm440 0h160v-160H620v160Z\"/>\n",
              "  </svg>\n",
              "    </button>\n",
              "\n",
              "  <style>\n",
              "    .colab-df-container {\n",
              "      display:flex;\n",
              "      gap: 12px;\n",
              "    }\n",
              "\n",
              "    .colab-df-convert {\n",
              "      background-color: #E8F0FE;\n",
              "      border: none;\n",
              "      border-radius: 50%;\n",
              "      cursor: pointer;\n",
              "      display: none;\n",
              "      fill: #1967D2;\n",
              "      height: 32px;\n",
              "      padding: 0 0 0 0;\n",
              "      width: 32px;\n",
              "    }\n",
              "\n",
              "    .colab-df-convert:hover {\n",
              "      background-color: #E2EBFA;\n",
              "      box-shadow: 0px 1px 2px rgba(60, 64, 67, 0.3), 0px 1px 3px 1px rgba(60, 64, 67, 0.15);\n",
              "      fill: #174EA6;\n",
              "    }\n",
              "\n",
              "    .colab-df-buttons div {\n",
              "      margin-bottom: 4px;\n",
              "    }\n",
              "\n",
              "    [theme=dark] .colab-df-convert {\n",
              "      background-color: #3B4455;\n",
              "      fill: #D2E3FC;\n",
              "    }\n",
              "\n",
              "    [theme=dark] .colab-df-convert:hover {\n",
              "      background-color: #434B5C;\n",
              "      box-shadow: 0px 1px 3px 1px rgba(0, 0, 0, 0.15);\n",
              "      filter: drop-shadow(0px 1px 2px rgba(0, 0, 0, 0.3));\n",
              "      fill: #FFFFFF;\n",
              "    }\n",
              "  </style>\n",
              "\n",
              "    <script>\n",
              "      const buttonEl =\n",
              "        document.querySelector('#df-395a8529-dbae-4320-8d73-f9052883e627 button.colab-df-convert');\n",
              "      buttonEl.style.display =\n",
              "        google.colab.kernel.accessAllowed ? 'block' : 'none';\n",
              "\n",
              "      async function convertToInteractive(key) {\n",
              "        const element = document.querySelector('#df-395a8529-dbae-4320-8d73-f9052883e627');\n",
              "        const dataTable =\n",
              "          await google.colab.kernel.invokeFunction('convertToInteractive',\n",
              "                                                    [key], {});\n",
              "        if (!dataTable) return;\n",
              "\n",
              "        const docLinkHtml = 'Like what you see? Visit the ' +\n",
              "          '<a target=\"_blank\" href=https://colab.research.google.com/notebooks/data_table.ipynb>data table notebook</a>'\n",
              "          + ' to learn more about interactive tables.';\n",
              "        element.innerHTML = '';\n",
              "        dataTable['output_type'] = 'display_data';\n",
              "        await google.colab.output.renderOutput(dataTable, element);\n",
              "        const docLink = document.createElement('div');\n",
              "        docLink.innerHTML = docLinkHtml;\n",
              "        element.appendChild(docLink);\n",
              "      }\n",
              "    </script>\n",
              "  </div>\n",
              "\n",
              "\n",
              "<div id=\"df-f8ab6d34-42e2-4528-bd7c-ffd0f182607d\">\n",
              "  <button class=\"colab-df-quickchart\" onclick=\"quickchart('df-f8ab6d34-42e2-4528-bd7c-ffd0f182607d')\"\n",
              "            title=\"Suggest charts\"\n",
              "            style=\"display:none;\">\n",
              "\n",
              "<svg xmlns=\"http://www.w3.org/2000/svg\" height=\"24px\"viewBox=\"0 0 24 24\"\n",
              "     width=\"24px\">\n",
              "    <g>\n",
              "        <path d=\"M19 3H5c-1.1 0-2 .9-2 2v14c0 1.1.9 2 2 2h14c1.1 0 2-.9 2-2V5c0-1.1-.9-2-2-2zM9 17H7v-7h2v7zm4 0h-2V7h2v10zm4 0h-2v-4h2v4z\"/>\n",
              "    </g>\n",
              "</svg>\n",
              "  </button>\n",
              "\n",
              "<style>\n",
              "  .colab-df-quickchart {\n",
              "      --bg-color: #E8F0FE;\n",
              "      --fill-color: #1967D2;\n",
              "      --hover-bg-color: #E2EBFA;\n",
              "      --hover-fill-color: #174EA6;\n",
              "      --disabled-fill-color: #AAA;\n",
              "      --disabled-bg-color: #DDD;\n",
              "  }\n",
              "\n",
              "  [theme=dark] .colab-df-quickchart {\n",
              "      --bg-color: #3B4455;\n",
              "      --fill-color: #D2E3FC;\n",
              "      --hover-bg-color: #434B5C;\n",
              "      --hover-fill-color: #FFFFFF;\n",
              "      --disabled-bg-color: #3B4455;\n",
              "      --disabled-fill-color: #666;\n",
              "  }\n",
              "\n",
              "  .colab-df-quickchart {\n",
              "    background-color: var(--bg-color);\n",
              "    border: none;\n",
              "    border-radius: 50%;\n",
              "    cursor: pointer;\n",
              "    display: none;\n",
              "    fill: var(--fill-color);\n",
              "    height: 32px;\n",
              "    padding: 0;\n",
              "    width: 32px;\n",
              "  }\n",
              "\n",
              "  .colab-df-quickchart:hover {\n",
              "    background-color: var(--hover-bg-color);\n",
              "    box-shadow: 0 1px 2px rgba(60, 64, 67, 0.3), 0 1px 3px 1px rgba(60, 64, 67, 0.15);\n",
              "    fill: var(--button-hover-fill-color);\n",
              "  }\n",
              "\n",
              "  .colab-df-quickchart-complete:disabled,\n",
              "  .colab-df-quickchart-complete:disabled:hover {\n",
              "    background-color: var(--disabled-bg-color);\n",
              "    fill: var(--disabled-fill-color);\n",
              "    box-shadow: none;\n",
              "  }\n",
              "\n",
              "  .colab-df-spinner {\n",
              "    border: 2px solid var(--fill-color);\n",
              "    border-color: transparent;\n",
              "    border-bottom-color: var(--fill-color);\n",
              "    animation:\n",
              "      spin 1s steps(1) infinite;\n",
              "  }\n",
              "\n",
              "  @keyframes spin {\n",
              "    0% {\n",
              "      border-color: transparent;\n",
              "      border-bottom-color: var(--fill-color);\n",
              "      border-left-color: var(--fill-color);\n",
              "    }\n",
              "    20% {\n",
              "      border-color: transparent;\n",
              "      border-left-color: var(--fill-color);\n",
              "      border-top-color: var(--fill-color);\n",
              "    }\n",
              "    30% {\n",
              "      border-color: transparent;\n",
              "      border-left-color: var(--fill-color);\n",
              "      border-top-color: var(--fill-color);\n",
              "      border-right-color: var(--fill-color);\n",
              "    }\n",
              "    40% {\n",
              "      border-color: transparent;\n",
              "      border-right-color: var(--fill-color);\n",
              "      border-top-color: var(--fill-color);\n",
              "    }\n",
              "    60% {\n",
              "      border-color: transparent;\n",
              "      border-right-color: var(--fill-color);\n",
              "    }\n",
              "    80% {\n",
              "      border-color: transparent;\n",
              "      border-right-color: var(--fill-color);\n",
              "      border-bottom-color: var(--fill-color);\n",
              "    }\n",
              "    90% {\n",
              "      border-color: transparent;\n",
              "      border-bottom-color: var(--fill-color);\n",
              "    }\n",
              "  }\n",
              "</style>\n",
              "\n",
              "  <script>\n",
              "    async function quickchart(key) {\n",
              "      const quickchartButtonEl =\n",
              "        document.querySelector('#' + key + ' button');\n",
              "      quickchartButtonEl.disabled = true;  // To prevent multiple clicks.\n",
              "      quickchartButtonEl.classList.add('colab-df-spinner');\n",
              "      try {\n",
              "        const charts = await google.colab.kernel.invokeFunction(\n",
              "            'suggestCharts', [key], {});\n",
              "      } catch (error) {\n",
              "        console.error('Error during call to suggestCharts:', error);\n",
              "      }\n",
              "      quickchartButtonEl.classList.remove('colab-df-spinner');\n",
              "      quickchartButtonEl.classList.add('colab-df-quickchart-complete');\n",
              "    }\n",
              "    (() => {\n",
              "      let quickchartButtonEl =\n",
              "        document.querySelector('#df-f8ab6d34-42e2-4528-bd7c-ffd0f182607d button');\n",
              "      quickchartButtonEl.style.display =\n",
              "        google.colab.kernel.accessAllowed ? 'block' : 'none';\n",
              "    })();\n",
              "  </script>\n",
              "</div>\n",
              "\n",
              "    </div>\n",
              "  </div>\n"
            ],
            "application/vnd.google.colaboratory.intrinsic+json": {
              "type": "dataframe",
              "variable_name": "df_train"
            }
          },
          "metadata": {},
          "execution_count": 12
        }
      ]
    },
    {
      "cell_type": "code",
      "source": [
        "df_features.head()"
      ],
      "metadata": {
        "execution": {
          "iopub.status.busy": "2022-04-22T05:36:11.101457Z",
          "iopub.execute_input": "2022-04-22T05:36:11.101982Z",
          "iopub.status.idle": "2022-04-22T05:36:11.120651Z",
          "shell.execute_reply.started": "2022-04-22T05:36:11.101941Z",
          "shell.execute_reply": "2022-04-22T05:36:11.119887Z"
        },
        "trusted": true,
        "id": "xvYHKv0MPkxS",
        "outputId": "cba8d1d9-4b4a-4441-cbc8-2f6b1f2697f7",
        "colab": {
          "base_uri": "https://localhost:8080/",
          "height": 206
        }
      },
      "execution_count": null,
      "outputs": [
        {
          "output_type": "execute_result",
          "data": {
            "text/plain": [
              "   Store        Date  Temperature  Fuel_Price  MarkDown1  MarkDown2  \\\n",
              "0      1  2010-02-05        42.31       2.572        NaN        NaN   \n",
              "1      1  2010-02-12        38.51       2.548        NaN        NaN   \n",
              "2      1  2010-02-19        39.93       2.514        NaN        NaN   \n",
              "3      1  2010-02-26        46.63       2.561        NaN        NaN   \n",
              "4      1  2010-03-05        46.50       2.625        NaN        NaN   \n",
              "\n",
              "   MarkDown3  MarkDown4  MarkDown5         CPI  Unemployment  IsHoliday  \n",
              "0        NaN        NaN        NaN  211.096358         8.106      False  \n",
              "1        NaN        NaN        NaN  211.242170         8.106       True  \n",
              "2        NaN        NaN        NaN  211.289143         8.106      False  \n",
              "3        NaN        NaN        NaN  211.319643         8.106      False  \n",
              "4        NaN        NaN        NaN  211.350143         8.106      False  "
            ],
            "text/html": [
              "\n",
              "  <div id=\"df-03563c4c-b1e9-4642-bac2-fa0a1fff6cd2\" class=\"colab-df-container\">\n",
              "    <div>\n",
              "<style scoped>\n",
              "    .dataframe tbody tr th:only-of-type {\n",
              "        vertical-align: middle;\n",
              "    }\n",
              "\n",
              "    .dataframe tbody tr th {\n",
              "        vertical-align: top;\n",
              "    }\n",
              "\n",
              "    .dataframe thead th {\n",
              "        text-align: right;\n",
              "    }\n",
              "</style>\n",
              "<table border=\"1\" class=\"dataframe\">\n",
              "  <thead>\n",
              "    <tr style=\"text-align: right;\">\n",
              "      <th></th>\n",
              "      <th>Store</th>\n",
              "      <th>Date</th>\n",
              "      <th>Temperature</th>\n",
              "      <th>Fuel_Price</th>\n",
              "      <th>MarkDown1</th>\n",
              "      <th>MarkDown2</th>\n",
              "      <th>MarkDown3</th>\n",
              "      <th>MarkDown4</th>\n",
              "      <th>MarkDown5</th>\n",
              "      <th>CPI</th>\n",
              "      <th>Unemployment</th>\n",
              "      <th>IsHoliday</th>\n",
              "    </tr>\n",
              "  </thead>\n",
              "  <tbody>\n",
              "    <tr>\n",
              "      <th>0</th>\n",
              "      <td>1</td>\n",
              "      <td>2010-02-05</td>\n",
              "      <td>42.31</td>\n",
              "      <td>2.572</td>\n",
              "      <td>NaN</td>\n",
              "      <td>NaN</td>\n",
              "      <td>NaN</td>\n",
              "      <td>NaN</td>\n",
              "      <td>NaN</td>\n",
              "      <td>211.096358</td>\n",
              "      <td>8.106</td>\n",
              "      <td>False</td>\n",
              "    </tr>\n",
              "    <tr>\n",
              "      <th>1</th>\n",
              "      <td>1</td>\n",
              "      <td>2010-02-12</td>\n",
              "      <td>38.51</td>\n",
              "      <td>2.548</td>\n",
              "      <td>NaN</td>\n",
              "      <td>NaN</td>\n",
              "      <td>NaN</td>\n",
              "      <td>NaN</td>\n",
              "      <td>NaN</td>\n",
              "      <td>211.242170</td>\n",
              "      <td>8.106</td>\n",
              "      <td>True</td>\n",
              "    </tr>\n",
              "    <tr>\n",
              "      <th>2</th>\n",
              "      <td>1</td>\n",
              "      <td>2010-02-19</td>\n",
              "      <td>39.93</td>\n",
              "      <td>2.514</td>\n",
              "      <td>NaN</td>\n",
              "      <td>NaN</td>\n",
              "      <td>NaN</td>\n",
              "      <td>NaN</td>\n",
              "      <td>NaN</td>\n",
              "      <td>211.289143</td>\n",
              "      <td>8.106</td>\n",
              "      <td>False</td>\n",
              "    </tr>\n",
              "    <tr>\n",
              "      <th>3</th>\n",
              "      <td>1</td>\n",
              "      <td>2010-02-26</td>\n",
              "      <td>46.63</td>\n",
              "      <td>2.561</td>\n",
              "      <td>NaN</td>\n",
              "      <td>NaN</td>\n",
              "      <td>NaN</td>\n",
              "      <td>NaN</td>\n",
              "      <td>NaN</td>\n",
              "      <td>211.319643</td>\n",
              "      <td>8.106</td>\n",
              "      <td>False</td>\n",
              "    </tr>\n",
              "    <tr>\n",
              "      <th>4</th>\n",
              "      <td>1</td>\n",
              "      <td>2010-03-05</td>\n",
              "      <td>46.50</td>\n",
              "      <td>2.625</td>\n",
              "      <td>NaN</td>\n",
              "      <td>NaN</td>\n",
              "      <td>NaN</td>\n",
              "      <td>NaN</td>\n",
              "      <td>NaN</td>\n",
              "      <td>211.350143</td>\n",
              "      <td>8.106</td>\n",
              "      <td>False</td>\n",
              "    </tr>\n",
              "  </tbody>\n",
              "</table>\n",
              "</div>\n",
              "    <div class=\"colab-df-buttons\">\n",
              "\n",
              "  <div class=\"colab-df-container\">\n",
              "    <button class=\"colab-df-convert\" onclick=\"convertToInteractive('df-03563c4c-b1e9-4642-bac2-fa0a1fff6cd2')\"\n",
              "            title=\"Convert this dataframe to an interactive table.\"\n",
              "            style=\"display:none;\">\n",
              "\n",
              "  <svg xmlns=\"http://www.w3.org/2000/svg\" height=\"24px\" viewBox=\"0 -960 960 960\">\n",
              "    <path d=\"M120-120v-720h720v720H120Zm60-500h600v-160H180v160Zm220 220h160v-160H400v160Zm0 220h160v-160H400v160ZM180-400h160v-160H180v160Zm440 0h160v-160H620v160ZM180-180h160v-160H180v160Zm440 0h160v-160H620v160Z\"/>\n",
              "  </svg>\n",
              "    </button>\n",
              "\n",
              "  <style>\n",
              "    .colab-df-container {\n",
              "      display:flex;\n",
              "      gap: 12px;\n",
              "    }\n",
              "\n",
              "    .colab-df-convert {\n",
              "      background-color: #E8F0FE;\n",
              "      border: none;\n",
              "      border-radius: 50%;\n",
              "      cursor: pointer;\n",
              "      display: none;\n",
              "      fill: #1967D2;\n",
              "      height: 32px;\n",
              "      padding: 0 0 0 0;\n",
              "      width: 32px;\n",
              "    }\n",
              "\n",
              "    .colab-df-convert:hover {\n",
              "      background-color: #E2EBFA;\n",
              "      box-shadow: 0px 1px 2px rgba(60, 64, 67, 0.3), 0px 1px 3px 1px rgba(60, 64, 67, 0.15);\n",
              "      fill: #174EA6;\n",
              "    }\n",
              "\n",
              "    .colab-df-buttons div {\n",
              "      margin-bottom: 4px;\n",
              "    }\n",
              "\n",
              "    [theme=dark] .colab-df-convert {\n",
              "      background-color: #3B4455;\n",
              "      fill: #D2E3FC;\n",
              "    }\n",
              "\n",
              "    [theme=dark] .colab-df-convert:hover {\n",
              "      background-color: #434B5C;\n",
              "      box-shadow: 0px 1px 3px 1px rgba(0, 0, 0, 0.15);\n",
              "      filter: drop-shadow(0px 1px 2px rgba(0, 0, 0, 0.3));\n",
              "      fill: #FFFFFF;\n",
              "    }\n",
              "  </style>\n",
              "\n",
              "    <script>\n",
              "      const buttonEl =\n",
              "        document.querySelector('#df-03563c4c-b1e9-4642-bac2-fa0a1fff6cd2 button.colab-df-convert');\n",
              "      buttonEl.style.display =\n",
              "        google.colab.kernel.accessAllowed ? 'block' : 'none';\n",
              "\n",
              "      async function convertToInteractive(key) {\n",
              "        const element = document.querySelector('#df-03563c4c-b1e9-4642-bac2-fa0a1fff6cd2');\n",
              "        const dataTable =\n",
              "          await google.colab.kernel.invokeFunction('convertToInteractive',\n",
              "                                                    [key], {});\n",
              "        if (!dataTable) return;\n",
              "\n",
              "        const docLinkHtml = 'Like what you see? Visit the ' +\n",
              "          '<a target=\"_blank\" href=https://colab.research.google.com/notebooks/data_table.ipynb>data table notebook</a>'\n",
              "          + ' to learn more about interactive tables.';\n",
              "        element.innerHTML = '';\n",
              "        dataTable['output_type'] = 'display_data';\n",
              "        await google.colab.output.renderOutput(dataTable, element);\n",
              "        const docLink = document.createElement('div');\n",
              "        docLink.innerHTML = docLinkHtml;\n",
              "        element.appendChild(docLink);\n",
              "      }\n",
              "    </script>\n",
              "  </div>\n",
              "\n",
              "\n",
              "<div id=\"df-251f6b96-0687-4f9b-ab88-fc5ca557d641\">\n",
              "  <button class=\"colab-df-quickchart\" onclick=\"quickchart('df-251f6b96-0687-4f9b-ab88-fc5ca557d641')\"\n",
              "            title=\"Suggest charts\"\n",
              "            style=\"display:none;\">\n",
              "\n",
              "<svg xmlns=\"http://www.w3.org/2000/svg\" height=\"24px\"viewBox=\"0 0 24 24\"\n",
              "     width=\"24px\">\n",
              "    <g>\n",
              "        <path d=\"M19 3H5c-1.1 0-2 .9-2 2v14c0 1.1.9 2 2 2h14c1.1 0 2-.9 2-2V5c0-1.1-.9-2-2-2zM9 17H7v-7h2v7zm4 0h-2V7h2v10zm4 0h-2v-4h2v4z\"/>\n",
              "    </g>\n",
              "</svg>\n",
              "  </button>\n",
              "\n",
              "<style>\n",
              "  .colab-df-quickchart {\n",
              "      --bg-color: #E8F0FE;\n",
              "      --fill-color: #1967D2;\n",
              "      --hover-bg-color: #E2EBFA;\n",
              "      --hover-fill-color: #174EA6;\n",
              "      --disabled-fill-color: #AAA;\n",
              "      --disabled-bg-color: #DDD;\n",
              "  }\n",
              "\n",
              "  [theme=dark] .colab-df-quickchart {\n",
              "      --bg-color: #3B4455;\n",
              "      --fill-color: #D2E3FC;\n",
              "      --hover-bg-color: #434B5C;\n",
              "      --hover-fill-color: #FFFFFF;\n",
              "      --disabled-bg-color: #3B4455;\n",
              "      --disabled-fill-color: #666;\n",
              "  }\n",
              "\n",
              "  .colab-df-quickchart {\n",
              "    background-color: var(--bg-color);\n",
              "    border: none;\n",
              "    border-radius: 50%;\n",
              "    cursor: pointer;\n",
              "    display: none;\n",
              "    fill: var(--fill-color);\n",
              "    height: 32px;\n",
              "    padding: 0;\n",
              "    width: 32px;\n",
              "  }\n",
              "\n",
              "  .colab-df-quickchart:hover {\n",
              "    background-color: var(--hover-bg-color);\n",
              "    box-shadow: 0 1px 2px rgba(60, 64, 67, 0.3), 0 1px 3px 1px rgba(60, 64, 67, 0.15);\n",
              "    fill: var(--button-hover-fill-color);\n",
              "  }\n",
              "\n",
              "  .colab-df-quickchart-complete:disabled,\n",
              "  .colab-df-quickchart-complete:disabled:hover {\n",
              "    background-color: var(--disabled-bg-color);\n",
              "    fill: var(--disabled-fill-color);\n",
              "    box-shadow: none;\n",
              "  }\n",
              "\n",
              "  .colab-df-spinner {\n",
              "    border: 2px solid var(--fill-color);\n",
              "    border-color: transparent;\n",
              "    border-bottom-color: var(--fill-color);\n",
              "    animation:\n",
              "      spin 1s steps(1) infinite;\n",
              "  }\n",
              "\n",
              "  @keyframes spin {\n",
              "    0% {\n",
              "      border-color: transparent;\n",
              "      border-bottom-color: var(--fill-color);\n",
              "      border-left-color: var(--fill-color);\n",
              "    }\n",
              "    20% {\n",
              "      border-color: transparent;\n",
              "      border-left-color: var(--fill-color);\n",
              "      border-top-color: var(--fill-color);\n",
              "    }\n",
              "    30% {\n",
              "      border-color: transparent;\n",
              "      border-left-color: var(--fill-color);\n",
              "      border-top-color: var(--fill-color);\n",
              "      border-right-color: var(--fill-color);\n",
              "    }\n",
              "    40% {\n",
              "      border-color: transparent;\n",
              "      border-right-color: var(--fill-color);\n",
              "      border-top-color: var(--fill-color);\n",
              "    }\n",
              "    60% {\n",
              "      border-color: transparent;\n",
              "      border-right-color: var(--fill-color);\n",
              "    }\n",
              "    80% {\n",
              "      border-color: transparent;\n",
              "      border-right-color: var(--fill-color);\n",
              "      border-bottom-color: var(--fill-color);\n",
              "    }\n",
              "    90% {\n",
              "      border-color: transparent;\n",
              "      border-bottom-color: var(--fill-color);\n",
              "    }\n",
              "  }\n",
              "</style>\n",
              "\n",
              "  <script>\n",
              "    async function quickchart(key) {\n",
              "      const quickchartButtonEl =\n",
              "        document.querySelector('#' + key + ' button');\n",
              "      quickchartButtonEl.disabled = true;  // To prevent multiple clicks.\n",
              "      quickchartButtonEl.classList.add('colab-df-spinner');\n",
              "      try {\n",
              "        const charts = await google.colab.kernel.invokeFunction(\n",
              "            'suggestCharts', [key], {});\n",
              "      } catch (error) {\n",
              "        console.error('Error during call to suggestCharts:', error);\n",
              "      }\n",
              "      quickchartButtonEl.classList.remove('colab-df-spinner');\n",
              "      quickchartButtonEl.classList.add('colab-df-quickchart-complete');\n",
              "    }\n",
              "    (() => {\n",
              "      let quickchartButtonEl =\n",
              "        document.querySelector('#df-251f6b96-0687-4f9b-ab88-fc5ca557d641 button');\n",
              "      quickchartButtonEl.style.display =\n",
              "        google.colab.kernel.accessAllowed ? 'block' : 'none';\n",
              "    })();\n",
              "  </script>\n",
              "</div>\n",
              "\n",
              "    </div>\n",
              "  </div>\n"
            ],
            "application/vnd.google.colaboratory.intrinsic+json": {
              "type": "dataframe",
              "variable_name": "df_features",
              "summary": "{\n  \"name\": \"df_features\",\n  \"rows\": 8190,\n  \"fields\": [\n    {\n      \"column\": \"Store\",\n      \"properties\": {\n        \"dtype\": \"number\",\n        \"std\": 12,\n        \"min\": 1,\n        \"max\": 45,\n        \"num_unique_values\": 45,\n        \"samples\": [\n          40,\n          26,\n          27\n        ],\n        \"semantic_type\": \"\",\n        \"description\": \"\"\n      }\n    },\n    {\n      \"column\": \"Date\",\n      \"properties\": {\n        \"dtype\": \"object\",\n        \"num_unique_values\": 182,\n        \"samples\": [\n          \"2010-06-18\",\n          \"2010-11-26\",\n          \"2013-01-18\"\n        ],\n        \"semantic_type\": \"\",\n        \"description\": \"\"\n      }\n    },\n    {\n      \"column\": \"Temperature\",\n      \"properties\": {\n        \"dtype\": \"number\",\n        \"std\": 18.678606848907176,\n        \"min\": -7.29,\n        \"max\": 101.95,\n        \"num_unique_values\": 4178,\n        \"samples\": [\n          83.8,\n          31.48,\n          79.14\n        ],\n        \"semantic_type\": \"\",\n        \"description\": \"\"\n      }\n    },\n    {\n      \"column\": \"Fuel_Price\",\n      \"properties\": {\n        \"dtype\": \"number\",\n        \"std\": 0.43133657110071605,\n        \"min\": 2.472,\n        \"max\": 4.468,\n        \"num_unique_values\": 1011,\n        \"samples\": [\n          2.782,\n          2.936,\n          3.282\n        ],\n        \"semantic_type\": \"\",\n        \"description\": \"\"\n      }\n    },\n    {\n      \"column\": \"MarkDown1\",\n      \"properties\": {\n        \"dtype\": \"number\",\n        \"std\": 9262.74744752369,\n        \"min\": -2781.45,\n        \"max\": 103184.98,\n        \"num_unique_values\": 4023,\n        \"samples\": [\n          9273.46,\n          7024.93,\n          8569.82\n        ],\n        \"semantic_type\": \"\",\n        \"description\": \"\"\n      }\n    },\n    {\n      \"column\": \"MarkDown2\",\n      \"properties\": {\n        \"dtype\": \"number\",\n        \"std\": 8793.58301550763,\n        \"min\": -265.76,\n        \"max\": 104519.54,\n        \"num_unique_values\": 2715,\n        \"samples\": [\n          252.8,\n          2675.46,\n          2347.13\n        ],\n        \"semantic_type\": \"\",\n        \"description\": \"\"\n      }\n    },\n    {\n      \"column\": \"MarkDown3\",\n      \"properties\": {\n        \"dtype\": \"number\",\n        \"std\": 11276.462208022962,\n        \"min\": -179.26,\n        \"max\": 149483.31,\n        \"num_unique_values\": 2885,\n        \"samples\": [\n          7.35,\n          182.74,\n          163.27\n        ],\n        \"semantic_type\": \"\",\n        \"description\": \"\"\n      }\n    },\n    {\n      \"column\": \"MarkDown4\",\n      \"properties\": {\n        \"dtype\": \"number\",\n        \"std\": 6792.329861347639,\n        \"min\": 0.22,\n        \"max\": 67474.85,\n        \"num_unique_values\": 3405,\n        \"samples\": [\n          113.37,\n          1270.8,\n          24079.57\n        ],\n        \"semantic_type\": \"\",\n        \"description\": \"\"\n      }\n    },\n    {\n      \"column\": \"MarkDown5\",\n      \"properties\": {\n        \"dtype\": \"number\",\n        \"std\": 13086.690278200185,\n        \"min\": -185.17,\n        \"max\": 771448.1,\n        \"num_unique_values\": 4045,\n        \"samples\": [\n          3666.08,\n          3479.8,\n          4958.33\n        ],\n        \"semantic_type\": \"\",\n        \"description\": \"\"\n      }\n    },\n    {\n      \"column\": \"CPI\",\n      \"properties\": {\n        \"dtype\": \"number\",\n        \"std\": 39.73834609860846,\n        \"min\": 126.064,\n        \"max\": 228.9764563,\n        \"num_unique_values\": 2505,\n        \"samples\": [\n          139.1226129,\n          216.0282356,\n          210.0451024\n        ],\n        \"semantic_type\": \"\",\n        \"description\": \"\"\n      }\n    },\n    {\n      \"column\": \"Unemployment\",\n      \"properties\": {\n        \"dtype\": \"number\",\n        \"std\": 1.87725859391744,\n        \"min\": 3.684,\n        \"max\": 14.313,\n        \"num_unique_values\": 404,\n        \"samples\": [\n          7.259,\n          5.213,\n          6.901\n        ],\n        \"semantic_type\": \"\",\n        \"description\": \"\"\n      }\n    },\n    {\n      \"column\": \"IsHoliday\",\n      \"properties\": {\n        \"dtype\": \"boolean\",\n        \"num_unique_values\": 2,\n        \"samples\": [\n          true,\n          false\n        ],\n        \"semantic_type\": \"\",\n        \"description\": \"\"\n      }\n    }\n  ]\n}"
            }
          },
          "metadata": {},
          "execution_count": 13
        }
      ]
    },
    {
      "cell_type": "code",
      "source": [
        "# merging 3 different sets\n",
        "df = df_train.merge(df_features, on=['Store', 'Date'], how='inner').merge(df_store, on=['Store'], how='inner')\n",
        "df.head(5)"
      ],
      "metadata": {
        "execution": {
          "iopub.status.busy": "2022-04-22T05:36:11.122285Z",
          "iopub.execute_input": "2022-04-22T05:36:11.122629Z",
          "iopub.status.idle": "2022-04-22T05:36:11.332406Z",
          "shell.execute_reply.started": "2022-04-22T05:36:11.122589Z",
          "shell.execute_reply": "2022-04-22T05:36:11.331644Z"
        },
        "trusted": true,
        "id": "OWbmyUHHPkxT",
        "outputId": "e4140d37-52ea-40f3-9946-b59ea542d6a1",
        "colab": {
          "base_uri": "https://localhost:8080/",
          "height": 313
        }
      },
      "execution_count": null,
      "outputs": [
        {
          "output_type": "execute_result",
          "data": {
            "text/plain": [
              "   Store  Dept        Date  Weekly_Sales  IsHoliday_x  Temperature  \\\n",
              "0      1     1  2010-02-05      24924.50        False        42.31   \n",
              "1      1     1  2010-02-12      46039.49         True        38.51   \n",
              "2      1     1  2010-02-19      41595.55        False        39.93   \n",
              "3      1     1  2010-02-26      19403.54        False        46.63   \n",
              "4      1     1  2010-03-05      21827.90        False        46.50   \n",
              "\n",
              "   Fuel_Price  MarkDown1  MarkDown2  MarkDown3  MarkDown4  MarkDown5  \\\n",
              "0       2.572        NaN        NaN        NaN        NaN        NaN   \n",
              "1       2.548        NaN        NaN        NaN        NaN        NaN   \n",
              "2       2.514        NaN        NaN        NaN        NaN        NaN   \n",
              "3       2.561        NaN        NaN        NaN        NaN        NaN   \n",
              "4       2.625        NaN        NaN        NaN        NaN        NaN   \n",
              "\n",
              "          CPI  Unemployment  IsHoliday_y Type    Size  \n",
              "0  211.096358         8.106        False    A  151315  \n",
              "1  211.242170         8.106         True    A  151315  \n",
              "2  211.289143         8.106        False    A  151315  \n",
              "3  211.319643         8.106        False    A  151315  \n",
              "4  211.350143         8.106        False    A  151315  "
            ],
            "text/html": [
              "\n",
              "  <div id=\"df-1053f4ba-da8c-4567-b6ae-e80afee131a4\" class=\"colab-df-container\">\n",
              "    <div>\n",
              "<style scoped>\n",
              "    .dataframe tbody tr th:only-of-type {\n",
              "        vertical-align: middle;\n",
              "    }\n",
              "\n",
              "    .dataframe tbody tr th {\n",
              "        vertical-align: top;\n",
              "    }\n",
              "\n",
              "    .dataframe thead th {\n",
              "        text-align: right;\n",
              "    }\n",
              "</style>\n",
              "<table border=\"1\" class=\"dataframe\">\n",
              "  <thead>\n",
              "    <tr style=\"text-align: right;\">\n",
              "      <th></th>\n",
              "      <th>Store</th>\n",
              "      <th>Dept</th>\n",
              "      <th>Date</th>\n",
              "      <th>Weekly_Sales</th>\n",
              "      <th>IsHoliday_x</th>\n",
              "      <th>Temperature</th>\n",
              "      <th>Fuel_Price</th>\n",
              "      <th>MarkDown1</th>\n",
              "      <th>MarkDown2</th>\n",
              "      <th>MarkDown3</th>\n",
              "      <th>MarkDown4</th>\n",
              "      <th>MarkDown5</th>\n",
              "      <th>CPI</th>\n",
              "      <th>Unemployment</th>\n",
              "      <th>IsHoliday_y</th>\n",
              "      <th>Type</th>\n",
              "      <th>Size</th>\n",
              "    </tr>\n",
              "  </thead>\n",
              "  <tbody>\n",
              "    <tr>\n",
              "      <th>0</th>\n",
              "      <td>1</td>\n",
              "      <td>1</td>\n",
              "      <td>2010-02-05</td>\n",
              "      <td>24924.50</td>\n",
              "      <td>False</td>\n",
              "      <td>42.31</td>\n",
              "      <td>2.572</td>\n",
              "      <td>NaN</td>\n",
              "      <td>NaN</td>\n",
              "      <td>NaN</td>\n",
              "      <td>NaN</td>\n",
              "      <td>NaN</td>\n",
              "      <td>211.096358</td>\n",
              "      <td>8.106</td>\n",
              "      <td>False</td>\n",
              "      <td>A</td>\n",
              "      <td>151315</td>\n",
              "    </tr>\n",
              "    <tr>\n",
              "      <th>1</th>\n",
              "      <td>1</td>\n",
              "      <td>1</td>\n",
              "      <td>2010-02-12</td>\n",
              "      <td>46039.49</td>\n",
              "      <td>True</td>\n",
              "      <td>38.51</td>\n",
              "      <td>2.548</td>\n",
              "      <td>NaN</td>\n",
              "      <td>NaN</td>\n",
              "      <td>NaN</td>\n",
              "      <td>NaN</td>\n",
              "      <td>NaN</td>\n",
              "      <td>211.242170</td>\n",
              "      <td>8.106</td>\n",
              "      <td>True</td>\n",
              "      <td>A</td>\n",
              "      <td>151315</td>\n",
              "    </tr>\n",
              "    <tr>\n",
              "      <th>2</th>\n",
              "      <td>1</td>\n",
              "      <td>1</td>\n",
              "      <td>2010-02-19</td>\n",
              "      <td>41595.55</td>\n",
              "      <td>False</td>\n",
              "      <td>39.93</td>\n",
              "      <td>2.514</td>\n",
              "      <td>NaN</td>\n",
              "      <td>NaN</td>\n",
              "      <td>NaN</td>\n",
              "      <td>NaN</td>\n",
              "      <td>NaN</td>\n",
              "      <td>211.289143</td>\n",
              "      <td>8.106</td>\n",
              "      <td>False</td>\n",
              "      <td>A</td>\n",
              "      <td>151315</td>\n",
              "    </tr>\n",
              "    <tr>\n",
              "      <th>3</th>\n",
              "      <td>1</td>\n",
              "      <td>1</td>\n",
              "      <td>2010-02-26</td>\n",
              "      <td>19403.54</td>\n",
              "      <td>False</td>\n",
              "      <td>46.63</td>\n",
              "      <td>2.561</td>\n",
              "      <td>NaN</td>\n",
              "      <td>NaN</td>\n",
              "      <td>NaN</td>\n",
              "      <td>NaN</td>\n",
              "      <td>NaN</td>\n",
              "      <td>211.319643</td>\n",
              "      <td>8.106</td>\n",
              "      <td>False</td>\n",
              "      <td>A</td>\n",
              "      <td>151315</td>\n",
              "    </tr>\n",
              "    <tr>\n",
              "      <th>4</th>\n",
              "      <td>1</td>\n",
              "      <td>1</td>\n",
              "      <td>2010-03-05</td>\n",
              "      <td>21827.90</td>\n",
              "      <td>False</td>\n",
              "      <td>46.50</td>\n",
              "      <td>2.625</td>\n",
              "      <td>NaN</td>\n",
              "      <td>NaN</td>\n",
              "      <td>NaN</td>\n",
              "      <td>NaN</td>\n",
              "      <td>NaN</td>\n",
              "      <td>211.350143</td>\n",
              "      <td>8.106</td>\n",
              "      <td>False</td>\n",
              "      <td>A</td>\n",
              "      <td>151315</td>\n",
              "    </tr>\n",
              "  </tbody>\n",
              "</table>\n",
              "</div>\n",
              "    <div class=\"colab-df-buttons\">\n",
              "\n",
              "  <div class=\"colab-df-container\">\n",
              "    <button class=\"colab-df-convert\" onclick=\"convertToInteractive('df-1053f4ba-da8c-4567-b6ae-e80afee131a4')\"\n",
              "            title=\"Convert this dataframe to an interactive table.\"\n",
              "            style=\"display:none;\">\n",
              "\n",
              "  <svg xmlns=\"http://www.w3.org/2000/svg\" height=\"24px\" viewBox=\"0 -960 960 960\">\n",
              "    <path d=\"M120-120v-720h720v720H120Zm60-500h600v-160H180v160Zm220 220h160v-160H400v160Zm0 220h160v-160H400v160ZM180-400h160v-160H180v160Zm440 0h160v-160H620v160ZM180-180h160v-160H180v160Zm440 0h160v-160H620v160Z\"/>\n",
              "  </svg>\n",
              "    </button>\n",
              "\n",
              "  <style>\n",
              "    .colab-df-container {\n",
              "      display:flex;\n",
              "      gap: 12px;\n",
              "    }\n",
              "\n",
              "    .colab-df-convert {\n",
              "      background-color: #E8F0FE;\n",
              "      border: none;\n",
              "      border-radius: 50%;\n",
              "      cursor: pointer;\n",
              "      display: none;\n",
              "      fill: #1967D2;\n",
              "      height: 32px;\n",
              "      padding: 0 0 0 0;\n",
              "      width: 32px;\n",
              "    }\n",
              "\n",
              "    .colab-df-convert:hover {\n",
              "      background-color: #E2EBFA;\n",
              "      box-shadow: 0px 1px 2px rgba(60, 64, 67, 0.3), 0px 1px 3px 1px rgba(60, 64, 67, 0.15);\n",
              "      fill: #174EA6;\n",
              "    }\n",
              "\n",
              "    .colab-df-buttons div {\n",
              "      margin-bottom: 4px;\n",
              "    }\n",
              "\n",
              "    [theme=dark] .colab-df-convert {\n",
              "      background-color: #3B4455;\n",
              "      fill: #D2E3FC;\n",
              "    }\n",
              "\n",
              "    [theme=dark] .colab-df-convert:hover {\n",
              "      background-color: #434B5C;\n",
              "      box-shadow: 0px 1px 3px 1px rgba(0, 0, 0, 0.15);\n",
              "      filter: drop-shadow(0px 1px 2px rgba(0, 0, 0, 0.3));\n",
              "      fill: #FFFFFF;\n",
              "    }\n",
              "  </style>\n",
              "\n",
              "    <script>\n",
              "      const buttonEl =\n",
              "        document.querySelector('#df-1053f4ba-da8c-4567-b6ae-e80afee131a4 button.colab-df-convert');\n",
              "      buttonEl.style.display =\n",
              "        google.colab.kernel.accessAllowed ? 'block' : 'none';\n",
              "\n",
              "      async function convertToInteractive(key) {\n",
              "        const element = document.querySelector('#df-1053f4ba-da8c-4567-b6ae-e80afee131a4');\n",
              "        const dataTable =\n",
              "          await google.colab.kernel.invokeFunction('convertToInteractive',\n",
              "                                                    [key], {});\n",
              "        if (!dataTable) return;\n",
              "\n",
              "        const docLinkHtml = 'Like what you see? Visit the ' +\n",
              "          '<a target=\"_blank\" href=https://colab.research.google.com/notebooks/data_table.ipynb>data table notebook</a>'\n",
              "          + ' to learn more about interactive tables.';\n",
              "        element.innerHTML = '';\n",
              "        dataTable['output_type'] = 'display_data';\n",
              "        await google.colab.output.renderOutput(dataTable, element);\n",
              "        const docLink = document.createElement('div');\n",
              "        docLink.innerHTML = docLinkHtml;\n",
              "        element.appendChild(docLink);\n",
              "      }\n",
              "    </script>\n",
              "  </div>\n",
              "\n",
              "\n",
              "<div id=\"df-fe7076cc-ec3a-4afb-916f-2486e420af25\">\n",
              "  <button class=\"colab-df-quickchart\" onclick=\"quickchart('df-fe7076cc-ec3a-4afb-916f-2486e420af25')\"\n",
              "            title=\"Suggest charts\"\n",
              "            style=\"display:none;\">\n",
              "\n",
              "<svg xmlns=\"http://www.w3.org/2000/svg\" height=\"24px\"viewBox=\"0 0 24 24\"\n",
              "     width=\"24px\">\n",
              "    <g>\n",
              "        <path d=\"M19 3H5c-1.1 0-2 .9-2 2v14c0 1.1.9 2 2 2h14c1.1 0 2-.9 2-2V5c0-1.1-.9-2-2-2zM9 17H7v-7h2v7zm4 0h-2V7h2v10zm4 0h-2v-4h2v4z\"/>\n",
              "    </g>\n",
              "</svg>\n",
              "  </button>\n",
              "\n",
              "<style>\n",
              "  .colab-df-quickchart {\n",
              "      --bg-color: #E8F0FE;\n",
              "      --fill-color: #1967D2;\n",
              "      --hover-bg-color: #E2EBFA;\n",
              "      --hover-fill-color: #174EA6;\n",
              "      --disabled-fill-color: #AAA;\n",
              "      --disabled-bg-color: #DDD;\n",
              "  }\n",
              "\n",
              "  [theme=dark] .colab-df-quickchart {\n",
              "      --bg-color: #3B4455;\n",
              "      --fill-color: #D2E3FC;\n",
              "      --hover-bg-color: #434B5C;\n",
              "      --hover-fill-color: #FFFFFF;\n",
              "      --disabled-bg-color: #3B4455;\n",
              "      --disabled-fill-color: #666;\n",
              "  }\n",
              "\n",
              "  .colab-df-quickchart {\n",
              "    background-color: var(--bg-color);\n",
              "    border: none;\n",
              "    border-radius: 50%;\n",
              "    cursor: pointer;\n",
              "    display: none;\n",
              "    fill: var(--fill-color);\n",
              "    height: 32px;\n",
              "    padding: 0;\n",
              "    width: 32px;\n",
              "  }\n",
              "\n",
              "  .colab-df-quickchart:hover {\n",
              "    background-color: var(--hover-bg-color);\n",
              "    box-shadow: 0 1px 2px rgba(60, 64, 67, 0.3), 0 1px 3px 1px rgba(60, 64, 67, 0.15);\n",
              "    fill: var(--button-hover-fill-color);\n",
              "  }\n",
              "\n",
              "  .colab-df-quickchart-complete:disabled,\n",
              "  .colab-df-quickchart-complete:disabled:hover {\n",
              "    background-color: var(--disabled-bg-color);\n",
              "    fill: var(--disabled-fill-color);\n",
              "    box-shadow: none;\n",
              "  }\n",
              "\n",
              "  .colab-df-spinner {\n",
              "    border: 2px solid var(--fill-color);\n",
              "    border-color: transparent;\n",
              "    border-bottom-color: var(--fill-color);\n",
              "    animation:\n",
              "      spin 1s steps(1) infinite;\n",
              "  }\n",
              "\n",
              "  @keyframes spin {\n",
              "    0% {\n",
              "      border-color: transparent;\n",
              "      border-bottom-color: var(--fill-color);\n",
              "      border-left-color: var(--fill-color);\n",
              "    }\n",
              "    20% {\n",
              "      border-color: transparent;\n",
              "      border-left-color: var(--fill-color);\n",
              "      border-top-color: var(--fill-color);\n",
              "    }\n",
              "    30% {\n",
              "      border-color: transparent;\n",
              "      border-left-color: var(--fill-color);\n",
              "      border-top-color: var(--fill-color);\n",
              "      border-right-color: var(--fill-color);\n",
              "    }\n",
              "    40% {\n",
              "      border-color: transparent;\n",
              "      border-right-color: var(--fill-color);\n",
              "      border-top-color: var(--fill-color);\n",
              "    }\n",
              "    60% {\n",
              "      border-color: transparent;\n",
              "      border-right-color: var(--fill-color);\n",
              "    }\n",
              "    80% {\n",
              "      border-color: transparent;\n",
              "      border-right-color: var(--fill-color);\n",
              "      border-bottom-color: var(--fill-color);\n",
              "    }\n",
              "    90% {\n",
              "      border-color: transparent;\n",
              "      border-bottom-color: var(--fill-color);\n",
              "    }\n",
              "  }\n",
              "</style>\n",
              "\n",
              "  <script>\n",
              "    async function quickchart(key) {\n",
              "      const quickchartButtonEl =\n",
              "        document.querySelector('#' + key + ' button');\n",
              "      quickchartButtonEl.disabled = true;  // To prevent multiple clicks.\n",
              "      quickchartButtonEl.classList.add('colab-df-spinner');\n",
              "      try {\n",
              "        const charts = await google.colab.kernel.invokeFunction(\n",
              "            'suggestCharts', [key], {});\n",
              "      } catch (error) {\n",
              "        console.error('Error during call to suggestCharts:', error);\n",
              "      }\n",
              "      quickchartButtonEl.classList.remove('colab-df-spinner');\n",
              "      quickchartButtonEl.classList.add('colab-df-quickchart-complete');\n",
              "    }\n",
              "    (() => {\n",
              "      let quickchartButtonEl =\n",
              "        document.querySelector('#df-fe7076cc-ec3a-4afb-916f-2486e420af25 button');\n",
              "      quickchartButtonEl.style.display =\n",
              "        google.colab.kernel.accessAllowed ? 'block' : 'none';\n",
              "    })();\n",
              "  </script>\n",
              "</div>\n",
              "\n",
              "    </div>\n",
              "  </div>\n"
            ],
            "application/vnd.google.colaboratory.intrinsic+json": {
              "type": "dataframe",
              "variable_name": "df"
            }
          },
          "metadata": {},
          "execution_count": 14
        }
      ]
    },
    {
      "cell_type": "code",
      "source": [
        "df.drop(['IsHoliday_y'], axis=1,inplace=True) # removing dublicated column"
      ],
      "metadata": {
        "execution": {
          "iopub.status.busy": "2022-04-22T05:36:11.333862Z",
          "iopub.execute_input": "2022-04-22T05:36:11.334295Z",
          "iopub.status.idle": "2022-04-22T05:36:11.402002Z",
          "shell.execute_reply.started": "2022-04-22T05:36:11.334254Z",
          "shell.execute_reply": "2022-04-22T05:36:11.401167Z"
        },
        "trusted": true,
        "id": "UKsk1vb4PkxT"
      },
      "execution_count": null,
      "outputs": []
    },
    {
      "cell_type": "code",
      "source": [
        "df.rename(columns={'IsHoliday_x':'IsHoliday'},inplace=True) # rename the column"
      ],
      "metadata": {
        "execution": {
          "iopub.status.busy": "2022-04-22T05:36:11.40342Z",
          "iopub.execute_input": "2022-04-22T05:36:11.403785Z",
          "iopub.status.idle": "2022-04-22T05:36:11.409174Z",
          "shell.execute_reply.started": "2022-04-22T05:36:11.403745Z",
          "shell.execute_reply": "2022-04-22T05:36:11.408374Z"
        },
        "trusted": true,
        "id": "zC_emLpJPkxU"
      },
      "execution_count": null,
      "outputs": []
    },
    {
      "cell_type": "code",
      "source": [
        "df.head() # last ready data set"
      ],
      "metadata": {
        "scrolled": true,
        "execution": {
          "iopub.status.busy": "2022-04-22T05:36:11.410847Z",
          "iopub.execute_input": "2022-04-22T05:36:11.411122Z",
          "iopub.status.idle": "2022-04-22T05:36:11.436105Z",
          "shell.execute_reply.started": "2022-04-22T05:36:11.411085Z",
          "shell.execute_reply": "2022-04-22T05:36:11.435376Z"
        },
        "trusted": true,
        "id": "OQ-AL7CNPkxU",
        "outputId": "af7d9a9e-7562-4c88-9bd4-4a7703105910",
        "colab": {
          "base_uri": "https://localhost:8080/",
          "height": 313
        }
      },
      "execution_count": null,
      "outputs": [
        {
          "output_type": "execute_result",
          "data": {
            "text/plain": [
              "   Store  Dept        Date  Weekly_Sales  IsHoliday  Temperature  Fuel_Price  \\\n",
              "0      1     1  2010-02-05      24924.50      False        42.31       2.572   \n",
              "1      1     1  2010-02-12      46039.49       True        38.51       2.548   \n",
              "2      1     1  2010-02-19      41595.55      False        39.93       2.514   \n",
              "3      1     1  2010-02-26      19403.54      False        46.63       2.561   \n",
              "4      1     1  2010-03-05      21827.90      False        46.50       2.625   \n",
              "\n",
              "   MarkDown1  MarkDown2  MarkDown3  MarkDown4  MarkDown5         CPI  \\\n",
              "0        NaN        NaN        NaN        NaN        NaN  211.096358   \n",
              "1        NaN        NaN        NaN        NaN        NaN  211.242170   \n",
              "2        NaN        NaN        NaN        NaN        NaN  211.289143   \n",
              "3        NaN        NaN        NaN        NaN        NaN  211.319643   \n",
              "4        NaN        NaN        NaN        NaN        NaN  211.350143   \n",
              "\n",
              "   Unemployment Type    Size  \n",
              "0         8.106    A  151315  \n",
              "1         8.106    A  151315  \n",
              "2         8.106    A  151315  \n",
              "3         8.106    A  151315  \n",
              "4         8.106    A  151315  "
            ],
            "text/html": [
              "\n",
              "  <div id=\"df-870a8db9-3f61-49aa-8b96-6d116d44da39\" class=\"colab-df-container\">\n",
              "    <div>\n",
              "<style scoped>\n",
              "    .dataframe tbody tr th:only-of-type {\n",
              "        vertical-align: middle;\n",
              "    }\n",
              "\n",
              "    .dataframe tbody tr th {\n",
              "        vertical-align: top;\n",
              "    }\n",
              "\n",
              "    .dataframe thead th {\n",
              "        text-align: right;\n",
              "    }\n",
              "</style>\n",
              "<table border=\"1\" class=\"dataframe\">\n",
              "  <thead>\n",
              "    <tr style=\"text-align: right;\">\n",
              "      <th></th>\n",
              "      <th>Store</th>\n",
              "      <th>Dept</th>\n",
              "      <th>Date</th>\n",
              "      <th>Weekly_Sales</th>\n",
              "      <th>IsHoliday</th>\n",
              "      <th>Temperature</th>\n",
              "      <th>Fuel_Price</th>\n",
              "      <th>MarkDown1</th>\n",
              "      <th>MarkDown2</th>\n",
              "      <th>MarkDown3</th>\n",
              "      <th>MarkDown4</th>\n",
              "      <th>MarkDown5</th>\n",
              "      <th>CPI</th>\n",
              "      <th>Unemployment</th>\n",
              "      <th>Type</th>\n",
              "      <th>Size</th>\n",
              "    </tr>\n",
              "  </thead>\n",
              "  <tbody>\n",
              "    <tr>\n",
              "      <th>0</th>\n",
              "      <td>1</td>\n",
              "      <td>1</td>\n",
              "      <td>2010-02-05</td>\n",
              "      <td>24924.50</td>\n",
              "      <td>False</td>\n",
              "      <td>42.31</td>\n",
              "      <td>2.572</td>\n",
              "      <td>NaN</td>\n",
              "      <td>NaN</td>\n",
              "      <td>NaN</td>\n",
              "      <td>NaN</td>\n",
              "      <td>NaN</td>\n",
              "      <td>211.096358</td>\n",
              "      <td>8.106</td>\n",
              "      <td>A</td>\n",
              "      <td>151315</td>\n",
              "    </tr>\n",
              "    <tr>\n",
              "      <th>1</th>\n",
              "      <td>1</td>\n",
              "      <td>1</td>\n",
              "      <td>2010-02-12</td>\n",
              "      <td>46039.49</td>\n",
              "      <td>True</td>\n",
              "      <td>38.51</td>\n",
              "      <td>2.548</td>\n",
              "      <td>NaN</td>\n",
              "      <td>NaN</td>\n",
              "      <td>NaN</td>\n",
              "      <td>NaN</td>\n",
              "      <td>NaN</td>\n",
              "      <td>211.242170</td>\n",
              "      <td>8.106</td>\n",
              "      <td>A</td>\n",
              "      <td>151315</td>\n",
              "    </tr>\n",
              "    <tr>\n",
              "      <th>2</th>\n",
              "      <td>1</td>\n",
              "      <td>1</td>\n",
              "      <td>2010-02-19</td>\n",
              "      <td>41595.55</td>\n",
              "      <td>False</td>\n",
              "      <td>39.93</td>\n",
              "      <td>2.514</td>\n",
              "      <td>NaN</td>\n",
              "      <td>NaN</td>\n",
              "      <td>NaN</td>\n",
              "      <td>NaN</td>\n",
              "      <td>NaN</td>\n",
              "      <td>211.289143</td>\n",
              "      <td>8.106</td>\n",
              "      <td>A</td>\n",
              "      <td>151315</td>\n",
              "    </tr>\n",
              "    <tr>\n",
              "      <th>3</th>\n",
              "      <td>1</td>\n",
              "      <td>1</td>\n",
              "      <td>2010-02-26</td>\n",
              "      <td>19403.54</td>\n",
              "      <td>False</td>\n",
              "      <td>46.63</td>\n",
              "      <td>2.561</td>\n",
              "      <td>NaN</td>\n",
              "      <td>NaN</td>\n",
              "      <td>NaN</td>\n",
              "      <td>NaN</td>\n",
              "      <td>NaN</td>\n",
              "      <td>211.319643</td>\n",
              "      <td>8.106</td>\n",
              "      <td>A</td>\n",
              "      <td>151315</td>\n",
              "    </tr>\n",
              "    <tr>\n",
              "      <th>4</th>\n",
              "      <td>1</td>\n",
              "      <td>1</td>\n",
              "      <td>2010-03-05</td>\n",
              "      <td>21827.90</td>\n",
              "      <td>False</td>\n",
              "      <td>46.50</td>\n",
              "      <td>2.625</td>\n",
              "      <td>NaN</td>\n",
              "      <td>NaN</td>\n",
              "      <td>NaN</td>\n",
              "      <td>NaN</td>\n",
              "      <td>NaN</td>\n",
              "      <td>211.350143</td>\n",
              "      <td>8.106</td>\n",
              "      <td>A</td>\n",
              "      <td>151315</td>\n",
              "    </tr>\n",
              "  </tbody>\n",
              "</table>\n",
              "</div>\n",
              "    <div class=\"colab-df-buttons\">\n",
              "\n",
              "  <div class=\"colab-df-container\">\n",
              "    <button class=\"colab-df-convert\" onclick=\"convertToInteractive('df-870a8db9-3f61-49aa-8b96-6d116d44da39')\"\n",
              "            title=\"Convert this dataframe to an interactive table.\"\n",
              "            style=\"display:none;\">\n",
              "\n",
              "  <svg xmlns=\"http://www.w3.org/2000/svg\" height=\"24px\" viewBox=\"0 -960 960 960\">\n",
              "    <path d=\"M120-120v-720h720v720H120Zm60-500h600v-160H180v160Zm220 220h160v-160H400v160Zm0 220h160v-160H400v160ZM180-400h160v-160H180v160Zm440 0h160v-160H620v160ZM180-180h160v-160H180v160Zm440 0h160v-160H620v160Z\"/>\n",
              "  </svg>\n",
              "    </button>\n",
              "\n",
              "  <style>\n",
              "    .colab-df-container {\n",
              "      display:flex;\n",
              "      gap: 12px;\n",
              "    }\n",
              "\n",
              "    .colab-df-convert {\n",
              "      background-color: #E8F0FE;\n",
              "      border: none;\n",
              "      border-radius: 50%;\n",
              "      cursor: pointer;\n",
              "      display: none;\n",
              "      fill: #1967D2;\n",
              "      height: 32px;\n",
              "      padding: 0 0 0 0;\n",
              "      width: 32px;\n",
              "    }\n",
              "\n",
              "    .colab-df-convert:hover {\n",
              "      background-color: #E2EBFA;\n",
              "      box-shadow: 0px 1px 2px rgba(60, 64, 67, 0.3), 0px 1px 3px 1px rgba(60, 64, 67, 0.15);\n",
              "      fill: #174EA6;\n",
              "    }\n",
              "\n",
              "    .colab-df-buttons div {\n",
              "      margin-bottom: 4px;\n",
              "    }\n",
              "\n",
              "    [theme=dark] .colab-df-convert {\n",
              "      background-color: #3B4455;\n",
              "      fill: #D2E3FC;\n",
              "    }\n",
              "\n",
              "    [theme=dark] .colab-df-convert:hover {\n",
              "      background-color: #434B5C;\n",
              "      box-shadow: 0px 1px 3px 1px rgba(0, 0, 0, 0.15);\n",
              "      filter: drop-shadow(0px 1px 2px rgba(0, 0, 0, 0.3));\n",
              "      fill: #FFFFFF;\n",
              "    }\n",
              "  </style>\n",
              "\n",
              "    <script>\n",
              "      const buttonEl =\n",
              "        document.querySelector('#df-870a8db9-3f61-49aa-8b96-6d116d44da39 button.colab-df-convert');\n",
              "      buttonEl.style.display =\n",
              "        google.colab.kernel.accessAllowed ? 'block' : 'none';\n",
              "\n",
              "      async function convertToInteractive(key) {\n",
              "        const element = document.querySelector('#df-870a8db9-3f61-49aa-8b96-6d116d44da39');\n",
              "        const dataTable =\n",
              "          await google.colab.kernel.invokeFunction('convertToInteractive',\n",
              "                                                    [key], {});\n",
              "        if (!dataTable) return;\n",
              "\n",
              "        const docLinkHtml = 'Like what you see? Visit the ' +\n",
              "          '<a target=\"_blank\" href=https://colab.research.google.com/notebooks/data_table.ipynb>data table notebook</a>'\n",
              "          + ' to learn more about interactive tables.';\n",
              "        element.innerHTML = '';\n",
              "        dataTable['output_type'] = 'display_data';\n",
              "        await google.colab.output.renderOutput(dataTable, element);\n",
              "        const docLink = document.createElement('div');\n",
              "        docLink.innerHTML = docLinkHtml;\n",
              "        element.appendChild(docLink);\n",
              "      }\n",
              "    </script>\n",
              "  </div>\n",
              "\n",
              "\n",
              "<div id=\"df-35f1e17b-72c6-4502-9cfb-79c5088c34a5\">\n",
              "  <button class=\"colab-df-quickchart\" onclick=\"quickchart('df-35f1e17b-72c6-4502-9cfb-79c5088c34a5')\"\n",
              "            title=\"Suggest charts\"\n",
              "            style=\"display:none;\">\n",
              "\n",
              "<svg xmlns=\"http://www.w3.org/2000/svg\" height=\"24px\"viewBox=\"0 0 24 24\"\n",
              "     width=\"24px\">\n",
              "    <g>\n",
              "        <path d=\"M19 3H5c-1.1 0-2 .9-2 2v14c0 1.1.9 2 2 2h14c1.1 0 2-.9 2-2V5c0-1.1-.9-2-2-2zM9 17H7v-7h2v7zm4 0h-2V7h2v10zm4 0h-2v-4h2v4z\"/>\n",
              "    </g>\n",
              "</svg>\n",
              "  </button>\n",
              "\n",
              "<style>\n",
              "  .colab-df-quickchart {\n",
              "      --bg-color: #E8F0FE;\n",
              "      --fill-color: #1967D2;\n",
              "      --hover-bg-color: #E2EBFA;\n",
              "      --hover-fill-color: #174EA6;\n",
              "      --disabled-fill-color: #AAA;\n",
              "      --disabled-bg-color: #DDD;\n",
              "  }\n",
              "\n",
              "  [theme=dark] .colab-df-quickchart {\n",
              "      --bg-color: #3B4455;\n",
              "      --fill-color: #D2E3FC;\n",
              "      --hover-bg-color: #434B5C;\n",
              "      --hover-fill-color: #FFFFFF;\n",
              "      --disabled-bg-color: #3B4455;\n",
              "      --disabled-fill-color: #666;\n",
              "  }\n",
              "\n",
              "  .colab-df-quickchart {\n",
              "    background-color: var(--bg-color);\n",
              "    border: none;\n",
              "    border-radius: 50%;\n",
              "    cursor: pointer;\n",
              "    display: none;\n",
              "    fill: var(--fill-color);\n",
              "    height: 32px;\n",
              "    padding: 0;\n",
              "    width: 32px;\n",
              "  }\n",
              "\n",
              "  .colab-df-quickchart:hover {\n",
              "    background-color: var(--hover-bg-color);\n",
              "    box-shadow: 0 1px 2px rgba(60, 64, 67, 0.3), 0 1px 3px 1px rgba(60, 64, 67, 0.15);\n",
              "    fill: var(--button-hover-fill-color);\n",
              "  }\n",
              "\n",
              "  .colab-df-quickchart-complete:disabled,\n",
              "  .colab-df-quickchart-complete:disabled:hover {\n",
              "    background-color: var(--disabled-bg-color);\n",
              "    fill: var(--disabled-fill-color);\n",
              "    box-shadow: none;\n",
              "  }\n",
              "\n",
              "  .colab-df-spinner {\n",
              "    border: 2px solid var(--fill-color);\n",
              "    border-color: transparent;\n",
              "    border-bottom-color: var(--fill-color);\n",
              "    animation:\n",
              "      spin 1s steps(1) infinite;\n",
              "  }\n",
              "\n",
              "  @keyframes spin {\n",
              "    0% {\n",
              "      border-color: transparent;\n",
              "      border-bottom-color: var(--fill-color);\n",
              "      border-left-color: var(--fill-color);\n",
              "    }\n",
              "    20% {\n",
              "      border-color: transparent;\n",
              "      border-left-color: var(--fill-color);\n",
              "      border-top-color: var(--fill-color);\n",
              "    }\n",
              "    30% {\n",
              "      border-color: transparent;\n",
              "      border-left-color: var(--fill-color);\n",
              "      border-top-color: var(--fill-color);\n",
              "      border-right-color: var(--fill-color);\n",
              "    }\n",
              "    40% {\n",
              "      border-color: transparent;\n",
              "      border-right-color: var(--fill-color);\n",
              "      border-top-color: var(--fill-color);\n",
              "    }\n",
              "    60% {\n",
              "      border-color: transparent;\n",
              "      border-right-color: var(--fill-color);\n",
              "    }\n",
              "    80% {\n",
              "      border-color: transparent;\n",
              "      border-right-color: var(--fill-color);\n",
              "      border-bottom-color: var(--fill-color);\n",
              "    }\n",
              "    90% {\n",
              "      border-color: transparent;\n",
              "      border-bottom-color: var(--fill-color);\n",
              "    }\n",
              "  }\n",
              "</style>\n",
              "\n",
              "  <script>\n",
              "    async function quickchart(key) {\n",
              "      const quickchartButtonEl =\n",
              "        document.querySelector('#' + key + ' button');\n",
              "      quickchartButtonEl.disabled = true;  // To prevent multiple clicks.\n",
              "      quickchartButtonEl.classList.add('colab-df-spinner');\n",
              "      try {\n",
              "        const charts = await google.colab.kernel.invokeFunction(\n",
              "            'suggestCharts', [key], {});\n",
              "      } catch (error) {\n",
              "        console.error('Error during call to suggestCharts:', error);\n",
              "      }\n",
              "      quickchartButtonEl.classList.remove('colab-df-spinner');\n",
              "      quickchartButtonEl.classList.add('colab-df-quickchart-complete');\n",
              "    }\n",
              "    (() => {\n",
              "      let quickchartButtonEl =\n",
              "        document.querySelector('#df-35f1e17b-72c6-4502-9cfb-79c5088c34a5 button');\n",
              "      quickchartButtonEl.style.display =\n",
              "        google.colab.kernel.accessAllowed ? 'block' : 'none';\n",
              "    })();\n",
              "  </script>\n",
              "</div>\n",
              "\n",
              "    </div>\n",
              "  </div>\n"
            ],
            "application/vnd.google.colaboratory.intrinsic+json": {
              "type": "dataframe",
              "variable_name": "df"
            }
          },
          "metadata": {},
          "execution_count": 17
        }
      ]
    },
    {
      "cell_type": "code",
      "source": [
        "df.shape"
      ],
      "metadata": {
        "execution": {
          "iopub.status.busy": "2022-04-22T05:36:11.437578Z",
          "iopub.execute_input": "2022-04-22T05:36:11.437964Z",
          "iopub.status.idle": "2022-04-22T05:36:11.446768Z",
          "shell.execute_reply.started": "2022-04-22T05:36:11.437923Z",
          "shell.execute_reply": "2022-04-22T05:36:11.445799Z"
        },
        "trusted": true,
        "id": "vR_2z7xNPkxV",
        "outputId": "f0fca1ef-9e05-4526-e6bb-226d6c0c90db",
        "colab": {
          "base_uri": "https://localhost:8080/"
        }
      },
      "execution_count": null,
      "outputs": [
        {
          "output_type": "execute_result",
          "data": {
            "text/plain": [
              "(421570, 16)"
            ]
          },
          "metadata": {},
          "execution_count": 18
        }
      ]
    },
    {
      "cell_type": "markdown",
      "source": [
        "# Store & Department Numbers"
      ],
      "metadata": {
        "id": "eutByjABPkxV"
      }
    },
    {
      "cell_type": "code",
      "source": [
        "df['Store'].nunique() # number of different values"
      ],
      "metadata": {
        "execution": {
          "iopub.status.busy": "2022-04-22T05:36:11.452107Z",
          "iopub.execute_input": "2022-04-22T05:36:11.452321Z",
          "iopub.status.idle": "2022-04-22T05:36:11.462457Z",
          "shell.execute_reply.started": "2022-04-22T05:36:11.452289Z",
          "shell.execute_reply": "2022-04-22T05:36:11.461605Z"
        },
        "trusted": true,
        "id": "le8JnMroPkxW"
      },
      "execution_count": null,
      "outputs": []
    },
    {
      "cell_type": "code",
      "source": [
        "df['Dept'].nunique() # number of different values"
      ],
      "metadata": {
        "scrolled": true,
        "execution": {
          "iopub.status.busy": "2022-04-22T05:36:11.464091Z",
          "iopub.execute_input": "2022-04-22T05:36:11.464598Z",
          "iopub.status.idle": "2022-04-22T05:36:11.474779Z",
          "shell.execute_reply.started": "2022-04-22T05:36:11.46456Z",
          "shell.execute_reply": "2022-04-22T05:36:11.473795Z"
        },
        "trusted": true,
        "id": "h_MvnQZzPkxW"
      },
      "execution_count": null,
      "outputs": []
    },
    {
      "cell_type": "markdown",
      "source": [
        "Now, I will look at the average weekly sales for each store and each department to see if there is any weird values or not. There are 45 stores and 81 departments for stores."
      ],
      "metadata": {
        "id": "p_ExDFsLPkxW"
      }
    },
    {
      "cell_type": "code",
      "source": [
        "store_dept_table = pd.pivot_table(df, index='Store', columns='Dept',\n",
        "                                  values='Weekly_Sales', aggfunc=np.mean)\n",
        "display(store_dept_table)"
      ],
      "metadata": {
        "execution": {
          "iopub.status.busy": "2022-04-22T05:36:11.476222Z",
          "iopub.execute_input": "2022-04-22T05:36:11.476515Z",
          "iopub.status.idle": "2022-04-22T05:36:11.705763Z",
          "shell.execute_reply.started": "2022-04-22T05:36:11.476477Z",
          "shell.execute_reply": "2022-04-22T05:36:11.705034Z"
        },
        "trusted": true,
        "id": "i-EkcWVUPkxW"
      },
      "execution_count": null,
      "outputs": []
    },
    {
      "cell_type": "markdown",
      "source": [
        "Store numbers begin from 1 to 45, department numbers are from 1 to 99, but some numbers are missing such as there is no 88 or 89 etc. Total number of departments is 81.\n",
        "\n",
        "From the pivot table, it is obviously seen that there are some wrong values such as there are 0 and minus values for weekly sales. But sales amount can not be minus. Also, it is impossible for one department not to sell anything whole week. So, I will change this values."
      ],
      "metadata": {
        "id": "yDNyKmG5PkxX"
      }
    },
    {
      "cell_type": "code",
      "source": [
        "df.loc[df['Weekly_Sales']<=0]"
      ],
      "metadata": {
        "execution": {
          "iopub.status.busy": "2022-04-22T05:36:11.706852Z",
          "iopub.execute_input": "2022-04-22T05:36:11.707104Z",
          "iopub.status.idle": "2022-04-22T05:36:11.741554Z",
          "shell.execute_reply.started": "2022-04-22T05:36:11.707069Z",
          "shell.execute_reply": "2022-04-22T05:36:11.740707Z"
        },
        "trusted": true,
        "id": "9wTkUmv5PkxX"
      },
      "execution_count": null,
      "outputs": []
    },
    {
      "cell_type": "markdown",
      "source": [
        "1358 rows in 421570 rows means 0.3%, so I can delete and ignore these rows which contains wrong sales values."
      ],
      "metadata": {
        "id": "_G928aYRPkxX"
      }
    },
    {
      "cell_type": "code",
      "source": [
        "df = df.loc[df['Weekly_Sales'] > 0]"
      ],
      "metadata": {
        "execution": {
          "iopub.status.busy": "2022-04-22T05:36:11.743104Z",
          "iopub.execute_input": "2022-04-22T05:36:11.743432Z",
          "iopub.status.idle": "2022-04-22T05:36:11.777507Z",
          "shell.execute_reply.started": "2022-04-22T05:36:11.743394Z",
          "shell.execute_reply": "2022-04-22T05:36:11.776679Z"
        },
        "trusted": true,
        "id": "DzdV7AHIPkxX"
      },
      "execution_count": null,
      "outputs": []
    },
    {
      "cell_type": "code",
      "source": [
        "df.shape # new data shape"
      ],
      "metadata": {
        "execution": {
          "iopub.status.busy": "2022-04-22T05:36:11.778865Z",
          "iopub.execute_input": "2022-04-22T05:36:11.77921Z",
          "iopub.status.idle": "2022-04-22T05:36:11.7868Z",
          "shell.execute_reply.started": "2022-04-22T05:36:11.779172Z",
          "shell.execute_reply": "2022-04-22T05:36:11.785875Z"
        },
        "trusted": true,
        "id": "5X7768AjPkxY"
      },
      "execution_count": null,
      "outputs": []
    },
    {
      "cell_type": "markdown",
      "source": [
        "# Date"
      ],
      "metadata": {
        "id": "9FdXAswfPkxY"
      }
    },
    {
      "cell_type": "code",
      "source": [
        "df['Date'].head(5).append(df['Date'].tail(5)) # to see first and last 5 rows."
      ],
      "metadata": {
        "execution": {
          "iopub.status.busy": "2022-04-22T05:36:11.788482Z",
          "iopub.execute_input": "2022-04-22T05:36:11.789057Z",
          "iopub.status.idle": "2022-04-22T05:36:11.799342Z",
          "shell.execute_reply.started": "2022-04-22T05:36:11.789017Z",
          "shell.execute_reply": "2022-04-22T05:36:11.798508Z"
        },
        "trusted": true,
        "id": "_S0tARtjPkxY"
      },
      "execution_count": null,
      "outputs": []
    },
    {
      "cell_type": "markdown",
      "source": [
        "Our data is from 5th of February 2010 to 26th of October 2012.  "
      ],
      "metadata": {
        "id": "cL2U_34NPkxZ"
      }
    },
    {
      "cell_type": "markdown",
      "source": [
        "# IsHoliday column"
      ],
      "metadata": {
        "id": "4391JM5YPkxZ"
      }
    },
    {
      "cell_type": "code",
      "source": [
        "sns.barplot(x='IsHoliday', y='Weekly_Sales', data=df)"
      ],
      "metadata": {
        "scrolled": true,
        "execution": {
          "iopub.status.busy": "2022-04-22T05:36:11.80121Z",
          "iopub.execute_input": "2022-04-22T05:36:11.801876Z",
          "iopub.status.idle": "2022-04-22T05:36:17.023362Z",
          "shell.execute_reply.started": "2022-04-22T05:36:11.801835Z",
          "shell.execute_reply": "2022-04-22T05:36:17.022589Z"
        },
        "trusted": true,
        "id": "QIEcr_qhPkxa"
      },
      "execution_count": null,
      "outputs": []
    },
    {
      "cell_type": "code",
      "source": [
        "df_holiday = df.loc[df['IsHoliday']==True]\n",
        "df_holiday['Date'].unique()"
      ],
      "metadata": {
        "execution": {
          "iopub.status.busy": "2022-04-22T05:36:17.02496Z",
          "iopub.execute_input": "2022-04-22T05:36:17.025484Z",
          "iopub.status.idle": "2022-04-22T05:36:17.04134Z",
          "shell.execute_reply.started": "2022-04-22T05:36:17.02544Z",
          "shell.execute_reply": "2022-04-22T05:36:17.040195Z"
        },
        "trusted": true,
        "id": "rbZZKX9NPkxa"
      },
      "execution_count": null,
      "outputs": []
    },
    {
      "cell_type": "code",
      "source": [
        "df_not_holiday = df.loc[df['IsHoliday']==False]\n",
        "df_not_holiday['Date'].nunique()"
      ],
      "metadata": {
        "execution": {
          "iopub.status.busy": "2022-04-22T05:36:17.042794Z",
          "iopub.execute_input": "2022-04-22T05:36:17.043239Z",
          "iopub.status.idle": "2022-04-22T05:36:17.110521Z",
          "shell.execute_reply.started": "2022-04-22T05:36:17.043199Z",
          "shell.execute_reply": "2022-04-22T05:36:17.109762Z"
        },
        "trusted": true,
        "id": "Cu9cEIVtPkxb"
      },
      "execution_count": null,
      "outputs": []
    },
    {
      "cell_type": "markdown",
      "source": [
        "All holidays are not in the data. There are 4 holiday values such as;\n",
        "\n",
        "Super Bowl: 12-Feb-10, 11-Feb-11, 10-Feb-12, 8-Feb-13\n",
        "\n",
        "Labor Day: 10-Sep-10, 9-Sep-11, 7-Sep-12, 6-Sep-13\n",
        "\n",
        "Thanksgiving: 26-Nov-10, 25-Nov-11, 23-Nov-12, 29-Nov-13\n",
        "\n",
        "Christmas: 31-Dec-10, 30-Dec-11, 28-Dec-12, 27-Dec-13\n",
        "\n",
        "\n",
        "After the 07-Sep-2012 holidays are in test set for prediction. When we look at the data, average weekly sales for holidays are significantly higher than not-holiday days. In train data, there are 133 weeks for non-holiday and 10 weeks for holiday."
      ],
      "metadata": {
        "id": "UIO1vSgbPkxb"
      }
    },
    {
      "cell_type": "markdown",
      "source": [
        "I want to see differences between holiday types. So, I create new columns for 4 types of holidays and fill them with boolean values. If date belongs to this type of holiday it is True, if not False."
      ],
      "metadata": {
        "id": "M0yKD5_bPkxe"
      }
    },
    {
      "cell_type": "code",
      "source": [
        "# Super bowl dates in train set\n",
        "df.loc[(df['Date'] == '2010-02-12')|(df['Date'] == '2011-02-11')|(df['Date'] == '2012-02-10'),'Super_Bowl'] = True\n",
        "df.loc[(df['Date'] != '2010-02-12')&(df['Date'] != '2011-02-11')&(df['Date'] != '2012-02-10'),'Super_Bowl'] = False"
      ],
      "metadata": {
        "execution": {
          "iopub.status.busy": "2022-04-22T05:36:17.112027Z",
          "iopub.execute_input": "2022-04-22T05:36:17.112456Z",
          "iopub.status.idle": "2022-04-22T05:36:17.567184Z",
          "shell.execute_reply.started": "2022-04-22T05:36:17.112415Z",
          "shell.execute_reply": "2022-04-22T05:36:17.566287Z"
        },
        "trusted": true,
        "id": "Uk994BzDPkxe"
      },
      "execution_count": null,
      "outputs": []
    },
    {
      "cell_type": "code",
      "source": [
        "# Labor day dates in train set\n",
        "df.loc[(df['Date'] == '2010-09-10')|(df['Date'] == '2011-09-09')|(df['Date'] == '2012-09-07'),'Labor_Day'] = True\n",
        "df.loc[(df['Date'] != '2010-09-10')&(df['Date'] != '2011-09-09')&(df['Date'] != '2012-09-07'),'Labor_Day'] = False"
      ],
      "metadata": {
        "execution": {
          "iopub.status.busy": "2022-04-22T05:36:17.568887Z",
          "iopub.execute_input": "2022-04-22T05:36:17.569351Z",
          "iopub.status.idle": "2022-04-22T05:36:18.056123Z",
          "shell.execute_reply.started": "2022-04-22T05:36:17.569305Z",
          "shell.execute_reply": "2022-04-22T05:36:18.055164Z"
        },
        "trusted": true,
        "id": "ynCzfZ6ePkxg"
      },
      "execution_count": null,
      "outputs": []
    },
    {
      "cell_type": "code",
      "source": [
        "# Thanksgiving dates in train set\n",
        "df.loc[(df['Date'] == '2010-11-26')|(df['Date'] == '2011-11-25'),'Thanksgiving'] = True\n",
        "df.loc[(df['Date'] != '2010-11-26')&(df['Date'] != '2011-11-25'),'Thanksgiving'] = False"
      ],
      "metadata": {
        "execution": {
          "iopub.status.busy": "2022-04-22T05:36:18.057728Z",
          "iopub.execute_input": "2022-04-22T05:36:18.058232Z",
          "iopub.status.idle": "2022-04-22T05:36:18.503178Z",
          "shell.execute_reply.started": "2022-04-22T05:36:18.058191Z",
          "shell.execute_reply": "2022-04-22T05:36:18.502324Z"
        },
        "trusted": true,
        "id": "Esv48tKDPkxg"
      },
      "execution_count": null,
      "outputs": []
    },
    {
      "cell_type": "code",
      "source": [
        "#Christmas dates in train set\n",
        "df.loc[(df['Date'] == '2010-12-31')|(df['Date'] == '2011-12-30'),'Christmas'] = True\n",
        "df.loc[(df['Date'] != '2010-12-31')&(df['Date'] != '2011-12-30'),'Christmas'] = False"
      ],
      "metadata": {
        "execution": {
          "iopub.status.busy": "2022-04-22T05:36:18.508037Z",
          "iopub.execute_input": "2022-04-22T05:36:18.510912Z",
          "iopub.status.idle": "2022-04-22T05:36:18.85323Z",
          "shell.execute_reply.started": "2022-04-22T05:36:18.510862Z",
          "shell.execute_reply": "2022-04-22T05:36:18.852426Z"
        },
        "trusted": true,
        "id": "H6mTGSZhPkxg"
      },
      "execution_count": null,
      "outputs": []
    },
    {
      "cell_type": "code",
      "source": [
        "sns.barplot(x='Christmas', y='Weekly_Sales', data=df) # Christmas holiday vs not-Christmas"
      ],
      "metadata": {
        "scrolled": true,
        "execution": {
          "iopub.status.busy": "2022-04-22T05:36:18.854527Z",
          "iopub.execute_input": "2022-04-22T05:36:18.854846Z",
          "iopub.status.idle": "2022-04-22T05:36:24.379839Z",
          "shell.execute_reply.started": "2022-04-22T05:36:18.854806Z",
          "shell.execute_reply": "2022-04-22T05:36:24.379088Z"
        },
        "trusted": true,
        "id": "CY6mR6zdPkxh"
      },
      "execution_count": null,
      "outputs": []
    },
    {
      "cell_type": "code",
      "source": [
        "sns.barplot(x='Thanksgiving', y='Weekly_Sales', data=df) # Thanksgiving holiday vs not-thanksgiving"
      ],
      "metadata": {
        "execution": {
          "iopub.status.busy": "2022-04-22T05:36:24.381313Z",
          "iopub.execute_input": "2022-04-22T05:36:24.381585Z",
          "iopub.status.idle": "2022-04-22T05:36:30.554564Z",
          "shell.execute_reply.started": "2022-04-22T05:36:24.381545Z",
          "shell.execute_reply": "2022-04-22T05:36:30.553669Z"
        },
        "trusted": true,
        "id": "Eqcfn535Pkxh"
      },
      "execution_count": null,
      "outputs": []
    },
    {
      "cell_type": "code",
      "source": [
        "sns.barplot(x='Super_Bowl', y='Weekly_Sales', data=df) # Super bowl holiday vs not-super bowl"
      ],
      "metadata": {
        "scrolled": true,
        "execution": {
          "iopub.status.busy": "2022-04-22T05:36:30.55607Z",
          "iopub.execute_input": "2022-04-22T05:36:30.55704Z",
          "iopub.status.idle": "2022-04-22T05:36:36.056323Z",
          "shell.execute_reply.started": "2022-04-22T05:36:30.556991Z",
          "shell.execute_reply": "2022-04-22T05:36:36.055596Z"
        },
        "trusted": true,
        "id": "7o_xpo8IPkxh"
      },
      "execution_count": null,
      "outputs": []
    },
    {
      "cell_type": "code",
      "source": [
        "sns.barplot(x='Labor_Day', y='Weekly_Sales', data=df) # Labor day holiday vs not-labor day"
      ],
      "metadata": {
        "execution": {
          "iopub.status.busy": "2022-04-22T05:36:36.05764Z",
          "iopub.execute_input": "2022-04-22T05:36:36.058102Z",
          "iopub.status.idle": "2022-04-22T05:36:41.91872Z",
          "shell.execute_reply.started": "2022-04-22T05:36:36.058058Z",
          "shell.execute_reply": "2022-04-22T05:36:41.917765Z"
        },
        "trusted": true,
        "id": "-hz9DuF5Pkxi"
      },
      "execution_count": null,
      "outputs": []
    },
    {
      "cell_type": "markdown",
      "source": [
        "It is shown that for the graphs, Labor Day and Christmas do not increase weekly average sales. There is positive effect on sales in Super bowl, but the highest difference is in the Thanksgiving. I think, people generally prefer to buy Christmas gifts 1-2 weeks before Christmas, so it does not change sales in the Christmas week. And, there is Black Friday sales in the Thanksgiving week."
      ],
      "metadata": {
        "id": "bn7BzTamPkxi"
      }
    },
    {
      "cell_type": "markdown",
      "source": [
        "# Type Effect on Holidays"
      ],
      "metadata": {
        "id": "aY96KunwPkxj"
      }
    },
    {
      "cell_type": "markdown",
      "source": [
        "There are three different store types in the data as A, B and C."
      ],
      "metadata": {
        "id": "Zs9EtU4CPkxj"
      }
    },
    {
      "cell_type": "code",
      "source": [
        "df.groupby(['Christmas','Type'])['Weekly_Sales'].mean()  # Avg weekly sales for types on Christmas"
      ],
      "metadata": {
        "execution": {
          "iopub.status.busy": "2022-04-22T05:36:41.920384Z",
          "iopub.execute_input": "2022-04-22T05:36:41.920878Z",
          "iopub.status.idle": "2022-04-22T05:36:42.019675Z",
          "shell.execute_reply.started": "2022-04-22T05:36:41.920834Z",
          "shell.execute_reply": "2022-04-22T05:36:42.018768Z"
        },
        "trusted": true,
        "id": "Tk3ajzJ-Pkxj"
      },
      "execution_count": null,
      "outputs": []
    },
    {
      "cell_type": "code",
      "source": [
        "df.groupby(['Labor_Day','Type'])['Weekly_Sales'].mean()  # Avg weekly sales for types on Labor Day"
      ],
      "metadata": {
        "execution": {
          "iopub.status.busy": "2022-04-22T05:36:42.023268Z",
          "iopub.execute_input": "2022-04-22T05:36:42.025058Z",
          "iopub.status.idle": "2022-04-22T05:36:42.114944Z",
          "shell.execute_reply.started": "2022-04-22T05:36:42.024953Z",
          "shell.execute_reply": "2022-04-22T05:36:42.113811Z"
        },
        "trusted": true,
        "id": "v1hAZW-QPkxk"
      },
      "execution_count": null,
      "outputs": []
    },
    {
      "cell_type": "code",
      "source": [
        "df.groupby(['Thanksgiving','Type'])['Weekly_Sales'].mean()  # Avg weekly sales for types on Thanksgiving"
      ],
      "metadata": {
        "execution": {
          "iopub.status.busy": "2022-04-22T05:36:42.116652Z",
          "iopub.execute_input": "2022-04-22T05:36:42.117051Z",
          "iopub.status.idle": "2022-04-22T05:36:42.205231Z",
          "shell.execute_reply.started": "2022-04-22T05:36:42.117005Z",
          "shell.execute_reply": "2022-04-22T05:36:42.204305Z"
        },
        "trusted": true,
        "id": "ItVv4xSEPkxk"
      },
      "execution_count": null,
      "outputs": []
    },
    {
      "cell_type": "code",
      "source": [
        "df.groupby(['Super_Bowl','Type'])['Weekly_Sales'].mean()  # Avg weekly sales for types on Super Bowl"
      ],
      "metadata": {
        "execution": {
          "iopub.status.busy": "2022-04-22T05:36:42.2071Z",
          "iopub.execute_input": "2022-04-22T05:36:42.207391Z",
          "iopub.status.idle": "2022-04-22T05:36:42.293743Z",
          "shell.execute_reply.started": "2022-04-22T05:36:42.207352Z",
          "shell.execute_reply": "2022-04-22T05:36:42.292864Z"
        },
        "trusted": true,
        "id": "CWwLSgPdPkxl"
      },
      "execution_count": null,
      "outputs": []
    },
    {
      "cell_type": "markdown",
      "source": [
        "I want to see percentages of store types."
      ],
      "metadata": {
        "id": "8OcKZd1jPkxl"
      }
    },
    {
      "cell_type": "code",
      "source": [
        "my_data = [48.88, 37.77 , 13.33 ]  #percentages\n",
        "my_labels = 'Type A','Type B', 'Type C' # labels\n",
        "plt.pie(my_data,labels=my_labels,autopct='%1.1f%%', textprops={'fontsize': 15}) #plot pie type and bigger the labels\n",
        "plt.axis('equal')\n",
        "mpl.rcParams.update({'font.size': 20}) #bigger percentage labels\n",
        "\n",
        "plt.show()"
      ],
      "metadata": {
        "execution": {
          "iopub.status.busy": "2022-04-22T05:36:42.29564Z",
          "iopub.execute_input": "2022-04-22T05:36:42.296074Z",
          "iopub.status.idle": "2022-04-22T05:36:42.420353Z",
          "shell.execute_reply.started": "2022-04-22T05:36:42.296028Z",
          "shell.execute_reply": "2022-04-22T05:36:42.419133Z"
        },
        "trusted": true,
        "id": "iOrCkEu_Pkxl"
      },
      "execution_count": null,
      "outputs": []
    },
    {
      "cell_type": "code",
      "source": [
        "df.groupby('IsHoliday')['Weekly_Sales'].mean()"
      ],
      "metadata": {
        "execution": {
          "iopub.status.busy": "2022-04-22T05:36:42.422428Z",
          "iopub.execute_input": "2022-04-22T05:36:42.423052Z",
          "iopub.status.idle": "2022-04-22T05:36:42.454352Z",
          "shell.execute_reply.started": "2022-04-22T05:36:42.423005Z",
          "shell.execute_reply": "2022-04-22T05:36:42.453421Z"
        },
        "trusted": true,
        "id": "SoR0QktpPkxm"
      },
      "execution_count": null,
      "outputs": []
    },
    {
      "cell_type": "markdown",
      "source": [
        "Nearly, half of the stores are belongs to Type A."
      ],
      "metadata": {
        "id": "_mn7XrpiPkxm"
      }
    },
    {
      "cell_type": "code",
      "source": [
        "# Plotting avg wekkly sales according to holidays by types\n",
        "plt.style.use('seaborn-poster')\n",
        "labels = ['Thanksgiving', 'Super_Bowl', 'Labor_Day', 'Christmas']\n",
        "A_means = [27397.77, 20612.75, 20004.26, 18310.16]\n",
        "B_means = [18733.97, 12463.41, 12080.75, 11483.97]\n",
        "C_means = [9696.56,10179.27,9893.45,8031.52]\n",
        "\n",
        "x = np.arange(len(labels))  # the label locations\n",
        "width = 0.25  # the width of the bars\n",
        "\n",
        "fig, ax = plt.subplots(figsize=(16, 8))\n",
        "rects1 = ax.bar(x - width, A_means, width, label='Type_A')\n",
        "rects2 = ax.bar(x , B_means, width, label='Type_B')\n",
        "rects3 = ax.bar(x + width, C_means, width, label='Type_C')\n",
        "\n",
        "# Add some text for labels, title and custom x-axis tick labels, etc.\n",
        "ax.set_ylabel('Weekly Avg Sales')\n",
        "ax.set_xticks(x)\n",
        "ax.set_xticklabels(labels)\n",
        "ax.legend()\n",
        "\n",
        "\n",
        "def autolabel(rects):\n",
        "    \"\"\"Attach a text label above each bar in *rects*, displaying its height.\"\"\"\n",
        "    for rect in rects:\n",
        "        height = rect.get_height()\n",
        "        ax.annotate('{}'.format(height),\n",
        "                    xy=(rect.get_x() + rect.get_width() / 2, height),\n",
        "                    xytext=(0, 3),  # 3 points vertical offset\n",
        "                    textcoords=\"offset points\",\n",
        "                    ha='center', va='bottom')\n",
        "\n",
        "\n",
        "autolabel(rects1)\n",
        "autolabel(rects2)\n",
        "autolabel(rects3)\n",
        "\n",
        "plt.axhline(y=17094.30,color='r') # holidays avg\n",
        "plt.axhline(y=15952.82,color='green') # not-holiday avg\n",
        "\n",
        "fig.tight_layout()\n",
        "\n",
        "plt.show()"
      ],
      "metadata": {
        "scrolled": true,
        "execution": {
          "iopub.status.busy": "2022-04-22T05:36:42.458205Z",
          "iopub.execute_input": "2022-04-22T05:36:42.46234Z",
          "iopub.status.idle": "2022-04-22T05:36:42.915454Z",
          "shell.execute_reply.started": "2022-04-22T05:36:42.46229Z",
          "shell.execute_reply": "2022-04-22T05:36:42.91471Z"
        },
        "trusted": true,
        "id": "Bh4SKRkJPkxn"
      },
      "execution_count": null,
      "outputs": []
    },
    {
      "cell_type": "markdown",
      "source": [
        "It is seen from the graph that, highest sale average is in the Thanksgiving week between holidays. And, for all holidays Type A stores has highest sales."
      ],
      "metadata": {
        "id": "MhGQbq8uPkxn"
      }
    },
    {
      "cell_type": "code",
      "source": [
        "df.sort_values(by='Weekly_Sales',ascending=False).head(5)"
      ],
      "metadata": {
        "scrolled": true,
        "execution": {
          "iopub.status.busy": "2022-04-22T05:36:42.916832Z",
          "iopub.execute_input": "2022-04-22T05:36:42.917213Z",
          "iopub.status.idle": "2022-04-22T05:36:43.090303Z",
          "shell.execute_reply.started": "2022-04-22T05:36:42.917171Z",
          "shell.execute_reply": "2022-04-22T05:36:43.089518Z"
        },
        "trusted": true,
        "id": "-wepTwfMPkxo"
      },
      "execution_count": null,
      "outputs": []
    },
    {
      "cell_type": "markdown",
      "source": [
        "Also, it is not surprise that top 5 highest weekly sales are belongs to Thanksgiving weeks."
      ],
      "metadata": {
        "id": "_bbU5imoPkxp"
      }
    },
    {
      "cell_type": "markdown",
      "source": [
        "# To See the Size - Type Relation"
      ],
      "metadata": {
        "id": "eKQKhvgWPkxp"
      }
    },
    {
      "cell_type": "code",
      "source": [
        "df_store.groupby('Type').describe()['Size'].round(2) # See the Size-Type relation"
      ],
      "metadata": {
        "execution": {
          "iopub.status.busy": "2022-04-22T05:36:43.091605Z",
          "iopub.execute_input": "2022-04-22T05:36:43.092504Z",
          "iopub.status.idle": "2022-04-22T05:36:43.135556Z",
          "shell.execute_reply.started": "2022-04-22T05:36:43.092461Z",
          "shell.execute_reply": "2022-04-22T05:36:43.134725Z"
        },
        "trusted": true,
        "id": "i9vV_RwQPkxp"
      },
      "execution_count": null,
      "outputs": []
    },
    {
      "cell_type": "code",
      "source": [
        "plt.figure(figsize=(10,8)) # To see the type-size relation\n",
        "fig = sns.boxplot(x='Type', y='Size', data=df, showfliers=False)"
      ],
      "metadata": {
        "execution": {
          "iopub.status.busy": "2022-04-22T05:36:43.144467Z",
          "iopub.execute_input": "2022-04-22T05:36:43.144696Z",
          "iopub.status.idle": "2022-04-22T05:36:43.67721Z",
          "shell.execute_reply.started": "2022-04-22T05:36:43.144667Z",
          "shell.execute_reply": "2022-04-22T05:36:43.676461Z"
        },
        "trusted": true,
        "id": "plqkZ8jRPkxq"
      },
      "execution_count": null,
      "outputs": []
    },
    {
      "cell_type": "markdown",
      "source": [
        "Size of the type of stores are consistent with sales, as expected. Higher size stores has higher sales. And, Walmart classify stores according to their sizes according to graph. After the smallest size value of Type A, Type B begins. After the smallest size value of Type B, Type C begins."
      ],
      "metadata": {
        "id": "Yq8EqEbDPkxq"
      }
    },
    {
      "cell_type": "markdown",
      "source": [
        "# Markdown Columns"
      ],
      "metadata": {
        "id": "sGqbbd_aPkxq"
      }
    },
    {
      "cell_type": "markdown",
      "source": [
        "Walmart gave markdown columns to see the effect if markdowns on sales. When I check columns, there are many NaN values for markdowns. I decided to change them with 0, because if there is markdown in the row, it is shown with numbres. So, if I can write 0, it shows there is no markdown at that date."
      ],
      "metadata": {
        "id": "0ZA2Q3iyPkxr"
      }
    },
    {
      "cell_type": "code",
      "source": [
        "df.isna().sum()"
      ],
      "metadata": {
        "execution": {
          "iopub.status.busy": "2022-04-22T05:36:43.678494Z",
          "iopub.execute_input": "2022-04-22T05:36:43.679094Z",
          "iopub.status.idle": "2022-04-22T05:36:43.976721Z",
          "shell.execute_reply.started": "2022-04-22T05:36:43.679052Z",
          "shell.execute_reply": "2022-04-22T05:36:43.97594Z"
        },
        "trusted": true,
        "id": "u69CdruSPkxr"
      },
      "execution_count": null,
      "outputs": []
    },
    {
      "cell_type": "code",
      "source": [
        "df = df.fillna(0) # filling null's with 0"
      ],
      "metadata": {
        "execution": {
          "iopub.status.busy": "2022-04-22T05:36:43.978208Z",
          "iopub.execute_input": "2022-04-22T05:36:43.978663Z",
          "iopub.status.idle": "2022-04-22T05:36:44.412598Z",
          "shell.execute_reply.started": "2022-04-22T05:36:43.978618Z",
          "shell.execute_reply": "2022-04-22T05:36:44.41179Z"
        },
        "trusted": true,
        "id": "uAvLj6pfPkxr"
      },
      "execution_count": null,
      "outputs": []
    },
    {
      "cell_type": "code",
      "source": [
        "df.isna().sum() # last null check"
      ],
      "metadata": {
        "execution": {
          "iopub.status.busy": "2022-04-22T05:36:44.414147Z",
          "iopub.execute_input": "2022-04-22T05:36:44.414707Z",
          "iopub.status.idle": "2022-04-22T05:36:44.527294Z",
          "shell.execute_reply.started": "2022-04-22T05:36:44.414662Z",
          "shell.execute_reply": "2022-04-22T05:36:44.526389Z"
        },
        "trusted": true,
        "id": "wXXtL4xEPkxr"
      },
      "execution_count": null,
      "outputs": []
    },
    {
      "cell_type": "code",
      "source": [
        "df.describe() # to see weird statistical things"
      ],
      "metadata": {
        "execution": {
          "iopub.status.busy": "2022-04-22T05:36:44.528905Z",
          "iopub.execute_input": "2022-04-22T05:36:44.529198Z",
          "iopub.status.idle": "2022-04-22T05:36:44.703887Z",
          "shell.execute_reply.started": "2022-04-22T05:36:44.529156Z",
          "shell.execute_reply": "2022-04-22T05:36:44.702977Z"
        },
        "trusted": true,
        "id": "1HpFkexqPkxr"
      },
      "execution_count": null,
      "outputs": []
    },
    {
      "cell_type": "markdown",
      "source": [
        "Minimum value for weekly sales is 0.01. Most probably, this value is not true but I prefer not to change them now. Because, there are many departments and many stores. It takes too much time to check each department for each store (45 store for 81 departments). So, I take averages for EDA."
      ],
      "metadata": {
        "id": "tn6AjJFFPkxs"
      }
    },
    {
      "cell_type": "markdown",
      "source": [
        "# Deeper Look in Sales"
      ],
      "metadata": {
        "id": "RLxvyKDIPkxs"
      }
    },
    {
      "cell_type": "code",
      "source": [
        "x = df['Dept']\n",
        "y = df['Weekly_Sales']\n",
        "plt.figure(figsize=(15,5))\n",
        "plt.title('Weekly Sales by Department')\n",
        "plt.xlabel('Departments')\n",
        "plt.ylabel('Weekly Sales')\n",
        "plt.scatter(x,y)\n",
        "plt.show()"
      ],
      "metadata": {
        "execution": {
          "iopub.status.busy": "2022-04-22T05:36:44.7055Z",
          "iopub.execute_input": "2022-04-22T05:36:44.7058Z",
          "iopub.status.idle": "2022-04-22T05:36:46.27343Z",
          "shell.execute_reply.started": "2022-04-22T05:36:44.705761Z",
          "shell.execute_reply": "2022-04-22T05:36:46.272639Z"
        },
        "trusted": true,
        "id": "l1OLMnQjPkxs"
      },
      "execution_count": null,
      "outputs": []
    },
    {
      "cell_type": "code",
      "source": [
        "plt.figure(figsize=(30,10))\n",
        "fig = sns.barplot(x='Dept', y='Weekly_Sales', data=df)"
      ],
      "metadata": {
        "scrolled": true,
        "execution": {
          "iopub.status.busy": "2022-04-22T05:36:46.274932Z",
          "iopub.execute_input": "2022-04-22T05:36:46.275215Z",
          "iopub.status.idle": "2022-04-22T05:36:54.930423Z",
          "shell.execute_reply.started": "2022-04-22T05:36:46.275176Z",
          "shell.execute_reply": "2022-04-22T05:36:54.929634Z"
        },
        "trusted": true,
        "id": "BcxHFBphPkxs"
      },
      "execution_count": null,
      "outputs": []
    },
    {
      "cell_type": "markdown",
      "source": [
        "From the first graph, it is seen that one department between 60-80(I assume it is 72), has higher sales values. But, when we take the averages, it is seen that department 92 has higher mean sales. Department 72 is seasonal department, I think. It has higher values is some seasons but on average 92 is higher."
      ],
      "metadata": {
        "id": "8Nz7L4bpPkxs"
      }
    },
    {
      "cell_type": "code",
      "source": [
        "x = df['Store']\n",
        "y = df['Weekly_Sales']\n",
        "plt.figure(figsize=(15,5))\n",
        "plt.title('Weekly Sales by Store')\n",
        "plt.xlabel('Stores')\n",
        "plt.ylabel('Weekly Sales')\n",
        "plt.scatter(x,y)\n",
        "plt.show()"
      ],
      "metadata": {
        "execution": {
          "iopub.status.busy": "2022-04-22T05:36:54.931868Z",
          "iopub.execute_input": "2022-04-22T05:36:54.933435Z",
          "iopub.status.idle": "2022-04-22T05:36:56.48095Z",
          "shell.execute_reply.started": "2022-04-22T05:36:54.933389Z",
          "shell.execute_reply": "2022-04-22T05:36:56.480189Z"
        },
        "trusted": true,
        "id": "XwmxvO5iPkxu"
      },
      "execution_count": null,
      "outputs": []
    },
    {
      "cell_type": "code",
      "source": [
        "plt.figure(figsize=(20,6))\n",
        "fig = sns.barplot(x='Store', y='Weekly_Sales', data=df)"
      ],
      "metadata": {
        "execution": {
          "iopub.status.busy": "2022-04-22T05:36:56.482128Z",
          "iopub.execute_input": "2022-04-22T05:36:56.482599Z",
          "iopub.status.idle": "2022-04-22T05:37:03.835427Z",
          "shell.execute_reply.started": "2022-04-22T05:36:56.482558Z",
          "shell.execute_reply": "2022-04-22T05:37:03.834622Z"
        },
        "trusted": true,
        "id": "bo0H7-sePkxv"
      },
      "execution_count": null,
      "outputs": []
    },
    {
      "cell_type": "markdown",
      "source": [
        "Same thing happens in stores. From the first graph, some stores has higher sales but on average store 20 is the best and 4 and 14 following it."
      ],
      "metadata": {
        "id": "DLoQoBM0Pkxv"
      }
    },
    {
      "cell_type": "markdown",
      "source": [
        "# Changing Date to Datetime and Creating New Columns"
      ],
      "metadata": {
        "id": "gFKcI_acPkxv"
      }
    },
    {
      "cell_type": "code",
      "source": [
        "df[\"Date\"] = pd.to_datetime(df[\"Date\"]) # convert to datetime\n",
        "df['week'] =df['Date'].dt.week\n",
        "df['month'] =df['Date'].dt.month\n",
        "df['year'] =df['Date'].dt.year"
      ],
      "metadata": {
        "execution": {
          "iopub.status.busy": "2022-04-22T05:37:03.837053Z",
          "iopub.execute_input": "2022-04-22T05:37:03.837365Z",
          "iopub.status.idle": "2022-04-22T05:37:04.146496Z",
          "shell.execute_reply.started": "2022-04-22T05:37:03.837323Z",
          "shell.execute_reply": "2022-04-22T05:37:04.145641Z"
        },
        "trusted": true,
        "id": "aMoQkqgxPkxv"
      },
      "execution_count": null,
      "outputs": []
    },
    {
      "cell_type": "code",
      "source": [
        "df.groupby('month')['Weekly_Sales'].mean() # to see the best months for sales"
      ],
      "metadata": {
        "execution": {
          "iopub.status.busy": "2022-04-22T05:37:04.14816Z",
          "iopub.execute_input": "2022-04-22T05:37:04.148481Z",
          "iopub.status.idle": "2022-04-22T05:37:04.167475Z",
          "shell.execute_reply.started": "2022-04-22T05:37:04.148442Z",
          "shell.execute_reply": "2022-04-22T05:37:04.166713Z"
        },
        "trusted": true,
        "id": "JcjBpm2KPkxw"
      },
      "execution_count": null,
      "outputs": []
    },
    {
      "cell_type": "code",
      "source": [
        "df.groupby('year')['Weekly_Sales'].mean() # to see the best years for sales"
      ],
      "metadata": {
        "execution": {
          "iopub.status.busy": "2022-04-22T05:37:04.16868Z",
          "iopub.execute_input": "2022-04-22T05:37:04.168997Z",
          "iopub.status.idle": "2022-04-22T05:37:04.187634Z",
          "shell.execute_reply.started": "2022-04-22T05:37:04.168956Z",
          "shell.execute_reply": "2022-04-22T05:37:04.186912Z"
        },
        "trusted": true,
        "id": "EZ22AZwPPkxw"
      },
      "execution_count": null,
      "outputs": []
    },
    {
      "cell_type": "code",
      "source": [
        "monthly_sales = pd.pivot_table(df, values = \"Weekly_Sales\", columns = \"year\", index = \"month\")\n",
        "monthly_sales.plot()"
      ],
      "metadata": {
        "execution": {
          "iopub.status.busy": "2022-04-22T05:37:04.188723Z",
          "iopub.execute_input": "2022-04-22T05:37:04.189529Z",
          "iopub.status.idle": "2022-04-22T05:37:04.520332Z",
          "shell.execute_reply.started": "2022-04-22T05:37:04.189488Z",
          "shell.execute_reply": "2022-04-22T05:37:04.519588Z"
        },
        "trusted": true,
        "id": "OZv2w-pYPkxx"
      },
      "execution_count": null,
      "outputs": []
    },
    {
      "cell_type": "markdown",
      "source": [
        "From the graph, it is seen that 2011 has lower sales than 2010 generally. When we look at the mean sales it is seen that 2010 has higher values, but 2012 has no information about November and December which have higher sales. Despite of 2012 has no last two months sales, it's mean is near to 2010. Most probably, it will take the first place if we get 2012 results and add them."
      ],
      "metadata": {
        "id": "n1WwuCYEPkxx"
      }
    },
    {
      "cell_type": "code",
      "source": [
        "fig = sns.barplot(x='month', y='Weekly_Sales', data=df)"
      ],
      "metadata": {
        "execution": {
          "iopub.status.busy": "2022-04-22T05:37:04.521824Z",
          "iopub.execute_input": "2022-04-22T05:37:04.522349Z",
          "iopub.status.idle": "2022-04-22T05:37:09.493489Z",
          "shell.execute_reply.started": "2022-04-22T05:37:04.522306Z",
          "shell.execute_reply": "2022-04-22T05:37:09.492603Z"
        },
        "trusted": true,
        "id": "AKDDp4RgPkxx"
      },
      "execution_count": null,
      "outputs": []
    },
    {
      "cell_type": "markdown",
      "source": [
        "When we look at the graph above, the best sales are in December and November, as expected. The highest values are belongs to Thankgiving holiday but when we take average it is obvious that December has the best value."
      ],
      "metadata": {
        "id": "j5EbgbASPkxx"
      }
    },
    {
      "cell_type": "code",
      "source": [
        "df.groupby('week')['Weekly_Sales'].mean().sort_values(ascending=False).head()"
      ],
      "metadata": {
        "execution": {
          "iopub.status.busy": "2022-04-22T05:37:09.494838Z",
          "iopub.execute_input": "2022-04-22T05:37:09.495118Z",
          "iopub.status.idle": "2022-04-22T05:37:09.513485Z",
          "shell.execute_reply.started": "2022-04-22T05:37:09.495077Z",
          "shell.execute_reply": "2022-04-22T05:37:09.512676Z"
        },
        "trusted": true,
        "id": "SkaIi97-Pkxy"
      },
      "execution_count": null,
      "outputs": []
    },
    {
      "cell_type": "markdown",
      "source": [
        "Top 5 sales averages by weekly belongs to 1-2 weeks before Christmas, Thanksgiving, Black Friday and end of May, when the schools are closed."
      ],
      "metadata": {
        "id": "yoG_3dcqPkxy"
      }
    },
    {
      "cell_type": "code",
      "source": [
        "weekly_sales = pd.pivot_table(df, values = \"Weekly_Sales\", columns = \"year\", index = \"week\")\n",
        "weekly_sales.plot()"
      ],
      "metadata": {
        "execution": {
          "iopub.status.busy": "2022-04-22T05:37:09.514931Z",
          "iopub.execute_input": "2022-04-22T05:37:09.515481Z",
          "iopub.status.idle": "2022-04-22T05:37:09.980529Z",
          "shell.execute_reply.started": "2022-04-22T05:37:09.515436Z",
          "shell.execute_reply": "2022-04-22T05:37:09.97978Z"
        },
        "trusted": true,
        "id": "7YMHPrebPkxz"
      },
      "execution_count": null,
      "outputs": []
    },
    {
      "cell_type": "code",
      "source": [
        "plt.figure(figsize=(20,6))\n",
        "fig = sns.barplot(x='week', y='Weekly_Sales', data=df)"
      ],
      "metadata": {
        "execution": {
          "iopub.status.busy": "2022-04-22T05:37:09.981768Z",
          "iopub.execute_input": "2022-04-22T05:37:09.982379Z",
          "iopub.status.idle": "2022-04-22T05:37:17.333759Z",
          "shell.execute_reply.started": "2022-04-22T05:37:09.982333Z",
          "shell.execute_reply": "2022-04-22T05:37:17.332987Z"
        },
        "trusted": true,
        "id": "qJGgNryXPkxz"
      },
      "execution_count": null,
      "outputs": []
    },
    {
      "cell_type": "markdown",
      "source": [
        "From graphs, it is seen that 51th week and 47th weeks have significantly higher averages as Christmas, Thankgiving and Black Friday effects."
      ],
      "metadata": {
        "id": "Jbp347W8Pkx0"
      }
    },
    {
      "cell_type": "markdown",
      "source": [
        "# Fuel Price, CPI , Unemployment , Temperature Effects"
      ],
      "metadata": {
        "id": "B0As-PJ6Pkx0"
      }
    },
    {
      "cell_type": "code",
      "source": [
        "fuel_price = pd.pivot_table(df, values = \"Weekly_Sales\", index= \"Fuel_Price\")\n",
        "fuel_price.plot()"
      ],
      "metadata": {
        "execution": {
          "iopub.status.busy": "2022-04-22T05:37:17.33508Z",
          "iopub.execute_input": "2022-04-22T05:37:17.335702Z",
          "iopub.status.idle": "2022-04-22T05:37:17.64033Z",
          "shell.execute_reply.started": "2022-04-22T05:37:17.335655Z",
          "shell.execute_reply": "2022-04-22T05:37:17.639591Z"
        },
        "trusted": true,
        "id": "-Fcz76z1Pkx0"
      },
      "execution_count": null,
      "outputs": []
    },
    {
      "cell_type": "code",
      "source": [
        "temp = pd.pivot_table(df, values = \"Weekly_Sales\", index= \"Temperature\")\n",
        "temp.plot()"
      ],
      "metadata": {
        "execution": {
          "iopub.status.busy": "2022-04-22T05:37:17.641866Z",
          "iopub.execute_input": "2022-04-22T05:37:17.642319Z",
          "iopub.status.idle": "2022-04-22T05:37:17.975351Z",
          "shell.execute_reply.started": "2022-04-22T05:37:17.642278Z",
          "shell.execute_reply": "2022-04-22T05:37:17.974608Z"
        },
        "trusted": true,
        "id": "L6IlrKXGPkx1"
      },
      "execution_count": null,
      "outputs": []
    },
    {
      "cell_type": "code",
      "source": [
        "CPI = pd.pivot_table(df, values = \"Weekly_Sales\", index= \"CPI\")\n",
        "CPI.plot()"
      ],
      "metadata": {
        "execution": {
          "iopub.status.busy": "2022-04-22T05:37:17.976966Z",
          "iopub.execute_input": "2022-04-22T05:37:17.977512Z",
          "iopub.status.idle": "2022-04-22T05:37:18.279367Z",
          "shell.execute_reply.started": "2022-04-22T05:37:17.977469Z",
          "shell.execute_reply": "2022-04-22T05:37:18.278633Z"
        },
        "trusted": true,
        "id": "8n6kXYR3Pkx1"
      },
      "execution_count": null,
      "outputs": []
    },
    {
      "cell_type": "code",
      "source": [
        "unemployment = pd.pivot_table(df, values = \"Weekly_Sales\", index= \"Unemployment\")\n",
        "unemployment.plot()"
      ],
      "metadata": {
        "scrolled": true,
        "execution": {
          "iopub.status.busy": "2022-04-22T05:37:18.280904Z",
          "iopub.execute_input": "2022-04-22T05:37:18.28141Z",
          "iopub.status.idle": "2022-04-22T05:37:18.567376Z",
          "shell.execute_reply.started": "2022-04-22T05:37:18.281367Z",
          "shell.execute_reply": "2022-04-22T05:37:18.566625Z"
        },
        "trusted": true,
        "id": "g6-7OctLPkx2"
      },
      "execution_count": null,
      "outputs": []
    },
    {
      "cell_type": "markdown",
      "source": [
        "From graphs, it is seen that there are no significant patterns between CPI, temperature, unemployment rate, fuel price vs weekly sales. There is no data for CPI between 140-180 also."
      ],
      "metadata": {
        "id": "QGD7wqMcPkx2"
      }
    },
    {
      "cell_type": "code",
      "source": [
        "df.to_csv('clean_data.csv') # assign new data frame to csv for using after here"
      ],
      "metadata": {
        "execution": {
          "iopub.status.busy": "2022-04-22T05:37:18.568711Z",
          "iopub.execute_input": "2022-04-22T05:37:18.569532Z",
          "iopub.status.idle": "2022-04-22T05:37:27.503905Z",
          "shell.execute_reply.started": "2022-04-22T05:37:18.569487Z",
          "shell.execute_reply": "2022-04-22T05:37:27.503019Z"
        },
        "trusted": true,
        "id": "G-uGezpiPkx2"
      },
      "execution_count": null,
      "outputs": []
    },
    {
      "cell_type": "markdown",
      "source": [
        "# Findings and Explorations"
      ],
      "metadata": {
        "id": "t9pW22UsPkx2"
      }
    },
    {
      "cell_type": "markdown",
      "source": [
        "# Cleaning Process"
      ],
      "metadata": {
        "id": "hy-2dL2PPkx3"
      }
    },
    {
      "cell_type": "markdown",
      "source": [
        "- The data has no too much missing values. All columns was checked.\n",
        "- I choose rows which has higher than 0 weekly sales. Minus values are 0.3% of data. So, I dropped them.\n",
        "- Null values in markdowns changed to zero. Because, they were written as null if there were no markdown on this department."
      ],
      "metadata": {
        "id": "IaymsQzoPkx3"
      }
    },
    {
      "cell_type": "markdown",
      "source": [
        "# Explorations & Findings"
      ],
      "metadata": {
        "id": "hTMKs533Pkx3"
      }
    },
    {
      "cell_type": "markdown",
      "source": [
        "- There are 45 stores and 81 department in data. Departments are not same in all stores.\n",
        "- Although department 72 has higher weekly sales values, on average department 92 is the best. It shows us, some departments has higher values as seasonal like Thanksgiving. It is consistant when we look at the top 5 sales in data, all of them belongs to 72th department at Thanksgiving holiday time.\n",
        "- Although stores 10 and 35 have higher weekly sales values sometimes, in general average store 20 and store 4 are on the first and second rank. It means that some areas has higher seasonal sales.\n",
        "- Stores has 3 types as A, B and C according to their sizes. Almost half of the stores are bigger than 150000 and categorized as A. According to type, sales of the stores are changing.\n",
        "- As expected, holiday average sales are higher than normal dates.\n",
        "- Christmas holiday introduces as the last days of the year. But people generally shop at 51th week. So, when we look at the total sales of holidays, Thankgiving has higher sales between them which was assigned by Walmart.\n",
        "- Year 2010 has higher sales than 2011 and 2012. But, November and December sales are not in the data for 2012. Even without highest sale months, 2012 is not significantly less than 2010, so after adding last two months, it can be first.\n",
        "- It is obviously seen that week 51 and 47 have higher values and 50-48 weeks follow them. Interestingly, 5th top sales belongs to 22th week of the year. This results show that Christmas, Thankgiving and Black Friday are very important than other weeks for sales and 5th important time is 22th week of the year and it is end of the May, when schools are closed. Most probably, people are preparing for holiday at the end of the May.\n",
        "- January sales are significantly less than other months. This is the result of November and December high sales. After two high sales month, people prefer to pay less on January.\n",
        "- CPI, temperature, unemployment rate and fuel price have no pattern on weekly sales.\n"
      ],
      "metadata": {
        "id": "NX7FfhUqPkx4"
      }
    },
    {
      "cell_type": "markdown",
      "source": [
        "# First Trial with Random Forest"
      ],
      "metadata": {
        "id": "SuU0TT-jPkx5"
      }
    },
    {
      "cell_type": "markdown",
      "source": [
        "Generally, Rondom Forest Regressor gives good results when we tune it well. So, to find simple baseline model, I will use RandomForestRegressor in this notebook. Also, feature importance for model can be found in this notebook.\n",
        "\n",
        "Our metric for this project is weighted mean absolute error (WMAE):"
      ],
      "metadata": {
        "id": "Gh8z-FHgPkx6"
      }
    },
    {
      "cell_type": "markdown",
      "source": [
        "![title](https://miro.medium.com/max/990/1*VKYKK85ViLYUUjyOWVURfw.jpeg)"
      ],
      "metadata": {
        "id": "WOEr_DErPkx7"
      }
    },
    {
      "cell_type": "markdown",
      "source": [
        "where\n",
        "\n",
        "- n is the number of rows\n",
        "- ŷ i is the predicted sales\n",
        "- yi is the actual sales\n",
        "- wi are weights. w = 5 if the week is a holiday week, 1 otherwise"
      ],
      "metadata": {
        "id": "8tr1LoaPPkx8"
      }
    },
    {
      "cell_type": "markdown",
      "source": [
        "With this metric, the error at holiday weeks has 5 times weight more than normal weeks. So, it is more important to predict sales at holiday weeks accurately.\n",
        "All results for trails can be found at the end of this notebook."
      ],
      "metadata": {
        "id": "GhQE90ftPkx9"
      }
    },
    {
      "cell_type": "code",
      "source": [
        "pd.options.display.max_columns=100 # to see columns"
      ],
      "metadata": {
        "execution": {
          "iopub.status.busy": "2022-04-22T05:37:27.505389Z",
          "iopub.execute_input": "2022-04-22T05:37:27.505665Z",
          "iopub.status.idle": "2022-04-22T05:37:27.511289Z",
          "shell.execute_reply.started": "2022-04-22T05:37:27.505627Z",
          "shell.execute_reply": "2022-04-22T05:37:27.510391Z"
        },
        "trusted": true,
        "id": "YzPcXQhKPkx-"
      },
      "execution_count": null,
      "outputs": []
    },
    {
      "cell_type": "code",
      "source": [
        "df = pd.read_csv('./clean_data.csv')"
      ],
      "metadata": {
        "execution": {
          "iopub.status.busy": "2022-04-22T05:37:27.513139Z",
          "iopub.execute_input": "2022-04-22T05:37:27.513886Z",
          "iopub.status.idle": "2022-04-22T05:37:28.645902Z",
          "shell.execute_reply.started": "2022-04-22T05:37:27.513837Z",
          "shell.execute_reply": "2022-04-22T05:37:28.645034Z"
        },
        "trusted": true,
        "id": "kY2d9SaiPkyA"
      },
      "execution_count": null,
      "outputs": []
    },
    {
      "cell_type": "code",
      "source": [
        "df.drop(columns=['Unnamed: 0'],inplace=True)"
      ],
      "metadata": {
        "execution": {
          "iopub.status.busy": "2022-04-22T05:37:28.647506Z",
          "iopub.execute_input": "2022-04-22T05:37:28.647846Z",
          "iopub.status.idle": "2022-04-22T05:37:28.674081Z",
          "shell.execute_reply.started": "2022-04-22T05:37:28.647795Z",
          "shell.execute_reply": "2022-04-22T05:37:28.672914Z"
        },
        "trusted": true,
        "id": "2bXBQ56NPkyB"
      },
      "execution_count": null,
      "outputs": []
    },
    {
      "cell_type": "code",
      "source": [
        "df['Date'] = pd.to_datetime(df['Date']) # changing datetime to divide if needs"
      ],
      "metadata": {
        "execution": {
          "iopub.status.busy": "2022-04-22T05:37:28.675852Z",
          "iopub.execute_input": "2022-04-22T05:37:28.676204Z",
          "iopub.status.idle": "2022-04-22T05:37:28.768675Z",
          "shell.execute_reply.started": "2022-04-22T05:37:28.676161Z",
          "shell.execute_reply": "2022-04-22T05:37:28.767852Z"
        },
        "trusted": true,
        "id": "QoQ_PmUKPkyB"
      },
      "execution_count": null,
      "outputs": []
    },
    {
      "cell_type": "markdown",
      "source": [
        "# Encoding the Data"
      ],
      "metadata": {
        "id": "ZLV1rANEPkyC"
      }
    },
    {
      "cell_type": "markdown",
      "source": [
        "For preprocessing our data, I will change holidays boolean values to 0-1 and replace type of the stores from A, B, C to 1, 2, 3."
      ],
      "metadata": {
        "id": "G4hVzcBNPkyC"
      }
    },
    {
      "cell_type": "code",
      "source": [
        "df_encoded = df.copy() # to keep original dataframe taking copy of it"
      ],
      "metadata": {
        "execution": {
          "iopub.status.busy": "2022-04-22T05:37:28.769912Z",
          "iopub.execute_input": "2022-04-22T05:37:28.77059Z",
          "iopub.status.idle": "2022-04-22T05:37:28.796927Z",
          "shell.execute_reply.started": "2022-04-22T05:37:28.770547Z",
          "shell.execute_reply": "2022-04-22T05:37:28.796087Z"
        },
        "trusted": true,
        "id": "FBZOTfSUPkyC"
      },
      "execution_count": null,
      "outputs": []
    },
    {
      "cell_type": "code",
      "source": [
        "type_group = {'A':1, 'B': 2, 'C': 3}  # changing A,B,C to 1-2-3\n",
        "df_encoded['Type'] = df_encoded['Type'].replace(type_group)"
      ],
      "metadata": {
        "execution": {
          "iopub.status.busy": "2022-04-22T05:37:28.798367Z",
          "iopub.execute_input": "2022-04-22T05:37:28.798826Z",
          "iopub.status.idle": "2022-04-22T05:37:29.069546Z",
          "shell.execute_reply.started": "2022-04-22T05:37:28.798776Z",
          "shell.execute_reply": "2022-04-22T05:37:29.068754Z"
        },
        "trusted": true,
        "id": "FefzsljnPkyD"
      },
      "execution_count": null,
      "outputs": []
    },
    {
      "cell_type": "code",
      "source": [
        "df_encoded['Super_Bowl'] = df_encoded['Super_Bowl'].astype(bool).astype(int) # changing T,F to 0-1"
      ],
      "metadata": {
        "execution": {
          "iopub.status.busy": "2022-04-22T05:37:29.07282Z",
          "iopub.execute_input": "2022-04-22T05:37:29.073062Z",
          "iopub.status.idle": "2022-04-22T05:37:29.080717Z",
          "shell.execute_reply.started": "2022-04-22T05:37:29.073032Z",
          "shell.execute_reply": "2022-04-22T05:37:29.079731Z"
        },
        "trusted": true,
        "id": "0oVExMzSPkyD"
      },
      "execution_count": null,
      "outputs": []
    },
    {
      "cell_type": "code",
      "source": [
        "df_encoded['Thanksgiving'] = df_encoded['Thanksgiving'].astype(bool).astype(int) # changing T,F to 0-1"
      ],
      "metadata": {
        "execution": {
          "iopub.status.busy": "2022-04-22T05:37:29.082257Z",
          "iopub.execute_input": "2022-04-22T05:37:29.082902Z",
          "iopub.status.idle": "2022-04-22T05:37:29.093472Z",
          "shell.execute_reply.started": "2022-04-22T05:37:29.082861Z",
          "shell.execute_reply": "2022-04-22T05:37:29.092552Z"
        },
        "trusted": true,
        "id": "0QMbyWkYPkyD"
      },
      "execution_count": null,
      "outputs": []
    },
    {
      "cell_type": "code",
      "source": [
        "df_encoded['Labor_Day'] = df_encoded['Labor_Day'].astype(bool).astype(int) # changing T,F to 0-1"
      ],
      "metadata": {
        "execution": {
          "iopub.status.busy": "2022-04-22T05:37:29.095294Z",
          "iopub.execute_input": "2022-04-22T05:37:29.095617Z",
          "iopub.status.idle": "2022-04-22T05:37:29.105028Z",
          "shell.execute_reply.started": "2022-04-22T05:37:29.095576Z",
          "shell.execute_reply": "2022-04-22T05:37:29.104091Z"
        },
        "trusted": true,
        "id": "LEvXJ5AWPkyE"
      },
      "execution_count": null,
      "outputs": []
    },
    {
      "cell_type": "code",
      "source": [
        "df_encoded['Christmas'] = df_encoded['Christmas'].astype(bool).astype(int) # changing T,F to 0-1"
      ],
      "metadata": {
        "execution": {
          "iopub.status.busy": "2022-04-22T05:37:29.106612Z",
          "iopub.execute_input": "2022-04-22T05:37:29.107174Z",
          "iopub.status.idle": "2022-04-22T05:37:29.115877Z",
          "shell.execute_reply.started": "2022-04-22T05:37:29.107073Z",
          "shell.execute_reply": "2022-04-22T05:37:29.115032Z"
        },
        "trusted": true,
        "id": "yh96oGUKPkyE"
      },
      "execution_count": null,
      "outputs": []
    },
    {
      "cell_type": "code",
      "source": [
        "df_encoded['IsHoliday'] = df_encoded['IsHoliday'].astype(bool).astype(int) # changing T,F to 0-1"
      ],
      "metadata": {
        "execution": {
          "iopub.status.busy": "2022-04-22T05:37:29.119199Z",
          "iopub.execute_input": "2022-04-22T05:37:29.11947Z",
          "iopub.status.idle": "2022-04-22T05:37:29.128669Z",
          "shell.execute_reply.started": "2022-04-22T05:37:29.119439Z",
          "shell.execute_reply": "2022-04-22T05:37:29.127787Z"
        },
        "trusted": true,
        "id": "2csfvlQAPkyE"
      },
      "execution_count": null,
      "outputs": []
    },
    {
      "cell_type": "code",
      "source": [
        "df_new = df_encoded.copy() # taking the copy of encoded df to keep it original"
      ],
      "metadata": {
        "execution": {
          "iopub.status.busy": "2022-04-22T05:37:29.131888Z",
          "iopub.execute_input": "2022-04-22T05:37:29.132377Z",
          "iopub.status.idle": "2022-04-22T05:37:29.198168Z",
          "shell.execute_reply.started": "2022-04-22T05:37:29.132337Z",
          "shell.execute_reply": "2022-04-22T05:37:29.197277Z"
        },
        "trusted": true,
        "id": "svM1n4uSPkyF"
      },
      "execution_count": null,
      "outputs": []
    },
    {
      "cell_type": "markdown",
      "source": [
        "# Observation of Interactions between Features"
      ],
      "metadata": {
        "id": "hZS0ljyHPkyF"
      }
    },
    {
      "cell_type": "markdown",
      "source": [
        "Firstly, i will drop divided holiday columns from my data and try without them. To keep my encoded data safe, I assigned my dataframe to new one and I will use for this."
      ],
      "metadata": {
        "id": "wO8eYIFhPkyG"
      }
    },
    {
      "cell_type": "code",
      "source": [
        "drop_col = ['Super_Bowl','Labor_Day','Thanksgiving','Christmas']\n",
        "df_new.drop(drop_col, axis=1, inplace=True) # dropping columns"
      ],
      "metadata": {
        "execution": {
          "iopub.status.busy": "2022-04-22T05:37:29.199777Z",
          "iopub.execute_input": "2022-04-22T05:37:29.200071Z",
          "iopub.status.idle": "2022-04-22T05:37:29.225389Z",
          "shell.execute_reply.started": "2022-04-22T05:37:29.200032Z",
          "shell.execute_reply": "2022-04-22T05:37:29.224545Z"
        },
        "trusted": true,
        "id": "WucSubwkPkyG"
      },
      "execution_count": null,
      "outputs": []
    },
    {
      "cell_type": "code",
      "source": [
        "plt.figure(figsize = (12,10))\n",
        "sns.heatmap(df_new.corr().abs())    # To see the correlations\n",
        "plt.show()"
      ],
      "metadata": {
        "execution": {
          "iopub.status.busy": "2022-04-22T05:37:29.229016Z",
          "iopub.execute_input": "2022-04-22T05:37:29.229266Z",
          "iopub.status.idle": "2022-04-22T05:37:30.099387Z",
          "shell.execute_reply.started": "2022-04-22T05:37:29.229237Z",
          "shell.execute_reply": "2022-04-22T05:37:30.098625Z"
        },
        "trusted": true,
        "id": "cAlj7vLCPkyG"
      },
      "execution_count": null,
      "outputs": []
    },
    {
      "cell_type": "markdown",
      "source": [
        "Temperature, unemployment, CPI have no significant effect on weekly sales, so I will drop them. Also, Markdown 4 and 5 highly correlated with Markdown 1. So, I will drop them also. It can create multicollinearity problem, maybe. So, first I will try without them."
      ],
      "metadata": {
        "id": "If5oaT9sPkyH"
      }
    },
    {
      "cell_type": "code",
      "source": [
        "drop_col = ['Temperature','MarkDown4','MarkDown5','CPI','Unemployment']\n",
        "df_new.drop(drop_col, axis=1, inplace=True) # dropping columns"
      ],
      "metadata": {
        "execution": {
          "iopub.status.busy": "2022-04-22T05:37:30.100972Z",
          "iopub.execute_input": "2022-04-22T05:37:30.101485Z",
          "iopub.status.idle": "2022-04-22T05:37:30.124465Z",
          "shell.execute_reply.started": "2022-04-22T05:37:30.101441Z",
          "shell.execute_reply": "2022-04-22T05:37:30.123058Z"
        },
        "trusted": true,
        "id": "QHaW0LCRPkyK"
      },
      "execution_count": null,
      "outputs": []
    },
    {
      "cell_type": "code",
      "source": [
        "plt.figure(figsize = (12,10))\n",
        "sns.heatmap(df_new.corr().abs())    # To see the correlations without dropping columns\n",
        "plt.show()"
      ],
      "metadata": {
        "execution": {
          "iopub.status.busy": "2022-04-22T05:37:30.126136Z",
          "iopub.execute_input": "2022-04-22T05:37:30.126492Z",
          "iopub.status.idle": "2022-04-22T05:37:30.905279Z",
          "shell.execute_reply.started": "2022-04-22T05:37:30.126447Z",
          "shell.execute_reply": "2022-04-22T05:37:30.904488Z"
        },
        "trusted": true,
        "id": "SZbSUoHGPkyL"
      },
      "execution_count": null,
      "outputs": []
    },
    {
      "cell_type": "markdown",
      "source": [
        "Size and type are highly correlated with weekly sales. Also, department and store are correlated with sales."
      ],
      "metadata": {
        "id": "JAh7wa8mPkyM"
      }
    },
    {
      "cell_type": "code",
      "source": [
        "df_new = df_new.sort_values(by='Date', ascending=True) # sorting according to date"
      ],
      "metadata": {
        "execution": {
          "iopub.status.busy": "2022-04-22T05:37:30.909615Z",
          "iopub.execute_input": "2022-04-22T05:37:30.911711Z",
          "iopub.status.idle": "2022-04-22T05:37:30.997619Z",
          "shell.execute_reply.started": "2022-04-22T05:37:30.911667Z",
          "shell.execute_reply": "2022-04-22T05:37:30.996653Z"
        },
        "trusted": true,
        "id": "3V00YaQxPkyM"
      },
      "execution_count": null,
      "outputs": []
    },
    {
      "cell_type": "markdown",
      "source": [
        "# Creating Train-Test Splits"
      ],
      "metadata": {
        "id": "sqDR8nB7PkyM"
      }
    },
    {
      "cell_type": "markdown",
      "source": [
        "Our date column has continuos values, to keep the date features continue, I will not take random splitting. so, I split data manually according to 70%."
      ],
      "metadata": {
        "id": "jxdHJUwEPkyN"
      }
    },
    {
      "cell_type": "code",
      "source": [
        "train_data = df_new[:int(0.7*(len(df_new)))] # taking train part\n",
        "test_data = df_new[int(0.7*(len(df_new))):] # taking test part\n",
        "\n",
        "target = \"Weekly_Sales\"\n",
        "used_cols = [c for c in df_new.columns.to_list() if c not in [target]] # all columns except weekly sales\n",
        "\n",
        "X_train = train_data[used_cols]\n",
        "X_test = test_data[used_cols]\n",
        "y_train = train_data[target]\n",
        "y_test = test_data[target]"
      ],
      "metadata": {
        "execution": {
          "iopub.status.busy": "2022-04-22T05:37:30.998925Z",
          "iopub.execute_input": "2022-04-22T05:37:30.999346Z",
          "iopub.status.idle": "2022-04-22T05:37:31.022195Z",
          "shell.execute_reply.started": "2022-04-22T05:37:30.999305Z",
          "shell.execute_reply": "2022-04-22T05:37:31.021372Z"
        },
        "trusted": true,
        "id": "j42sfGn-PkyN"
      },
      "execution_count": null,
      "outputs": []
    },
    {
      "cell_type": "code",
      "source": [
        "X = df_new[used_cols] # to keep train and test X values together"
      ],
      "metadata": {
        "execution": {
          "iopub.status.busy": "2022-04-22T05:37:31.027668Z",
          "iopub.execute_input": "2022-04-22T05:37:31.028348Z",
          "iopub.status.idle": "2022-04-22T05:37:31.058069Z",
          "shell.execute_reply.started": "2022-04-22T05:37:31.028308Z",
          "shell.execute_reply": "2022-04-22T05:37:31.057177Z"
        },
        "trusted": true,
        "id": "etit4Bo4PkyN"
      },
      "execution_count": null,
      "outputs": []
    },
    {
      "cell_type": "markdown",
      "source": [
        "We have enough information in our date such as week of the year. So, I drop date columns."
      ],
      "metadata": {
        "id": "O7k6B_5VPkyN"
      }
    },
    {
      "cell_type": "code",
      "source": [
        "X_train = X_train.drop(['Date'], axis=1) # dropping date from train\n",
        "X_test = X_test.drop(['Date'], axis=1) # dropping date from test"
      ],
      "metadata": {
        "execution": {
          "iopub.status.busy": "2022-04-22T05:37:31.062885Z",
          "iopub.execute_input": "2022-04-22T05:37:31.065006Z",
          "iopub.status.idle": "2022-04-22T05:37:31.09555Z",
          "shell.execute_reply.started": "2022-04-22T05:37:31.064961Z",
          "shell.execute_reply": "2022-04-22T05:37:31.094796Z"
        },
        "trusted": true,
        "id": "82C4c6sWPkyO"
      },
      "execution_count": null,
      "outputs": []
    },
    {
      "cell_type": "markdown",
      "source": [
        "# Metric Definition Function"
      ],
      "metadata": {
        "id": "XKNvDw5APkyO"
      }
    },
    {
      "cell_type": "markdown",
      "source": [
        "Our metric is not calculated as default from ready models. It is weighed error so, I will use function below to calculate it."
      ],
      "metadata": {
        "id": "QjXDySTvPkyO"
      }
    },
    {
      "cell_type": "code",
      "source": [
        "def wmae_test(test, pred): # WMAE for test\n",
        "    weights = X_test['IsHoliday'].apply(lambda is_holiday:5 if is_holiday else 1)\n",
        "    error = np.sum(weights * np.abs(test - pred), axis=0) / np.sum(weights)\n",
        "    return error"
      ],
      "metadata": {
        "execution": {
          "iopub.status.busy": "2022-04-22T05:37:31.100533Z",
          "iopub.execute_input": "2022-04-22T05:37:31.103028Z",
          "iopub.status.idle": "2022-04-22T05:37:31.111279Z",
          "shell.execute_reply.started": "2022-04-22T05:37:31.102975Z",
          "shell.execute_reply": "2022-04-22T05:37:31.110433Z"
        },
        "trusted": true,
        "id": "yKracpywPkyO"
      },
      "execution_count": null,
      "outputs": []
    },
    {
      "cell_type": "markdown",
      "source": [
        "# Random Forest Regressor"
      ],
      "metadata": {
        "id": "YvvSspX-PkyO"
      }
    },
    {
      "cell_type": "markdown",
      "source": [
        "To tune the regressor, I can use gridsearch but it takes too much time for this type of data which has many rows and columns. So, I choose regressor parameters manually. I changed the parameters each time and try to find the best result."
      ],
      "metadata": {
        "id": "VcGu8dlBPkyP"
      }
    },
    {
      "cell_type": "code",
      "source": [
        "rf = RandomForestRegressor(n_estimators=50, random_state=42, n_jobs=-1, max_depth=35,\n",
        "                           max_features = 'sqrt',min_samples_split = 10)\n",
        "\n",
        "from sklearn.preprocessing import RobustScaler\n",
        "scaler = RobustScaler()\n",
        "\n",
        "\n",
        "\n",
        "#making pipe tp use scaler and regressor together\n",
        "pipe = make_pipeline(scaler,rf)\n",
        "\n",
        "pipe.fit(X_train, y_train)\n",
        "\n",
        "# predictions on train set\n",
        "y_pred = pipe.predict(X_train)\n",
        "\n",
        "# predictions on test set\n",
        "y_pred_test = pipe.predict(X_test)"
      ],
      "metadata": {
        "execution": {
          "iopub.status.busy": "2022-04-22T05:37:31.113123Z",
          "iopub.execute_input": "2022-04-22T05:37:31.113666Z",
          "iopub.status.idle": "2022-04-22T05:37:44.031199Z",
          "shell.execute_reply.started": "2022-04-22T05:37:31.113622Z",
          "shell.execute_reply": "2022-04-22T05:37:44.030363Z"
        },
        "trusted": true,
        "id": "UzcUnlFkPkyP"
      },
      "execution_count": null,
      "outputs": []
    },
    {
      "cell_type": "code",
      "source": [
        "wmae_test(y_test, y_pred_test)"
      ],
      "metadata": {
        "execution": {
          "iopub.status.busy": "2022-04-22T05:37:44.032468Z",
          "iopub.execute_input": "2022-04-22T05:37:44.032755Z",
          "iopub.status.idle": "2022-04-22T05:37:44.106989Z",
          "shell.execute_reply.started": "2022-04-22T05:37:44.032701Z",
          "shell.execute_reply": "2022-04-22T05:37:44.1061Z"
        },
        "trusted": true,
        "id": "B_JM4HYqPkyQ"
      },
      "execution_count": null,
      "outputs": []
    },
    {
      "cell_type": "markdown",
      "source": [
        "For the first trial, my weighted error is around 5850."
      ],
      "metadata": {
        "id": "qJU4sERmPkyR"
      }
    },
    {
      "cell_type": "markdown",
      "source": [
        "# To See Feature Importance"
      ],
      "metadata": {
        "id": "8ab1TxJAPkyR"
      }
    },
    {
      "cell_type": "code",
      "source": [
        "X = X.drop(['Date'], axis=1) #dropping date column from X"
      ],
      "metadata": {
        "execution": {
          "iopub.status.busy": "2022-04-22T05:37:44.108567Z",
          "iopub.execute_input": "2022-04-22T05:37:44.108959Z",
          "iopub.status.idle": "2022-04-22T05:37:44.121875Z",
          "shell.execute_reply.started": "2022-04-22T05:37:44.108916Z",
          "shell.execute_reply": "2022-04-22T05:37:44.121155Z"
        },
        "trusted": true,
        "id": "H4WTlqjqPkyS"
      },
      "execution_count": null,
      "outputs": []
    },
    {
      "cell_type": "markdown",
      "source": [
        "Below code cell was taken from our instructor Bryan Arnold's notebook. I changed the code according to my data and see the plot."
      ],
      "metadata": {
        "id": "USanX-BdPkyS"
      }
    },
    {
      "cell_type": "code",
      "source": [
        "importances = rf.feature_importances_\n",
        "std = np.std([tree.feature_importances_ for tree in rf.estimators_],\n",
        "             axis=0)\n",
        "indices = np.argsort(importances)[::-1]\n",
        "\n",
        "# Printing the feature ranking\n",
        "print(\"Feature ranking:\")\n",
        "\n",
        "for f in range(X.shape[1]):\n",
        "    print(\"%d. feature %d (%f)\" % (f + 1, indices[f], importances[indices[f]]))\n",
        "\n",
        "# Plotting the feature importances of the forest\n",
        "plt.figure()\n",
        "plt.title(\"Feature importances\")\n",
        "plt.bar(range(X.shape[1]), importances[indices],\n",
        "       color=\"r\", yerr=std[indices], align=\"center\")\n",
        "plt.xticks(range(X.shape[1]), indices)\n",
        "plt.xlim([-1, X.shape[1]])\n",
        "plt.show()"
      ],
      "metadata": {
        "execution": {
          "iopub.status.busy": "2022-04-22T05:37:44.123068Z",
          "iopub.execute_input": "2022-04-22T05:37:44.123703Z",
          "iopub.status.idle": "2022-04-22T05:37:44.528946Z",
          "shell.execute_reply.started": "2022-04-22T05:37:44.123666Z",
          "shell.execute_reply": "2022-04-22T05:37:44.528154Z"
        },
        "trusted": true,
        "id": "YkuWMb-XPkyT"
      },
      "execution_count": null,
      "outputs": []
    },
    {
      "cell_type": "markdown",
      "source": [
        "After looking feature importance, I dropped least important 3-4 features and tried the model. I found the best result when I dropped month column which is highly correlated with week."
      ],
      "metadata": {
        "id": "XfE_z39sPkyT"
      }
    },
    {
      "cell_type": "code",
      "source": [
        "X1_train = X_train.drop(['month'], axis=1) # dropping month\n",
        "X1_test = X_test.drop(['month'], axis=1)"
      ],
      "metadata": {
        "execution": {
          "iopub.status.busy": "2022-04-22T05:37:44.530488Z",
          "iopub.execute_input": "2022-04-22T05:37:44.530787Z",
          "iopub.status.idle": "2022-04-22T05:37:44.544646Z",
          "shell.execute_reply.started": "2022-04-22T05:37:44.530746Z",
          "shell.execute_reply": "2022-04-22T05:37:44.543849Z"
        },
        "trusted": true,
        "id": "Cara4M4gPkyT"
      },
      "execution_count": null,
      "outputs": []
    },
    {
      "cell_type": "markdown",
      "source": [
        "# Model Again without Month"
      ],
      "metadata": {
        "id": "P5DrMzFIPkyU"
      }
    },
    {
      "cell_type": "code",
      "source": [
        "rf = RandomForestRegressor(n_estimators=50, random_state=42, n_jobs=-1, max_depth=35,\n",
        "                           max_features = 'sqrt',min_samples_split = 10)\n",
        "\n",
        "scaler=RobustScaler()\n",
        "pipe = make_pipeline(scaler,rf)\n",
        "\n",
        "pipe.fit(X1_train, y_train)\n",
        "\n",
        "# predictions on train set\n",
        "y_pred = pipe.predict(X1_train)\n",
        "\n",
        "# predictions on test set\n",
        "y_pred_test = pipe.predict(X1_test)"
      ],
      "metadata": {
        "execution": {
          "iopub.status.busy": "2022-04-22T05:37:44.545714Z",
          "iopub.execute_input": "2022-04-22T05:37:44.546361Z",
          "iopub.status.idle": "2022-04-22T05:37:56.935285Z",
          "shell.execute_reply.started": "2022-04-22T05:37:44.546318Z",
          "shell.execute_reply": "2022-04-22T05:37:56.934507Z"
        },
        "trusted": true,
        "id": "8qYMTyjgPkyU"
      },
      "execution_count": null,
      "outputs": []
    },
    {
      "cell_type": "code",
      "source": [
        "wmae_test(y_test, y_pred_test)"
      ],
      "metadata": {
        "execution": {
          "iopub.status.busy": "2022-04-22T05:37:56.93857Z",
          "iopub.execute_input": "2022-04-22T05:37:56.938818Z",
          "iopub.status.idle": "2022-04-22T05:37:57.060778Z",
          "shell.execute_reply.started": "2022-04-22T05:37:56.938781Z",
          "shell.execute_reply": "2022-04-22T05:37:57.059658Z"
        },
        "trusted": true,
        "id": "AfTBWLwUPkyV"
      },
      "execution_count": null,
      "outputs": []
    },
    {
      "cell_type": "markdown",
      "source": [
        "It gives better results than baseline."
      ],
      "metadata": {
        "id": "ZktAuG0gPkyV"
      }
    },
    {
      "cell_type": "markdown",
      "source": [
        "# Model with Whole Data"
      ],
      "metadata": {
        "id": "SnoTyDgaPkyV"
      }
    },
    {
      "cell_type": "markdown",
      "source": [
        "Now, I want to make sure that my model will learn from the columns which I dropped or not. So, I will apply my model to whole encoded data again."
      ],
      "metadata": {
        "id": "5F0EBISwPkyW"
      }
    },
    {
      "cell_type": "code",
      "source": [
        "# splitting train-test to whole dataset\n",
        "train_data_enc = df_encoded[:int(0.7*(len(df_encoded)))]\n",
        "test_data_enc = df_encoded[int(0.7*(len(df_encoded))):]\n",
        "\n",
        "target = \"Weekly_Sales\"\n",
        "used_cols1 = [c for c in df_encoded.columns.to_list() if c not in [target]] # all columns except price\n",
        "\n",
        "X_train_enc = train_data_enc[used_cols1]\n",
        "X_test_enc = test_data_enc[used_cols1]\n",
        "y_train_enc = train_data_enc[target]\n",
        "y_test_enc = test_data_enc[target]"
      ],
      "metadata": {
        "execution": {
          "iopub.status.busy": "2022-04-22T05:37:57.065375Z",
          "iopub.execute_input": "2022-04-22T05:37:57.065773Z",
          "iopub.status.idle": "2022-04-22T05:37:57.141154Z",
          "shell.execute_reply.started": "2022-04-22T05:37:57.065716Z",
          "shell.execute_reply": "2022-04-22T05:37:57.140234Z"
        },
        "trusted": true,
        "id": "sIncjbqMPkyW"
      },
      "execution_count": null,
      "outputs": []
    },
    {
      "cell_type": "code",
      "source": [
        "X_enc = df_encoded[used_cols1] # to get together train,test splits"
      ],
      "metadata": {
        "execution": {
          "iopub.status.busy": "2022-04-22T05:37:57.142371Z",
          "iopub.execute_input": "2022-04-22T05:37:57.142641Z",
          "iopub.status.idle": "2022-04-22T05:37:57.219481Z",
          "shell.execute_reply.started": "2022-04-22T05:37:57.142604Z",
          "shell.execute_reply": "2022-04-22T05:37:57.2183Z"
        },
        "trusted": true,
        "id": "lWrXciVhPkyX"
      },
      "execution_count": null,
      "outputs": []
    },
    {
      "cell_type": "code",
      "source": [
        "X_enc = X_enc.drop(['Date'], axis=1) #dropping date column for whole X"
      ],
      "metadata": {
        "execution": {
          "iopub.status.busy": "2022-04-22T05:37:57.22107Z",
          "iopub.execute_input": "2022-04-22T05:37:57.221338Z",
          "iopub.status.idle": "2022-04-22T05:37:57.257546Z",
          "shell.execute_reply.started": "2022-04-22T05:37:57.221299Z",
          "shell.execute_reply": "2022-04-22T05:37:57.256693Z"
        },
        "trusted": true,
        "id": "DQhjYaYcPkyX"
      },
      "execution_count": null,
      "outputs": []
    },
    {
      "cell_type": "code",
      "source": [
        "X_train_enc = X_train_enc.drop(['Date'], axis=1) # dropping date from train and test\n",
        "X_test_enc= X_test_enc.drop(['Date'], axis=1)"
      ],
      "metadata": {
        "execution": {
          "iopub.status.busy": "2022-04-22T05:37:57.259036Z",
          "iopub.execute_input": "2022-04-22T05:37:57.259445Z",
          "iopub.status.idle": "2022-04-22T05:37:57.28366Z",
          "shell.execute_reply.started": "2022-04-22T05:37:57.259404Z",
          "shell.execute_reply": "2022-04-22T05:37:57.282944Z"
        },
        "trusted": true,
        "id": "ZYHDwb0kPkyX"
      },
      "execution_count": null,
      "outputs": []
    },
    {
      "cell_type": "code",
      "source": [
        "rf = RandomForestRegressor(n_estimators=50, random_state=42, n_jobs=-1, max_depth=35,\n",
        "                           max_features = 'sqrt',min_samples_split = 10)\n",
        "\n",
        "scaler=RobustScaler()\n",
        "pipe = make_pipeline(scaler,rf)\n",
        "\n",
        "pipe.fit(X_train_enc, y_train_enc)\n",
        "\n",
        "# predictions on train set\n",
        "y_pred_enc = pipe.predict(X_train_enc)\n",
        "\n",
        "# predictions on test set\n",
        "y_pred_test_enc = pipe.predict(X_test_enc)"
      ],
      "metadata": {
        "execution": {
          "iopub.status.busy": "2022-04-22T05:37:57.285077Z",
          "iopub.execute_input": "2022-04-22T05:37:57.285484Z",
          "iopub.status.idle": "2022-04-22T05:38:11.97864Z",
          "shell.execute_reply.started": "2022-04-22T05:37:57.285445Z",
          "shell.execute_reply": "2022-04-22T05:38:11.977805Z"
        },
        "trusted": true,
        "id": "o2rTxeFvPkyY"
      },
      "execution_count": null,
      "outputs": []
    },
    {
      "cell_type": "code",
      "source": [
        "wmae_test(y_test_enc, y_pred_test_enc)"
      ],
      "metadata": {
        "execution": {
          "iopub.status.busy": "2022-04-22T05:38:11.980208Z",
          "iopub.execute_input": "2022-04-22T05:38:11.980483Z",
          "iopub.status.idle": "2022-04-22T05:38:12.082441Z",
          "shell.execute_reply.started": "2022-04-22T05:38:11.980445Z",
          "shell.execute_reply": "2022-04-22T05:38:12.081507Z"
        },
        "trusted": true,
        "id": "urDnb_ioPkyY"
      },
      "execution_count": null,
      "outputs": []
    },
    {
      "cell_type": "markdown",
      "source": [
        "We found better results for whole data, it means our model can learn from columns which I dropped before."
      ],
      "metadata": {
        "id": "J8Vao5tkPkyZ"
      }
    },
    {
      "cell_type": "markdown",
      "source": [
        "# Feature Importance for Whole Encoded Dataset"
      ],
      "metadata": {
        "id": "JYhZTKbgPkya"
      }
    },
    {
      "cell_type": "code",
      "source": [
        "importances = rf.feature_importances_\n",
        "std = np.std([tree.feature_importances_ for tree in rf.estimators_],\n",
        "             axis=0)\n",
        "indices = np.argsort(importances)[::-1]\n",
        "\n",
        "# Printing the feature ranking\n",
        "print(\"Feature ranking:\")\n",
        "\n",
        "for f in range(X_enc.shape[1]):\n",
        "    print(\"%d. feature %d (%f)\" % (f + 1, indices[f], importances[indices[f]]))\n",
        "\n",
        "# Plotting the feature importances of the forest\n",
        "plt.figure()\n",
        "plt.title(\"Feature importances\")\n",
        "plt.bar(range(X_enc.shape[1]), importances[indices],\n",
        "       color=\"r\", yerr=std[indices], align=\"center\")\n",
        "plt.xticks(range(X_enc.shape[1]), indices)\n",
        "plt.xlim([-1, X_enc.shape[1]])\n",
        "plt.show()"
      ],
      "metadata": {
        "execution": {
          "iopub.status.busy": "2022-04-22T05:38:12.083964Z",
          "iopub.execute_input": "2022-04-22T05:38:12.084412Z",
          "iopub.status.idle": "2022-04-22T05:38:12.548568Z",
          "shell.execute_reply.started": "2022-04-22T05:38:12.08437Z",
          "shell.execute_reply": "2022-04-22T05:38:12.547791Z"
        },
        "trusted": true,
        "id": "6s-QhjLaPkya"
      },
      "execution_count": null,
      "outputs": []
    },
    {
      "cell_type": "markdown",
      "source": [
        "According to feature importance, I dropped some columns from whole set and try my model again."
      ],
      "metadata": {
        "id": "QomG5SGZPkyd"
      }
    },
    {
      "cell_type": "code",
      "source": [
        "df_encoded_new = df_encoded.copy() # taking copy of encoded data to keep it without change.\n",
        "df_encoded_new.drop(drop_col, axis=1, inplace=True)"
      ],
      "metadata": {
        "execution": {
          "iopub.status.busy": "2022-04-22T05:38:12.549825Z",
          "iopub.execute_input": "2022-04-22T05:38:12.550115Z",
          "iopub.status.idle": "2022-04-22T05:38:12.599322Z",
          "shell.execute_reply.started": "2022-04-22T05:38:12.550074Z",
          "shell.execute_reply": "2022-04-22T05:38:12.598429Z"
        },
        "trusted": true,
        "id": "QxmLgi61Pkye"
      },
      "execution_count": null,
      "outputs": []
    },
    {
      "cell_type": "markdown",
      "source": [
        "# Model According to Feature Importance"
      ],
      "metadata": {
        "id": "o4jlHbIFPkye"
      }
    },
    {
      "cell_type": "code",
      "source": [
        "#train-test splitting\n",
        "train_data_enc_new = df_encoded_new[:int(0.7*(len(df_encoded_new)))]\n",
        "test_data_enc_new = df_encoded_new[int(0.7*(len(df_encoded_new))):]\n",
        "\n",
        "target = \"Weekly_Sales\"\n",
        "used_cols2 = [c for c in df_encoded_new.columns.to_list() if c not in [target]] # all columns except price\n",
        "\n",
        "X_train_enc1 = train_data_enc_new[used_cols2]\n",
        "X_test_enc1 = test_data_enc_new[used_cols2]\n",
        "y_train_enc1 = train_data_enc_new[target]\n",
        "y_test_enc1 = test_data_enc_new[target]\n",
        "\n",
        "#droping date from train-test\n",
        "X_train_enc1 = X_train_enc1.drop(['Date'], axis=1)\n",
        "X_test_enc1= X_test_enc1.drop(['Date'], axis=1)"
      ],
      "metadata": {
        "execution": {
          "iopub.status.busy": "2022-04-22T05:38:12.600571Z",
          "iopub.execute_input": "2022-04-22T05:38:12.601316Z",
          "iopub.status.idle": "2022-04-22T05:38:12.643547Z",
          "shell.execute_reply.started": "2022-04-22T05:38:12.601262Z",
          "shell.execute_reply": "2022-04-22T05:38:12.64267Z"
        },
        "trusted": true,
        "id": "9XDHhAMHPkyf"
      },
      "execution_count": null,
      "outputs": []
    },
    {
      "cell_type": "code",
      "source": [
        "rf = RandomForestRegressor(n_estimators=50, random_state=42, n_jobs=-1, max_depth=40,\n",
        "                           max_features = 'log2',min_samples_split = 10)\n",
        "\n",
        "scaler=RobustScaler()\n",
        "pipe = make_pipeline(scaler,rf)\n",
        "\n",
        "pipe.fit(X_train_enc1, y_train_enc1)\n",
        "\n",
        "# predictions on train set\n",
        "y_pred_enc = pipe.predict(X_train_enc1)\n",
        "\n",
        "# predictions on test set\n",
        "y_pred_test_enc = pipe.predict(X_test_enc1)"
      ],
      "metadata": {
        "execution": {
          "iopub.status.busy": "2022-04-22T05:38:12.644884Z",
          "iopub.execute_input": "2022-04-22T05:38:12.645597Z",
          "iopub.status.idle": "2022-04-22T05:38:25.583335Z",
          "shell.execute_reply.started": "2022-04-22T05:38:12.645551Z",
          "shell.execute_reply": "2022-04-22T05:38:25.582507Z"
        },
        "trusted": true,
        "id": "Zomy4QkMPkyo"
      },
      "execution_count": null,
      "outputs": []
    },
    {
      "cell_type": "code",
      "source": [
        "pipe.score(X_test_enc1,y_test_enc1)"
      ],
      "metadata": {
        "execution": {
          "iopub.status.busy": "2022-04-22T05:38:25.584569Z",
          "iopub.execute_input": "2022-04-22T05:38:25.584878Z",
          "iopub.status.idle": "2022-04-22T05:38:26.0136Z",
          "shell.execute_reply.started": "2022-04-22T05:38:25.584839Z",
          "shell.execute_reply": "2022-04-22T05:38:26.012882Z"
        },
        "trusted": true,
        "id": "fvPGnfDuPkyp"
      },
      "execution_count": null,
      "outputs": []
    },
    {
      "cell_type": "code",
      "source": [
        "wmae_test(y_test_enc1, y_pred_test_enc)"
      ],
      "metadata": {
        "execution": {
          "iopub.status.busy": "2022-04-22T05:38:26.015421Z",
          "iopub.execute_input": "2022-04-22T05:38:26.015723Z",
          "iopub.status.idle": "2022-04-22T05:38:26.1176Z",
          "shell.execute_reply.started": "2022-04-22T05:38:26.015682Z",
          "shell.execute_reply": "2022-04-22T05:38:26.116606Z"
        },
        "trusted": true,
        "id": "6VGvHyk3Pkyp"
      },
      "execution_count": null,
      "outputs": []
    },
    {
      "cell_type": "markdown",
      "source": [
        "I found best results with doing feature selection from whole encoded dataset."
      ],
      "metadata": {
        "id": "jAYX_o7PPkyp"
      }
    },
    {
      "cell_type": "markdown",
      "source": [
        "# Model with Dropping Month Column"
      ],
      "metadata": {
        "id": "ZhymRbLsPkyq"
      }
    },
    {
      "cell_type": "markdown",
      "source": [
        "With the same dateset before, I try to model again without month column."
      ],
      "metadata": {
        "id": "E7JXjfkhPkyq"
      }
    },
    {
      "cell_type": "code",
      "source": [
        "df_encoded_new1 = df_encoded.copy()\n",
        "df_encoded_new1.drop(drop_col, axis=1, inplace=True)"
      ],
      "metadata": {
        "execution": {
          "iopub.status.busy": "2022-04-22T05:38:26.119422Z",
          "iopub.execute_input": "2022-04-22T05:38:26.119717Z",
          "iopub.status.idle": "2022-04-22T05:38:26.168473Z",
          "shell.execute_reply.started": "2022-04-22T05:38:26.119678Z",
          "shell.execute_reply": "2022-04-22T05:38:26.167639Z"
        },
        "trusted": true,
        "id": "cuAp9zfRPkyq"
      },
      "execution_count": null,
      "outputs": []
    },
    {
      "cell_type": "code",
      "source": [
        "df_encoded_new1 = df_encoded_new1.drop(['Date'], axis=1)"
      ],
      "metadata": {
        "execution": {
          "iopub.status.busy": "2022-04-22T05:38:26.170115Z",
          "iopub.execute_input": "2022-04-22T05:38:26.170419Z",
          "iopub.status.idle": "2022-04-22T05:38:26.19345Z",
          "shell.execute_reply.started": "2022-04-22T05:38:26.170377Z",
          "shell.execute_reply": "2022-04-22T05:38:26.192601Z"
        },
        "trusted": true,
        "id": "RBWDcBwcPkyr"
      },
      "execution_count": null,
      "outputs": []
    },
    {
      "cell_type": "code",
      "source": [
        "df_encoded_new1 = df_encoded_new1.drop(['month'], axis=1)"
      ],
      "metadata": {
        "execution": {
          "iopub.status.busy": "2022-04-22T05:38:26.194805Z",
          "iopub.execute_input": "2022-04-22T05:38:26.195386Z",
          "iopub.status.idle": "2022-04-22T05:38:26.225548Z",
          "shell.execute_reply.started": "2022-04-22T05:38:26.195341Z",
          "shell.execute_reply": "2022-04-22T05:38:26.224625Z"
        },
        "trusted": true,
        "id": "Vl3_xce-Pkyr"
      },
      "execution_count": null,
      "outputs": []
    },
    {
      "cell_type": "code",
      "source": [
        "#train-test split\n",
        "train_data_enc_new1 = df_encoded_new1[:int(0.7*(len(df_encoded_new1)))]\n",
        "test_data_enc_new1 = df_encoded_new1[int(0.7*(len(df_encoded_new1))):]\n",
        "\n",
        "target = \"Weekly_Sales\"\n",
        "used_cols3 = [c for c in df_encoded_new1.columns.to_list() if c not in [target]] # all columns except price\n",
        "\n",
        "X_train_enc2 = train_data_enc_new1[used_cols3]\n",
        "X_test_enc2 = test_data_enc_new1[used_cols3]\n",
        "y_train_enc2 = train_data_enc_new1[target]\n",
        "y_test_enc2 = test_data_enc_new1[target]"
      ],
      "metadata": {
        "execution": {
          "iopub.status.busy": "2022-04-22T05:38:26.227236Z",
          "iopub.execute_input": "2022-04-22T05:38:26.227677Z",
          "iopub.status.idle": "2022-04-22T05:38:26.252212Z",
          "shell.execute_reply.started": "2022-04-22T05:38:26.227589Z",
          "shell.execute_reply": "2022-04-22T05:38:26.251397Z"
        },
        "trusted": true,
        "id": "8Ap6ZHn5Pkyt"
      },
      "execution_count": null,
      "outputs": []
    },
    {
      "cell_type": "code",
      "source": [
        "#modeling part\n",
        "pipe = make_pipeline(scaler,rf)\n",
        "\n",
        "pipe.fit(X_train_enc2, y_train_enc2)\n",
        "\n",
        "# predictions on train set\n",
        "y_pred_enc = pipe.predict(X_train_enc2)\n",
        "\n",
        "# predictions on test set\n",
        "y_pred_test_enc = pipe.predict(X_test_enc2)"
      ],
      "metadata": {
        "execution": {
          "iopub.status.busy": "2022-04-22T05:38:26.253589Z",
          "iopub.execute_input": "2022-04-22T05:38:26.253965Z",
          "iopub.status.idle": "2022-04-22T05:38:37.811417Z",
          "shell.execute_reply.started": "2022-04-22T05:38:26.253922Z",
          "shell.execute_reply": "2022-04-22T05:38:37.810569Z"
        },
        "trusted": true,
        "id": "hJCRbRm_Pkyu"
      },
      "execution_count": null,
      "outputs": []
    },
    {
      "cell_type": "code",
      "source": [
        "pipe.score(X_test_enc2,y_test_enc2)"
      ],
      "metadata": {
        "execution": {
          "iopub.status.busy": "2022-04-22T05:38:37.812995Z",
          "iopub.execute_input": "2022-04-22T05:38:37.813304Z",
          "iopub.status.idle": "2022-04-22T05:38:38.241434Z",
          "shell.execute_reply.started": "2022-04-22T05:38:37.813262Z",
          "shell.execute_reply": "2022-04-22T05:38:38.240697Z"
        },
        "trusted": true,
        "id": "OSo8aqrpPkyu"
      },
      "execution_count": null,
      "outputs": []
    },
    {
      "cell_type": "code",
      "source": [
        "wmae_test(y_test_enc2, y_pred_test_enc)"
      ],
      "metadata": {
        "execution": {
          "iopub.status.busy": "2022-04-22T05:38:38.242837Z",
          "iopub.execute_input": "2022-04-22T05:38:38.243103Z",
          "iopub.status.idle": "2022-04-22T05:38:38.344527Z",
          "shell.execute_reply.started": "2022-04-22T05:38:38.243064Z",
          "shell.execute_reply": "2022-04-22T05:38:38.34378Z"
        },
        "trusted": true,
        "id": "u9sO8XDkPkyu"
      },
      "execution_count": null,
      "outputs": []
    },
    {
      "cell_type": "markdown",
      "source": [
        "It did not give better results than before."
      ],
      "metadata": {
        "id": "sQc61OexPkyv"
      }
    },
    {
      "cell_type": "code",
      "source": [
        "df_results = pd.DataFrame(columns=[\"Model\", \"Info\",'WMAE']) # result df for showing results together"
      ],
      "metadata": {
        "execution": {
          "iopub.status.busy": "2022-04-22T05:38:38.345915Z",
          "iopub.execute_input": "2022-04-22T05:38:38.346188Z",
          "iopub.status.idle": "2022-04-22T05:38:38.353015Z",
          "shell.execute_reply.started": "2022-04-22T05:38:38.346148Z",
          "shell.execute_reply": "2022-04-22T05:38:38.35223Z"
        },
        "trusted": true,
        "id": "MgKxx59lPkyw"
      },
      "execution_count": null,
      "outputs": []
    },
    {
      "cell_type": "code",
      "source": [
        "# writing results to df\n",
        "df_results = df_results.append({\n",
        "     \"Model\": 'RandomForestRegressor' ,\n",
        "      \"Info\": 'w/out divided holiday columns' ,\n",
        "       'WMAE' : 5850}, ignore_index=True)"
      ],
      "metadata": {
        "execution": {
          "iopub.status.busy": "2022-04-22T05:38:38.354645Z",
          "iopub.execute_input": "2022-04-22T05:38:38.355194Z",
          "iopub.status.idle": "2022-04-22T05:38:38.365997Z",
          "shell.execute_reply.started": "2022-04-22T05:38:38.355154Z",
          "shell.execute_reply": "2022-04-22T05:38:38.365127Z"
        },
        "trusted": true,
        "id": "nXlrLaGvPkyw"
      },
      "execution_count": null,
      "outputs": []
    },
    {
      "cell_type": "code",
      "source": [
        "df_results = df_results.append({\n",
        "     \"Model\": 'RandomForestRegressor' ,\n",
        "      \"Info\": 'w/out month column' ,\n",
        "       'WMAE' : 5494}, ignore_index=True)\n",
        "df_results = df_results.append({\n",
        "     \"Model\": 'RandomForestRegressor' ,\n",
        "      \"Info\": 'whole data' ,\n",
        "       'WMAE' : 2450}, ignore_index=True)\n",
        "df_results = df_results.append({\n",
        "     \"Model\": 'RandomForestRegressor' ,\n",
        "      \"Info\": 'whole data with feature selection' ,\n",
        "       'WMAE' : 1801}, ignore_index=True)\n",
        "df_results = df_results.append({\n",
        "     \"Model\": 'RandomForestRegressor' ,\n",
        "      \"Info\": 'whole data with feature selection w/out month' ,\n",
        "       'WMAE' : 2093}, ignore_index=True)"
      ],
      "metadata": {
        "execution": {
          "iopub.status.busy": "2022-04-22T05:38:38.367556Z",
          "iopub.execute_input": "2022-04-22T05:38:38.368106Z",
          "iopub.status.idle": "2022-04-22T05:38:38.386722Z",
          "shell.execute_reply.started": "2022-04-22T05:38:38.368065Z",
          "shell.execute_reply": "2022-04-22T05:38:38.385883Z"
        },
        "trusted": true,
        "id": "TsbcCuJmPkyx"
      },
      "execution_count": null,
      "outputs": []
    },
    {
      "cell_type": "code",
      "source": [
        "df_results"
      ],
      "metadata": {
        "execution": {
          "iopub.status.busy": "2022-04-22T05:38:38.388389Z",
          "iopub.execute_input": "2022-04-22T05:38:38.389012Z",
          "iopub.status.idle": "2022-04-22T05:38:38.401623Z",
          "shell.execute_reply.started": "2022-04-22T05:38:38.388969Z",
          "shell.execute_reply": "2022-04-22T05:38:38.400687Z"
        },
        "trusted": true,
        "id": "mpBqv6msPkyx"
      },
      "execution_count": null,
      "outputs": []
    },
    {
      "cell_type": "markdown",
      "source": [
        "The best results belongs to whole data set with feature selection. Now, I will try time series models."
      ],
      "metadata": {
        "id": "bTim5poDPkyy"
      }
    },
    {
      "cell_type": "markdown",
      "source": [
        "# Time Series Models"
      ],
      "metadata": {
        "id": "eIo1ciK3Pkyz"
      }
    },
    {
      "cell_type": "code",
      "source": [
        "df.head() # to see my data"
      ],
      "metadata": {
        "execution": {
          "iopub.status.busy": "2022-04-22T05:38:38.403959Z",
          "iopub.execute_input": "2022-04-22T05:38:38.404258Z",
          "iopub.status.idle": "2022-04-22T05:38:38.432817Z",
          "shell.execute_reply.started": "2022-04-22T05:38:38.404217Z",
          "shell.execute_reply": "2022-04-22T05:38:38.431703Z"
        },
        "trusted": true,
        "id": "71rto-4APkyz"
      },
      "execution_count": null,
      "outputs": []
    },
    {
      "cell_type": "code",
      "source": [
        "df[\"Date\"] = pd.to_datetime(df[\"Date\"]) #changing data to datetime for decomposing"
      ],
      "metadata": {
        "execution": {
          "iopub.status.busy": "2022-04-22T05:38:38.434412Z",
          "iopub.execute_input": "2022-04-22T05:38:38.43475Z",
          "iopub.status.idle": "2022-04-22T05:38:38.464842Z",
          "shell.execute_reply.started": "2022-04-22T05:38:38.434693Z",
          "shell.execute_reply": "2022-04-22T05:38:38.464082Z"
        },
        "trusted": true,
        "id": "OQbvMLqFPky0"
      },
      "execution_count": null,
      "outputs": []
    },
    {
      "cell_type": "code",
      "source": [
        "df.set_index('Date', inplace=True) #seting date as index"
      ],
      "metadata": {
        "execution": {
          "iopub.status.busy": "2022-04-22T05:38:38.466875Z",
          "iopub.execute_input": "2022-04-22T05:38:38.467279Z",
          "iopub.status.idle": "2022-04-22T05:38:38.473106Z",
          "shell.execute_reply.started": "2022-04-22T05:38:38.46724Z",
          "shell.execute_reply": "2022-04-22T05:38:38.472328Z"
        },
        "trusted": true,
        "id": "_FgQLVx9Pky6"
      },
      "execution_count": null,
      "outputs": []
    },
    {
      "cell_type": "markdown",
      "source": [
        "# Plotting Sales"
      ],
      "metadata": {
        "id": "XRcP1eqrPky7"
      }
    },
    {
      "cell_type": "code",
      "source": [
        "plt.figure(figsize=(16,6))\n",
        "df['Weekly_Sales'].plot()\n",
        "plt.show()"
      ],
      "metadata": {
        "execution": {
          "iopub.status.busy": "2022-04-22T05:38:38.476337Z",
          "iopub.execute_input": "2022-04-22T05:38:38.476807Z",
          "iopub.status.idle": "2022-04-22T05:38:42.15739Z",
          "shell.execute_reply.started": "2022-04-22T05:38:38.476757Z",
          "shell.execute_reply": "2022-04-22T05:38:42.156602Z"
        },
        "trusted": true,
        "id": "UV4h9sf4Pky7"
      },
      "execution_count": null,
      "outputs": []
    },
    {
      "cell_type": "markdown",
      "source": [
        "In this data, there are lots of same data values. So, I will collect them together as weekly."
      ],
      "metadata": {
        "id": "_iIgWJQPPky8"
      }
    },
    {
      "cell_type": "code",
      "source": [
        "df_week = df.resample('W').mean() #resample data as weekly"
      ],
      "metadata": {
        "execution": {
          "iopub.status.busy": "2022-04-22T05:38:42.158955Z",
          "iopub.execute_input": "2022-04-22T05:38:42.159476Z",
          "iopub.status.idle": "2022-04-22T05:38:42.357707Z",
          "shell.execute_reply.started": "2022-04-22T05:38:42.15943Z",
          "shell.execute_reply": "2022-04-22T05:38:42.356906Z"
        },
        "trusted": true,
        "id": "0yR-mOsAPky-"
      },
      "execution_count": null,
      "outputs": []
    },
    {
      "cell_type": "code",
      "source": [
        "plt.figure(figsize=(16,6))\n",
        "df_week['Weekly_Sales'].plot()\n",
        "plt.title('Average Sales - Weekly')\n",
        "plt.show()"
      ],
      "metadata": {
        "execution": {
          "iopub.status.busy": "2022-04-22T05:38:42.359261Z",
          "iopub.execute_input": "2022-04-22T05:38:42.359532Z",
          "iopub.status.idle": "2022-04-22T05:38:42.682368Z",
          "shell.execute_reply.started": "2022-04-22T05:38:42.359494Z",
          "shell.execute_reply": "2022-04-22T05:38:42.681597Z"
        },
        "trusted": true,
        "id": "yfhVIRsmPky_"
      },
      "execution_count": null,
      "outputs": []
    },
    {
      "cell_type": "markdown",
      "source": [
        "With the collecting data as weekly, I can see average sales clearly. To see monthly pattern , I resampled my data to monthly also."
      ],
      "metadata": {
        "id": "zQHshOnqPky_"
      }
    },
    {
      "cell_type": "code",
      "source": [
        "df_month = df.resample('MS').mean() # resampling as monthly"
      ],
      "metadata": {
        "execution": {
          "iopub.status.busy": "2022-04-22T05:38:42.683893Z",
          "iopub.execute_input": "2022-04-22T05:38:42.684372Z",
          "iopub.status.idle": "2022-04-22T05:38:42.827764Z",
          "shell.execute_reply.started": "2022-04-22T05:38:42.684331Z",
          "shell.execute_reply": "2022-04-22T05:38:42.826965Z"
        },
        "trusted": true,
        "id": "TdiR2RaJPky_"
      },
      "execution_count": null,
      "outputs": []
    },
    {
      "cell_type": "code",
      "source": [
        "plt.figure(figsize=(16,6))\n",
        "df_month['Weekly_Sales'].plot()\n",
        "plt.title('Average Sales - Monthly')\n",
        "plt.show()"
      ],
      "metadata": {
        "execution": {
          "iopub.status.busy": "2022-04-22T05:38:42.82932Z",
          "iopub.execute_input": "2022-04-22T05:38:42.829615Z",
          "iopub.status.idle": "2022-04-22T05:38:43.139534Z",
          "shell.execute_reply.started": "2022-04-22T05:38:42.829576Z",
          "shell.execute_reply": "2022-04-22T05:38:43.138808Z"
        },
        "trusted": true,
        "id": "MbQ8ba-ePkzA"
      },
      "execution_count": null,
      "outputs": []
    },
    {
      "cell_type": "markdown",
      "source": [
        "When I turned data to monthly, I realized that I lost some patterns in weekly data. So, I will continue with weekly resampled data."
      ],
      "metadata": {
        "id": "Zy4PHTzlPkzA"
      }
    },
    {
      "cell_type": "markdown",
      "source": [
        "# To Observe 2-weeks Rolling Mean and Std"
      ],
      "metadata": {
        "id": "9Duhi_7SPkzB"
      }
    },
    {
      "cell_type": "markdown",
      "source": [
        "My data is non-stationary. So, I will try to find more stationary version on it."
      ],
      "metadata": {
        "id": "jdSj4NWiPkzB"
      }
    },
    {
      "cell_type": "code",
      "source": [
        "# finding 2-weeks rolling mean and std\n",
        "roll_mean = df_week['Weekly_Sales'].rolling(window=2, center=False).mean()\n",
        "roll_std = df_week['Weekly_Sales'].rolling(window=2, center=False).std()"
      ],
      "metadata": {
        "execution": {
          "iopub.status.busy": "2022-04-22T05:38:43.150103Z",
          "iopub.execute_input": "2022-04-22T05:38:43.150518Z",
          "iopub.status.idle": "2022-04-22T05:38:43.15837Z",
          "shell.execute_reply.started": "2022-04-22T05:38:43.150467Z",
          "shell.execute_reply": "2022-04-22T05:38:43.157558Z"
        },
        "trusted": true,
        "id": "20iek0V4PkzB"
      },
      "execution_count": null,
      "outputs": []
    },
    {
      "cell_type": "code",
      "source": [
        "fig, ax = plt.subplots(figsize=(13, 6))\n",
        "ax.plot(df_week['Weekly_Sales'], color='blue',label='Average Weekly Sales')\n",
        "ax.plot(roll_mean, color='red', label='Rolling 2-Week Mean')\n",
        "ax.plot(roll_std, color='black', label='Rolling 2-Week Standard Deviation')\n",
        "ax.legend()\n",
        "fig.tight_layout()"
      ],
      "metadata": {
        "execution": {
          "iopub.status.busy": "2022-04-22T05:38:43.160999Z",
          "iopub.execute_input": "2022-04-22T05:38:43.161645Z",
          "iopub.status.idle": "2022-04-22T05:38:43.56638Z",
          "shell.execute_reply.started": "2022-04-22T05:38:43.161599Z",
          "shell.execute_reply": "2022-04-22T05:38:43.565614Z"
        },
        "trusted": true,
        "id": "2EX0iN8zPkzC"
      },
      "execution_count": null,
      "outputs": []
    },
    {
      "cell_type": "markdown",
      "source": [
        "# Adfuller Test to Make Sure"
      ],
      "metadata": {
        "id": "Bvkzozg7PkzC"
      }
    },
    {
      "cell_type": "code",
      "source": [
        "adfuller(df_week['Weekly_Sales'])"
      ],
      "metadata": {
        "execution": {
          "iopub.status.busy": "2022-04-22T05:38:43.567716Z",
          "iopub.execute_input": "2022-04-22T05:38:43.568574Z",
          "iopub.status.idle": "2022-04-22T05:38:43.589456Z",
          "shell.execute_reply.started": "2022-04-22T05:38:43.568528Z",
          "shell.execute_reply": "2022-04-22T05:38:43.588664Z"
        },
        "trusted": true,
        "id": "YxaVGntFPkzC"
      },
      "execution_count": null,
      "outputs": []
    },
    {
      "cell_type": "markdown",
      "source": [
        "From test and my observations my data is not stationary. So, I will try to find more stationary version of it."
      ],
      "metadata": {
        "id": "o6Ep2s7rPkzD"
      }
    },
    {
      "cell_type": "markdown",
      "source": [
        "# Train - Test Split of Weekly Data"
      ],
      "metadata": {
        "id": "tyB1y-U4PkzD"
      }
    },
    {
      "cell_type": "markdown",
      "source": [
        "To take train-test splits continuosly, I split them manually, not random."
      ],
      "metadata": {
        "id": "ijxHzvizPkzD"
      }
    },
    {
      "cell_type": "code",
      "source": [
        "train_data = df_week[:int(0.7*(len(df_week)))]\n",
        "test_data = df_week[int(0.7*(len(df_week))):]\n",
        "\n",
        "print('Train:', train_data.shape)\n",
        "print('Test:', test_data.shape)"
      ],
      "metadata": {
        "execution": {
          "iopub.status.busy": "2022-04-22T05:38:43.590883Z",
          "iopub.execute_input": "2022-04-22T05:38:43.591175Z",
          "iopub.status.idle": "2022-04-22T05:38:43.599757Z",
          "shell.execute_reply.started": "2022-04-22T05:38:43.591137Z",
          "shell.execute_reply": "2022-04-22T05:38:43.598878Z"
        },
        "trusted": true,
        "id": "CR6seBJ8PkzD"
      },
      "execution_count": null,
      "outputs": []
    },
    {
      "cell_type": "code",
      "source": [
        "target = \"Weekly_Sales\"\n",
        "used_cols = [c for c in df_week.columns.to_list() if c not in [target]] # all columns except price\n",
        "\n",
        "# assigning train-test X-y values\n",
        "\n",
        "X_train = train_data[used_cols]\n",
        "X_test = test_data[used_cols]\n",
        "y_train = train_data[target]\n",
        "y_test = test_data[target]"
      ],
      "metadata": {
        "execution": {
          "iopub.status.busy": "2022-04-22T05:38:43.603239Z",
          "iopub.execute_input": "2022-04-22T05:38:43.603712Z",
          "iopub.status.idle": "2022-04-22T05:38:43.61268Z",
          "shell.execute_reply.started": "2022-04-22T05:38:43.603666Z",
          "shell.execute_reply": "2022-04-22T05:38:43.611789Z"
        },
        "trusted": true,
        "id": "GU-dHY7EPkzE"
      },
      "execution_count": null,
      "outputs": []
    },
    {
      "cell_type": "code",
      "source": [
        "train_data['Weekly_Sales'].plot(figsize=(20,8), title= 'Weekly_Sales', fontsize=14)\n",
        "test_data['Weekly_Sales'].plot(figsize=(20,8), title= 'Weekly_Sales', fontsize=14)\n",
        "plt.show()"
      ],
      "metadata": {
        "execution": {
          "iopub.status.busy": "2022-04-22T05:38:43.614293Z",
          "iopub.execute_input": "2022-04-22T05:38:43.614618Z",
          "iopub.status.idle": "2022-04-22T05:38:43.975503Z",
          "shell.execute_reply.started": "2022-04-22T05:38:43.61458Z",
          "shell.execute_reply": "2022-04-22T05:38:43.974759Z"
        },
        "trusted": true,
        "id": "8lpSfTz6PkzE"
      },
      "execution_count": null,
      "outputs": []
    },
    {
      "cell_type": "markdown",
      "source": [
        "Blue line represents my train data, yellow is test data."
      ],
      "metadata": {
        "id": "GJg_qXbGPkzE"
      }
    },
    {
      "cell_type": "markdown",
      "source": [
        "# Decomposing Weekly Data to Observe Seasonality"
      ],
      "metadata": {
        "id": "fsR-D9PJPkzF"
      }
    },
    {
      "cell_type": "code",
      "source": [
        "decomposed = decompose(df_week['Weekly_Sales'].values, 'additive', m=20) #decomposing of weekly data"
      ],
      "metadata": {
        "execution": {
          "iopub.status.busy": "2022-04-22T05:38:43.977079Z",
          "iopub.execute_input": "2022-04-22T05:38:43.977378Z",
          "iopub.status.idle": "2022-04-22T05:38:43.983741Z",
          "shell.execute_reply.started": "2022-04-22T05:38:43.977337Z",
          "shell.execute_reply": "2022-04-22T05:38:43.982803Z"
        },
        "trusted": true,
        "id": "HWmrYatbPkzF"
      },
      "execution_count": null,
      "outputs": []
    },
    {
      "cell_type": "code",
      "source": [
        "decomposed_plot(decomposed, figure_kwargs={'figsize': (16, 10)})\n",
        "plt.show()"
      ],
      "metadata": {
        "execution": {
          "iopub.status.busy": "2022-04-22T05:38:43.985294Z",
          "iopub.execute_input": "2022-04-22T05:38:43.985875Z",
          "iopub.status.idle": "2022-04-22T05:38:44.485369Z",
          "shell.execute_reply.started": "2022-04-22T05:38:43.985686Z",
          "shell.execute_reply": "2022-04-22T05:38:44.48463Z"
        },
        "trusted": true,
        "id": "XWzNjV2VPkzF"
      },
      "execution_count": null,
      "outputs": []
    },
    {
      "cell_type": "markdown",
      "source": [
        "From the graphs above, every 20 step seasonality converges to beginning point. This helps me to tune my model."
      ],
      "metadata": {
        "id": "qNHV2K15PkzG"
      }
    },
    {
      "cell_type": "markdown",
      "source": [
        "# Trying To Make Data More Stationary"
      ],
      "metadata": {
        "id": "H8mzIINKPkzG"
      }
    },
    {
      "cell_type": "markdown",
      "source": [
        "Now, I will try to make my data more stationary. To do this, I will try model with differenced, logged and shifted data."
      ],
      "metadata": {
        "id": "ykvh6updPkzG"
      }
    },
    {
      "cell_type": "markdown",
      "source": [
        "## 1. Difference"
      ],
      "metadata": {
        "id": "d3V0DE2DPkzH"
      }
    },
    {
      "cell_type": "code",
      "source": [
        "df_week_diff = df_week['Weekly_Sales'].diff().dropna() #creating difference values"
      ],
      "metadata": {
        "execution": {
          "iopub.status.busy": "2022-04-22T05:38:44.486554Z",
          "iopub.execute_input": "2022-04-22T05:38:44.487466Z",
          "iopub.status.idle": "2022-04-22T05:38:44.494642Z",
          "shell.execute_reply.started": "2022-04-22T05:38:44.487412Z",
          "shell.execute_reply": "2022-04-22T05:38:44.493792Z"
        },
        "trusted": true,
        "id": "P0443LqUPkzH"
      },
      "execution_count": null,
      "outputs": []
    },
    {
      "cell_type": "code",
      "source": [
        "# taking mean and std of differenced data\n",
        "diff_roll_mean = df_week_diff.rolling(window=2, center=False).mean()\n",
        "diff_roll_std = df_week_diff.rolling(window=2, center=False).std()"
      ],
      "metadata": {
        "execution": {
          "iopub.status.busy": "2022-04-22T05:38:44.496406Z",
          "iopub.execute_input": "2022-04-22T05:38:44.49671Z",
          "iopub.status.idle": "2022-04-22T05:38:44.506499Z",
          "shell.execute_reply.started": "2022-04-22T05:38:44.496672Z",
          "shell.execute_reply": "2022-04-22T05:38:44.505675Z"
        },
        "trusted": true,
        "id": "3HLCnF6UPkzH"
      },
      "execution_count": null,
      "outputs": []
    },
    {
      "cell_type": "code",
      "source": [
        "fig, ax = plt.subplots(figsize=(13, 6))\n",
        "ax.plot(df_week_diff, color='blue',label='Difference')\n",
        "ax.plot(diff_roll_mean, color='red', label='Rolling Mean')\n",
        "ax.plot(diff_roll_std, color='black', label='Rolling Standard Deviation')\n",
        "ax.legend()\n",
        "fig.tight_layout()"
      ],
      "metadata": {
        "execution": {
          "iopub.status.busy": "2022-04-22T05:38:44.50814Z",
          "iopub.execute_input": "2022-04-22T05:38:44.508447Z",
          "iopub.status.idle": "2022-04-22T05:38:44.950399Z",
          "shell.execute_reply.started": "2022-04-22T05:38:44.508397Z",
          "shell.execute_reply": "2022-04-22T05:38:44.949579Z"
        },
        "trusted": true,
        "id": "0E1yn_1nPkzI"
      },
      "execution_count": null,
      "outputs": []
    },
    {
      "cell_type": "markdown",
      "source": [
        "## 2.Shift"
      ],
      "metadata": {
        "id": "V4IxWk9gPkzI"
      }
    },
    {
      "cell_type": "code",
      "source": [
        "df_week_lag = df_week['Weekly_Sales'].shift().dropna() #shifting the data"
      ],
      "metadata": {
        "execution": {
          "iopub.status.busy": "2022-04-22T05:38:44.951967Z",
          "iopub.execute_input": "2022-04-22T05:38:44.952716Z",
          "iopub.status.idle": "2022-04-22T05:38:44.958685Z",
          "shell.execute_reply.started": "2022-04-22T05:38:44.952671Z",
          "shell.execute_reply": "2022-04-22T05:38:44.957802Z"
        },
        "trusted": true,
        "id": "7o14JH3hPkzI"
      },
      "execution_count": null,
      "outputs": []
    },
    {
      "cell_type": "code",
      "source": [
        "lag_roll_mean = df_week_lag.rolling(window=2, center=False).mean()\n",
        "lag_roll_std = df_week_lag.rolling(window=2, center=False).std()"
      ],
      "metadata": {
        "execution": {
          "iopub.status.busy": "2022-04-22T05:38:44.960362Z",
          "iopub.execute_input": "2022-04-22T05:38:44.96065Z",
          "iopub.status.idle": "2022-04-22T05:38:44.970318Z",
          "shell.execute_reply.started": "2022-04-22T05:38:44.960603Z",
          "shell.execute_reply": "2022-04-22T05:38:44.969462Z"
        },
        "trusted": true,
        "id": "MF8LYY5SPkzJ"
      },
      "execution_count": null,
      "outputs": []
    },
    {
      "cell_type": "code",
      "source": [
        "fig, ax = plt.subplots(figsize=(13, 6))\n",
        "ax.plot(df_week_lag, color='blue',label='Difference')\n",
        "ax.plot(lag_roll_mean, color='red', label='Rolling Mean')\n",
        "ax.plot(lag_roll_std, color='black', label='Rolling Standard Deviation')\n",
        "ax.legend()\n",
        "fig.tight_layout()"
      ],
      "metadata": {
        "execution": {
          "iopub.status.busy": "2022-04-22T05:38:44.971852Z",
          "iopub.execute_input": "2022-04-22T05:38:44.972159Z",
          "iopub.status.idle": "2022-04-22T05:38:45.371029Z",
          "shell.execute_reply.started": "2022-04-22T05:38:44.972111Z",
          "shell.execute_reply": "2022-04-22T05:38:45.370287Z"
        },
        "trusted": true,
        "id": "KL2tSBX6PkzJ"
      },
      "execution_count": null,
      "outputs": []
    },
    {
      "cell_type": "markdown",
      "source": [
        "## 3.Log"
      ],
      "metadata": {
        "id": "unkUBKO4PkzJ"
      }
    },
    {
      "cell_type": "code",
      "source": [
        "logged_week = np.log1p(df_week['Weekly_Sales']).dropna() #taking log of data"
      ],
      "metadata": {
        "execution": {
          "iopub.status.busy": "2022-04-22T05:38:45.372184Z",
          "iopub.execute_input": "2022-04-22T05:38:45.372943Z",
          "iopub.status.idle": "2022-04-22T05:38:45.378972Z",
          "shell.execute_reply.started": "2022-04-22T05:38:45.3729Z",
          "shell.execute_reply": "2022-04-22T05:38:45.377934Z"
        },
        "trusted": true,
        "id": "p16w0ZyEPkzK"
      },
      "execution_count": null,
      "outputs": []
    },
    {
      "cell_type": "code",
      "source": [
        "log_roll_mean = logged_week.rolling(window=2, center=False).mean()\n",
        "log_roll_std = logged_week.rolling(window=2, center=False).std()"
      ],
      "metadata": {
        "execution": {
          "iopub.status.busy": "2022-04-22T05:38:45.38032Z",
          "iopub.execute_input": "2022-04-22T05:38:45.38095Z",
          "iopub.status.idle": "2022-04-22T05:38:45.390052Z",
          "shell.execute_reply.started": "2022-04-22T05:38:45.380902Z",
          "shell.execute_reply": "2022-04-22T05:38:45.389309Z"
        },
        "trusted": true,
        "id": "u02bVT9xPkzK"
      },
      "execution_count": null,
      "outputs": []
    },
    {
      "cell_type": "code",
      "source": [
        "fig, ax = plt.subplots(figsize=(13, 6))\n",
        "ax.plot(logged_week, color='blue',label='Logged')\n",
        "ax.plot(log_roll_mean, color='red', label='Rolling Mean')\n",
        "ax.plot(log_roll_std, color='black', label='Rolling Standard Deviation')\n",
        "ax.legend()\n",
        "fig.tight_layout()"
      ],
      "metadata": {
        "execution": {
          "iopub.status.busy": "2022-04-22T05:38:45.392632Z",
          "iopub.execute_input": "2022-04-22T05:38:45.393774Z",
          "iopub.status.idle": "2022-04-22T05:38:45.775087Z",
          "shell.execute_reply.started": "2022-04-22T05:38:45.393719Z",
          "shell.execute_reply": "2022-04-22T05:38:45.774296Z"
        },
        "trusted": true,
        "id": "JzVutKBNPkzK"
      },
      "execution_count": null,
      "outputs": []
    },
    {
      "cell_type": "markdown",
      "source": [
        "# Auto-ARIMA MODEL"
      ],
      "metadata": {
        "id": "354sXR21PkzL"
      }
    },
    {
      "cell_type": "markdown",
      "source": [
        "I tried my data without any changes, then tried with shifting, taking log and difference version of data. Differenced data gave best results. So, I decided to take difference and use this data."
      ],
      "metadata": {
        "id": "c9TwikiRPkzL"
      }
    },
    {
      "cell_type": "markdown",
      "source": [
        "# Train-Test Split"
      ],
      "metadata": {
        "id": "Xf5PV-jEPkzL"
      }
    },
    {
      "cell_type": "code",
      "source": [
        "train_data_diff = df_week_diff [:int(0.7*(len(df_week_diff )))]\n",
        "test_data_diff = df_week_diff [int(0.7*(len(df_week_diff ))):]"
      ],
      "metadata": {
        "execution": {
          "iopub.status.busy": "2022-04-22T05:38:45.77626Z",
          "iopub.execute_input": "2022-04-22T05:38:45.777036Z",
          "iopub.status.idle": "2022-04-22T05:38:45.78327Z",
          "shell.execute_reply.started": "2022-04-22T05:38:45.776984Z",
          "shell.execute_reply": "2022-04-22T05:38:45.782288Z"
        },
        "trusted": true,
        "id": "gGB8h5ISPkzM"
      },
      "execution_count": null,
      "outputs": []
    },
    {
      "cell_type": "code",
      "source": [
        "# train_data = train_data['Weekly_Sales']\n",
        "# test_data = test_data['Weekly_Sales']\n",
        "\n",
        "model_auto_arima = auto_arima(train_data_diff, trace=True,start_p=0, start_q=0, start_P=0, start_Q=0,\n",
        "                  max_p=20, max_q=20, max_P=20, max_Q=20, seasonal=True,maxiter=200,\n",
        "                  information_criterion='aic',stepwise=False, suppress_warnings=True, D=1, max_D=10,\n",
        "                  error_action='ignore',approximation = False)\n",
        "model_auto_arima.fit(train_data_diff)"
      ],
      "metadata": {
        "execution": {
          "iopub.status.busy": "2022-04-22T05:38:45.785074Z",
          "iopub.execute_input": "2022-04-22T05:38:45.785391Z",
          "iopub.status.idle": "2022-04-22T05:38:51.89804Z",
          "shell.execute_reply.started": "2022-04-22T05:38:45.785347Z",
          "shell.execute_reply": "2022-04-22T05:38:51.897182Z"
        },
        "trusted": true,
        "id": "qh9BwZCAPkzM"
      },
      "execution_count": null,
      "outputs": []
    },
    {
      "cell_type": "code",
      "source": [
        "y_pred = model_auto_arima.predict(n_periods=len(test_data_diff))\n",
        "y_pred = pd.DataFrame(y_pred,index = test_data.index,columns=['Prediction'])\n",
        "plt.figure(figsize=(20,6))\n",
        "plt.title('Prediction of Weekly Sales Using Auto-ARIMA', fontsize=20)\n",
        "plt.plot(train_data_diff, label='Train')\n",
        "plt.plot(test_data_diff, label='Test')\n",
        "plt.plot(y_pred, label='Prediction of ARIMA')\n",
        "plt.legend(loc='best')\n",
        "plt.xlabel('Date', fontsize=14)\n",
        "plt.ylabel('Weekly Sales', fontsize=14)\n",
        "plt.show()"
      ],
      "metadata": {
        "execution": {
          "iopub.status.busy": "2022-04-22T05:38:51.899397Z",
          "iopub.execute_input": "2022-04-22T05:38:51.899921Z",
          "iopub.status.idle": "2022-04-22T05:38:52.434209Z",
          "shell.execute_reply.started": "2022-04-22T05:38:51.899877Z",
          "shell.execute_reply": "2022-04-22T05:38:52.433486Z"
        },
        "trusted": true,
        "id": "5RKIb28EPkzN"
      },
      "execution_count": null,
      "outputs": []
    },
    {
      "cell_type": "markdown",
      "source": [
        "I do not like the pattern of predictions so I decided to try another model."
      ],
      "metadata": {
        "id": "Wqd6HR9yPkzN"
      }
    },
    {
      "cell_type": "markdown",
      "source": [
        "# ExponentialSmoothing"
      ],
      "metadata": {
        "id": "TtDsQ4UcPkzO"
      }
    },
    {
      "cell_type": "markdown",
      "source": [
        "I checked suitable Holt-Winters models according tp my data. Exponential Smooting are used when data has trend, and it flattens the trend. The damped trend method adds a damping parameter so, the trend converges to a constant value in the future."
      ],
      "metadata": {
        "id": "YDFtOngWPkzO"
      }
    },
    {
      "cell_type": "markdown",
      "source": [
        "My difference data has some minus and zero values, so I used additive seasonal and trend instead of multiplicative. Seasonal periods are chosen from the decomposed graphs above. For tuning the model with iterations take too much time so, I changed and tried model for different parameters and found the best parameters and fitted them to model."
      ],
      "metadata": {
        "id": "3dPVcA1EPkzO"
      }
    },
    {
      "cell_type": "code",
      "source": [
        "model_holt_winters = ExponentialSmoothing(train_data_diff, seasonal_periods=20, seasonal='additive',\n",
        "                                           trend='additive',damped=True).fit() #Taking additive trend and seasonality.\n",
        "y_pred = model_holt_winters.forecast(len(test_data_diff))# Predict the test data\n",
        "\n",
        "#Visualize train, test and predicted data.\n",
        "plt.figure(figsize=(20,6))\n",
        "plt.title('Prediction of Weekly Sales using ExponentialSmoothing', fontsize=20)\n",
        "plt.plot(train_data_diff, label='Train')\n",
        "plt.plot(test_data_diff, label='Test')\n",
        "plt.plot(y_pred, label='Prediction using ExponentialSmoothing')\n",
        "plt.legend(loc='best')\n",
        "plt.xlabel('Date', fontsize=14)\n",
        "plt.ylabel('Weekly Sales', fontsize=14)\n",
        "plt.show()\n"
      ],
      "metadata": {
        "execution": {
          "iopub.status.busy": "2022-04-22T05:38:52.438389Z",
          "iopub.execute_input": "2022-04-22T05:38:52.440476Z",
          "iopub.status.idle": "2022-04-22T05:38:52.98293Z",
          "shell.execute_reply.started": "2022-04-22T05:38:52.440433Z",
          "shell.execute_reply": "2022-04-22T05:38:52.98218Z"
        },
        "trusted": true,
        "id": "urH_WRG3PkzO"
      },
      "execution_count": null,
      "outputs": []
    },
    {
      "cell_type": "code",
      "source": [
        "wmae_test(test_data_diff, y_pred)"
      ],
      "metadata": {
        "execution": {
          "iopub.status.busy": "2022-04-22T05:38:52.98415Z",
          "iopub.execute_input": "2022-04-22T05:38:52.985031Z",
          "iopub.status.idle": "2022-04-22T05:38:52.993858Z",
          "shell.execute_reply.started": "2022-04-22T05:38:52.984985Z",
          "shell.execute_reply": "2022-04-22T05:38:52.993043Z"
        },
        "trusted": true,
        "id": "89sC0DQmPkzP"
      },
      "execution_count": null,
      "outputs": []
    },
    {
      "cell_type": "markdown",
      "source": [
        "At the end, I found best results for my data with Exponential Smoothing Model."
      ],
      "metadata": {
        "id": "Gdltn7zpPkzP"
      }
    },
    {
      "cell_type": "markdown",
      "source": [
        "My best result for this project is 821. According to sales amounts this value is roughly around 4-5% error. If we can take our average sales and take percentage of 821 errors, it gives 4-5% roughly."
      ],
      "metadata": {
        "id": "zSuvAsR3PkzP"
      }
    }
  ]
}